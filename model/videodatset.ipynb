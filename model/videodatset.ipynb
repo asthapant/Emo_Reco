{
  "nbformat": 4,
  "nbformat_minor": 0,
  "metadata": {
    "colab": {
      "name": "Untitled7.ipynb",
      "provenance": [],
      "collapsed_sections": []
    },
    "kernelspec": {
      "name": "python3",
      "display_name": "Python 3"
    },
    "language_info": {
      "name": "python"
    }
  },
  "cells": [
    {
      "cell_type": "code",
      "metadata": {
        "id": "ChAy7Db7YxLS"
      },
      "source": [
        "import cv2\n",
        "import numpy as np\n",
        "import os\n",
        "import shutil\n",
        "import matplotlib.pyplot as plt\n",
        "import argparse\n",
        "import pandas as pd\n"
      ],
      "execution_count": null,
      "outputs": []
    },
    {
      "cell_type": "code",
      "metadata": {
        "colab": {
          "base_uri": "https://localhost:8080/"
        },
        "id": "ad1ldF4AY6Tq",
        "outputId": "9f2b3eba-49df-4076-e07e-35615c0f132a"
      },
      "source": [
        "!wget https://raw.githubusercontent.com/opencv/opencv/master/data/haarcascades/haarcascade_eye.xml"
      ],
      "execution_count": null,
      "outputs": [
        {
          "output_type": "stream",
          "text": [
            "--2021-07-06 01:05:38--  https://raw.githubusercontent.com/opencv/opencv/master/data/haarcascades/haarcascade_eye.xml\n",
            "Resolving raw.githubusercontent.com (raw.githubusercontent.com)... 185.199.108.133, 185.199.109.133, 185.199.110.133, ...\n",
            "Connecting to raw.githubusercontent.com (raw.githubusercontent.com)|185.199.108.133|:443... connected.\n",
            "HTTP request sent, awaiting response... 200 OK\n",
            "Length: 341406 (333K) [text/plain]\n",
            "Saving to: ‘haarcascade_eye.xml’\n",
            "\n",
            "haarcascade_eye.xml 100%[===================>] 333.40K  --.-KB/s    in 0.04s   \n",
            "\n",
            "2021-07-06 01:05:39 (8.63 MB/s) - ‘haarcascade_eye.xml’ saved [341406/341406]\n",
            "\n"
          ],
          "name": "stdout"
        }
      ]
    },
    {
      "cell_type": "code",
      "metadata": {
        "colab": {
          "base_uri": "https://localhost:8080/"
        },
        "id": "j-D1QoETY8Cb",
        "outputId": "655c7054-4b55-40d2-bd50-562d86506796"
      },
      "source": [
        "!wget https://raw.githubusercontent.com/opencv/opencv/master/data/haarcascades/haarcascade_frontalface_default.xml\n"
      ],
      "execution_count": null,
      "outputs": [
        {
          "output_type": "stream",
          "text": [
            "--2021-07-06 01:05:41--  https://raw.githubusercontent.com/opencv/opencv/master/data/haarcascades/haarcascade_frontalface_default.xml\n",
            "Resolving raw.githubusercontent.com (raw.githubusercontent.com)... 185.199.108.133, 185.199.109.133, 185.199.110.133, ...\n",
            "Connecting to raw.githubusercontent.com (raw.githubusercontent.com)|185.199.108.133|:443... connected.\n",
            "HTTP request sent, awaiting response... 200 OK\n",
            "Length: 930127 (908K) [text/plain]\n",
            "Saving to: ‘haarcascade_frontalface_default.xml’\n",
            "\n",
            "\r          haarcasca   0%[                    ]       0  --.-KB/s               \rhaarcascade_frontal 100%[===================>] 908.33K  --.-KB/s    in 0.05s   \n",
            "\n",
            "2021-07-06 01:05:41 (18.6 MB/s) - ‘haarcascade_frontalface_default.xml’ saved [930127/930127]\n",
            "\n"
          ],
          "name": "stdout"
        }
      ]
    },
    {
      "cell_type": "code",
      "metadata": {
        "id": "9ySh5rSjZA2s"
      },
      "source": [
        "eye_cascade = cv2.CascadeClassifier('/content/haarcascade_eye.xml')\n",
        "face_cascade = cv2.CascadeClassifier('/content/haarcascade_frontalface_default.xml')\n",
        "emotions = [\"Angry\", \"Disgust\", \"Fear\", \"Happy\", \"Sad\", \"Surprise\", \"Neutral\"]"
      ],
      "execution_count": null,
      "outputs": []
    },
    {
      "cell_type": "code",
      "metadata": {
        "id": "fT7EAbUrZGRp"
      },
      "source": [
        "def rotate(image):\n",
        "  l1=[]\n",
        "  eyes = eye_cascade.detectMultiScale(image)\n",
        "  for (ex,ey,ew,eh) in eyes:\n",
        "      l1.append((ex+ew/2,ey+eh/2))\n",
        "\n",
        "  if(len(l1)==2):\n",
        "    dist_x = l1[1][0]-l1[0][0]\n",
        "    dist_y = l1[1][1] - l1[0][1]\n",
        "    if dist_x<0:\n",
        "      dist_y = -dist_y\n",
        "    dist_x = np.abs(dist_x)\n",
        "    angle = np.arctan(dist_y/(dist_x+1e-8)) * 180/3.14\n",
        "    M = cv2.getRotationMatrix2D((240, 240), angle, 1.0)\n",
        "    image = cv2.warpAffine(image, M,(480,480))\n",
        "  return image\n"
      ],
      "execution_count": null,
      "outputs": []
    },
    {
      "cell_type": "code",
      "metadata": {
        "id": "wBI_yAQyZWeX"
      },
      "source": [
        "def crop(image,x_factor=2.1,y_factor=3.2):\n",
        "  l1=[]\n",
        "  eyes = eye_cascade.detectMultiScale(image)\n",
        "  for (ex,ey,ew,eh) in eyes:\n",
        "      l1.append((ex+ew/2,ey+eh/2))\n",
        "  if(len(l1)==2):\n",
        "    dist = np.sqrt((l1[0][0]-l1[1][0])**2+(l1[0][1]-l1[1][1])**2)\n",
        "    center_x = image.shape[1]//2\n",
        "    center_y = image.shape[0]//2\n",
        "    shift_x = int(dist*x_factor)//2\n",
        "    shift_y = int(dist*y_factor)//2\n",
        "    start_x = center_x - shift_x\n",
        "    start_x = max(start_x,0)\n",
        "    end_x = center_x+shift_x\n",
        "    end_x = min(end_x,image.shape[1])\n",
        "    start_y = center_y - shift_y\n",
        "    start_y = max(start_y,0)\n",
        "    end_y = center_y + shift_y\n",
        "    end_y = min(end_y,image.shape[0])\n",
        "    image = image[start_y:end_y,start_x:end_x]\n",
        "  return image"
      ],
      "execution_count": null,
      "outputs": []
    },
    {
      "cell_type": "code",
      "metadata": {
        "id": "PkqBSvaIZdvJ"
      },
      "source": [
        "def extract(video,folder,n):\n",
        "    vidcap = cv2.VideoCapture(video)\n",
        "    total_frames = vidcap.get(cv2.CAP_PROP_FRAME_COUNT)\n",
        "    frames_step = total_frames//n\n",
        "    j=0\n",
        "    for i in range(n):\n",
        "        #here, we set the parameter 1 which is the frame number to the frame (i*frames_step)\n",
        "        vidcap.set(1,i*frames_step)\n",
        "        success,image = vidcap.read()\n",
        "        faces = face_cascade.detectMultiScale(image)\n",
        "        if(len(faces)==1):\n",
        "            for (x,y,w,h) in faces:\n",
        "                image = image[y:y+h,x:x+h]\n",
        "            image = cv2.resize(image,(480,480), interpolation = cv2.INTER_AREA)\n",
        "            image = rotate(image)\n",
        "            image = crop(image)\n",
        "            image = cv2.resize(image,(48,48), interpolation = cv2.INTER_AREA)\n",
        "            image_path = folder+\"/\"+str(i)+\".jpg\"\n",
        "            cv2.imwrite(image_path,image)\n",
        "            j+=1\n",
        "    vidcap.release()\n",
        "    return j"
      ],
      "execution_count": null,
      "outputs": []
    },
    {
      "cell_type": "code",
      "metadata": {
        "id": "dcL0dEjFZkmp"
      },
      "source": [
        "def main_func(src_path,dest_path,n):\n",
        "    if os.path.exists(src_path) ==False:\n",
        "        print(\"No such Folder exists. Check your source folder\")\n",
        "        exit(0)\n",
        "    if os.path.exists(dest_path)==False:\n",
        "        os.mkdir(dest_path)\n",
        "    subjects = os.listdir(src_path)\n",
        "    for subject in subjects:\n",
        "        i=0\n",
        "        j=0\n",
        "        print(\"Extracting Frames for \"+subject+\"...\")\n",
        "        dest_subject = dest_path+\"/\"+subject\n",
        "        os.mkdir(dest_subject)\n",
        "        src_subject = src_path+\"/\"+subject\n",
        "        vid_loc = src_subject+\"/avi\"\n",
        "        emotion_loc = src_subject+\"/emotion\"\n",
        "        videos = os.listdir(vid_loc)\n",
        "        for video in videos:\n",
        "            i+=1\n",
        "            src_vid = vid_loc+\"/\"+video\n",
        "            dest_vid = dest_subject+\"/\"+video[:-4]\n",
        "            os.mkdir(dest_vid)\n",
        "            dest_vid_image = dest_vid+\"/frames\"\n",
        "            os.mkdir(dest_vid_image)\n",
        "            shutil.copyfile(emotion_loc+\"/\"+video[:-4]+\".txt\", dest_vid+\"/emotion.txt\")\n",
        "            num = extract(src_vid,dest_vid_image,n)\n",
        "            j+=num\n",
        "        print(i,\"Videos Found,\",j,\"Frames Extracted\")\n",
        "    print(\"Extraction Completed!\")"
      ],
      "execution_count": null,
      "outputs": []
    },
    {
      "cell_type": "code",
      "metadata": {
        "colab": {
          "base_uri": "https://localhost:8080/"
        },
        "id": "sx4EEeUlkwEI",
        "outputId": "6d485a5a-7fee-4efd-b688-97a40b914b35"
      },
      "source": [
        "from google.colab import drive\n",
        "drive.mount('/content/drive')"
      ],
      "execution_count": null,
      "outputs": [
        {
          "output_type": "stream",
          "text": [
            "Mounted at /content/drive\n"
          ],
          "name": "stdout"
        }
      ]
    },
    {
      "cell_type": "code",
      "metadata": {
        "id": "3SqxqFr5dxrI"
      },
      "source": [
        "src='/content/drive/MyDrive/BAUM-2_Dataset'\n",
        "des='/content/drive/MyDrive/Extracted'\n",
        "frames=12"
      ],
      "execution_count": null,
      "outputs": []
    },
    {
      "cell_type": "code",
      "metadata": {
        "colab": {
          "base_uri": "https://localhost:8080/"
        },
        "id": "5qFl28wNZpJq",
        "outputId": "3fcfe6f2-5b2d-4310-d537-6729b1620836"
      },
      "source": [
        "main_func(src,des,frames)"
      ],
      "execution_count": null,
      "outputs": [
        {
          "output_type": "stream",
          "text": [
            "Extracting Frames for S281...\n",
            "3 Videos Found, 36 Frames Extracted\n",
            "Extracting Frames for S279...\n",
            "2 Videos Found, 24 Frames Extracted\n",
            "Extracting Frames for S278...\n",
            "3 Videos Found, 36 Frames Extracted\n",
            "Extracting Frames for S282...\n",
            "4 Videos Found, 48 Frames Extracted\n",
            "Extracting Frames for S283...\n",
            "1 Videos Found, 12 Frames Extracted\n",
            "Extracting Frames for S277...\n",
            "1 Videos Found, 12 Frames Extracted\n",
            "Extracting Frames for S280...\n",
            "9 Videos Found, 107 Frames Extracted\n",
            "Extracting Frames for S286...\n",
            "2 Videos Found, 24 Frames Extracted\n",
            "Extracting Frames for S285...\n",
            "2 Videos Found, 24 Frames Extracted\n",
            "Extracting Frames for S284...\n",
            "2 Videos Found, 24 Frames Extracted\n",
            "Extracting Frames for S268...\n",
            "5 Videos Found, 57 Frames Extracted\n",
            "Extracting Frames for S274...\n",
            "7 Videos Found, 84 Frames Extracted\n",
            "Extracting Frames for S270...\n",
            "15 Videos Found, 169 Frames Extracted\n",
            "Extracting Frames for S272...\n",
            "2 Videos Found, 21 Frames Extracted\n",
            "Extracting Frames for S269...\n",
            "9 Videos Found, 102 Frames Extracted\n",
            "Extracting Frames for S275...\n",
            "14 Videos Found, 164 Frames Extracted\n",
            "Extracting Frames for S273...\n",
            "11 Videos Found, 132 Frames Extracted\n",
            "Extracting Frames for S267...\n",
            "1 Videos Found, 12 Frames Extracted\n",
            "Extracting Frames for S271...\n",
            "14 Videos Found, 158 Frames Extracted\n",
            "Extracting Frames for S276...\n",
            "2 Videos Found, 24 Frames Extracted\n",
            "Extracting Frames for S257...\n",
            "2 Videos Found, 23 Frames Extracted\n",
            "Extracting Frames for S259...\n",
            "1 Videos Found, 12 Frames Extracted\n",
            "Extracting Frames for S258...\n",
            "3 Videos Found, 36 Frames Extracted\n",
            "Extracting Frames for S266...\n",
            "1 Videos Found, 12 Frames Extracted\n",
            "Extracting Frames for S264...\n",
            "1 Videos Found, 12 Frames Extracted\n",
            "Extracting Frames for S263...\n",
            "1 Videos Found, 11 Frames Extracted\n",
            "Extracting Frames for S262...\n",
            "1 Videos Found, 12 Frames Extracted\n",
            "Extracting Frames for S260...\n",
            "2 Videos Found, 17 Frames Extracted\n",
            "Extracting Frames for S261...\n",
            "1 Videos Found, 12 Frames Extracted\n",
            "Extracting Frames for S265...\n",
            "1 Videos Found, 12 Frames Extracted\n",
            "Extracting Frames for S248...\n",
            "1 Videos Found, 12 Frames Extracted\n",
            "Extracting Frames for S255...\n",
            "1 Videos Found, 12 Frames Extracted\n",
            "Extracting Frames for S252...\n",
            "1 Videos Found, 12 Frames Extracted\n",
            "Extracting Frames for S251...\n",
            "8 Videos Found, 96 Frames Extracted\n",
            "Extracting Frames for S249...\n",
            "1 Videos Found, 12 Frames Extracted\n",
            "Extracting Frames for S247...\n",
            "2 Videos Found, 24 Frames Extracted\n",
            "Extracting Frames for S253...\n",
            "1 Videos Found, 12 Frames Extracted\n",
            "Extracting Frames for S250...\n",
            "3 Videos Found, 36 Frames Extracted\n",
            "Extracting Frames for S254...\n",
            "2 Videos Found, 21 Frames Extracted\n",
            "Extracting Frames for S256...\n",
            "8 Videos Found, 95 Frames Extracted\n",
            "Extracting Frames for S243...\n",
            "6 Videos Found, 72 Frames Extracted\n",
            "Extracting Frames for S237...\n",
            "8 Videos Found, 90 Frames Extracted\n",
            "Extracting Frames for S241...\n",
            "11 Videos Found, 122 Frames Extracted\n",
            "Extracting Frames for S246...\n",
            "3 Videos Found, 36 Frames Extracted\n",
            "Extracting Frames for S238...\n",
            "16 Videos Found, 187 Frames Extracted\n",
            "Extracting Frames for S242...\n",
            "17 Videos Found, 204 Frames Extracted\n",
            "Extracting Frames for S244...\n",
            "24 Videos Found, 287 Frames Extracted\n",
            "Extracting Frames for S239...\n",
            "24 Videos Found, 288 Frames Extracted\n",
            "Extracting Frames for S245...\n",
            "4 Videos Found, 42 Frames Extracted\n",
            "Extracting Frames for S240...\n",
            "5 Videos Found, 60 Frames Extracted\n",
            "Extracting Frames for S232...\n",
            "1 Videos Found, 12 Frames Extracted\n",
            "Extracting Frames for S230...\n",
            "1 Videos Found, 12 Frames Extracted\n",
            "Extracting Frames for S229...\n",
            "1 Videos Found, 12 Frames Extracted\n",
            "Extracting Frames for S227...\n",
            "3 Videos Found, 36 Frames Extracted\n",
            "Extracting Frames for S236...\n",
            "11 Videos Found, 128 Frames Extracted\n",
            "Extracting Frames for S234...\n",
            "16 Videos Found, 190 Frames Extracted\n",
            "Extracting Frames for S235...\n",
            "8 Videos Found, 96 Frames Extracted\n",
            "Extracting Frames for S228...\n",
            "2 Videos Found, 24 Frames Extracted\n",
            "Extracting Frames for S233...\n",
            "4 Videos Found, 47 Frames Extracted\n",
            "Extracting Frames for S231...\n",
            "1 Videos Found, 12 Frames Extracted\n",
            "Extracting Frames for S218...\n",
            "1 Videos Found, 11 Frames Extracted\n",
            "Extracting Frames for S224...\n",
            "3 Videos Found, 36 Frames Extracted\n",
            "Extracting Frames for S219...\n",
            "6 Videos Found, 67 Frames Extracted\n",
            "Extracting Frames for S226...\n",
            "6 Videos Found, 68 Frames Extracted\n",
            "Extracting Frames for S217...\n",
            "1 Videos Found, 12 Frames Extracted\n",
            "Extracting Frames for S223...\n",
            "3 Videos Found, 34 Frames Extracted\n",
            "Extracting Frames for S220...\n",
            "3 Videos Found, 36 Frames Extracted\n",
            "Extracting Frames for S225...\n",
            "2 Videos Found, 24 Frames Extracted\n",
            "Extracting Frames for S221...\n",
            "2 Videos Found, 22 Frames Extracted\n",
            "Extracting Frames for S222...\n",
            "3 Videos Found, 36 Frames Extracted\n",
            "Extracting Frames for S213...\n",
            "2 Videos Found, 24 Frames Extracted\n",
            "Extracting Frames for S209...\n",
            "4 Videos Found, 47 Frames Extracted\n",
            "Extracting Frames for S215...\n",
            "1 Videos Found, 12 Frames Extracted\n",
            "Extracting Frames for S210...\n",
            "13 Videos Found, 152 Frames Extracted\n",
            "Extracting Frames for S207...\n",
            "1 Videos Found, 12 Frames Extracted\n",
            "Extracting Frames for S211...\n",
            "45 Videos Found, 515 Frames Extracted\n",
            "Extracting Frames for S216...\n",
            "1 Videos Found, 12 Frames Extracted\n",
            "Extracting Frames for S214...\n",
            "1 Videos Found, 12 Frames Extracted\n",
            "Extracting Frames for S212...\n",
            "1 Videos Found, 11 Frames Extracted\n",
            "Extracting Frames for S208...\n",
            "1 Videos Found, 12 Frames Extracted\n",
            "Extracting Frames for S197...\n",
            "1 Videos Found, 12 Frames Extracted\n",
            "Extracting Frames for S199...\n",
            "1 Videos Found, 12 Frames Extracted\n",
            "Extracting Frames for S204...\n",
            "1 Videos Found, 12 Frames Extracted\n",
            "Extracting Frames for S200...\n",
            "10 Videos Found, 115 Frames Extracted\n",
            "Extracting Frames for S202...\n",
            "1 Videos Found, 12 Frames Extracted\n",
            "Extracting Frames for S205...\n",
            "1 Videos Found, 10 Frames Extracted\n",
            "Extracting Frames for S201...\n",
            "58 Videos Found, 694 Frames Extracted\n",
            "Extracting Frames for S206...\n",
            "1 Videos Found, 12 Frames Extracted\n",
            "Extracting Frames for S203...\n",
            "1 Videos Found, 12 Frames Extracted\n",
            "Extracting Frames for S198...\n",
            "1 Videos Found, 9 Frames Extracted\n",
            "Extracting Frames for S187...\n",
            "1 Videos Found, 12 Frames Extracted\n",
            "Extracting Frames for S188...\n",
            "2 Videos Found, 17 Frames Extracted\n",
            "Extracting Frames for S194...\n",
            "1 Videos Found, 12 Frames Extracted\n",
            "Extracting Frames for S196...\n",
            "1 Videos Found, 12 Frames Extracted\n",
            "Extracting Frames for S191...\n",
            "1 Videos Found, 12 Frames Extracted\n",
            "Extracting Frames for S195...\n",
            "1 Videos Found, 12 Frames Extracted\n",
            "Extracting Frames for S192...\n",
            "1 Videos Found, 12 Frames Extracted\n",
            "Extracting Frames for S190...\n",
            "1 Videos Found, 12 Frames Extracted\n",
            "Extracting Frames for S193...\n",
            "1 Videos Found, 12 Frames Extracted\n",
            "Extracting Frames for S189...\n",
            "1 Videos Found, 3 Frames Extracted\n",
            "Extracting Frames for S183...\n",
            "1 Videos Found, 12 Frames Extracted\n",
            "Extracting Frames for S180...\n",
            "2 Videos Found, 23 Frames Extracted\n",
            "Extracting Frames for S177...\n",
            "1 Videos Found, 12 Frames Extracted\n",
            "Extracting Frames for S184...\n",
            "1 Videos Found, 12 Frames Extracted\n",
            "Extracting Frames for S181...\n",
            "2 Videos Found, 24 Frames Extracted\n",
            "Extracting Frames for S182...\n",
            "2 Videos Found, 24 Frames Extracted\n",
            "Extracting Frames for S179...\n",
            "1 Videos Found, 12 Frames Extracted\n",
            "Extracting Frames for S185...\n",
            "2 Videos Found, 24 Frames Extracted\n",
            "Extracting Frames for S186...\n",
            "1 Videos Found, 12 Frames Extracted\n",
            "Extracting Frames for S178...\n",
            "16 Videos Found, 156 Frames Extracted\n",
            "Extracting Frames for S174...\n",
            "7 Videos Found, 82 Frames Extracted\n",
            "Extracting Frames for S167...\n",
            "17 Videos Found, 201 Frames Extracted\n",
            "Extracting Frames for S170...\n",
            "20 Videos Found, 240 Frames Extracted\n",
            "Extracting Frames for S175...\n",
            "2 Videos Found, 24 Frames Extracted\n",
            "Extracting Frames for S172...\n",
            "2 Videos Found, 24 Frames Extracted\n",
            "Extracting Frames for S168...\n",
            "4 Videos Found, 45 Frames Extracted\n",
            "Extracting Frames for S173...\n",
            "3 Videos Found, 33 Frames Extracted\n",
            "Extracting Frames for S176...\n",
            "6 Videos Found, 67 Frames Extracted\n",
            "Extracting Frames for S171...\n",
            "1 Videos Found, 12 Frames Extracted\n",
            "Extracting Frames for S169...\n",
            "1 Videos Found, 12 Frames Extracted\n",
            "Extracting Frames for S160...\n",
            "2 Videos Found, 24 Frames Extracted\n",
            "Extracting Frames for S166...\n",
            "20 Videos Found, 226 Frames Extracted\n",
            "Extracting Frames for S158...\n",
            "1 Videos Found, 11 Frames Extracted\n",
            "Extracting Frames for S159...\n",
            "1 Videos Found, 4 Frames Extracted\n",
            "Extracting Frames for S163...\n",
            "14 Videos Found, 161 Frames Extracted\n",
            "Extracting Frames for S161...\n",
            "1 Videos Found, 12 Frames Extracted\n",
            "Extracting Frames for S157...\n",
            "2 Videos Found, 24 Frames Extracted\n",
            "Extracting Frames for S164...\n",
            "4 Videos Found, 48 Frames Extracted\n",
            "Extracting Frames for S162...\n",
            "1 Videos Found, 12 Frames Extracted\n",
            "Extracting Frames for S165...\n",
            "1 Videos Found, 12 Frames Extracted\n",
            "Extracting Frames for S155...\n",
            "1 Videos Found, 12 Frames Extracted\n",
            "Extracting Frames for S156...\n",
            "1 Videos Found, 12 Frames Extracted\n",
            "Extracting Frames for S150...\n",
            "1 Videos Found, 12 Frames Extracted\n",
            "Extracting Frames for S152...\n",
            "2 Videos Found, 17 Frames Extracted\n",
            "Extracting Frames for S149...\n",
            "1 Videos Found, 12 Frames Extracted\n",
            "Extracting Frames for S153...\n",
            "1 Videos Found, 12 Frames Extracted\n",
            "Extracting Frames for S154...\n",
            "1 Videos Found, 12 Frames Extracted\n",
            "Extracting Frames for S151...\n",
            "1 Videos Found, 12 Frames Extracted\n",
            "Extracting Frames for S147...\n",
            "1 Videos Found, 12 Frames Extracted\n",
            "Extracting Frames for S148...\n",
            "1 Videos Found, 12 Frames Extracted\n",
            "Extracting Frames for S138...\n",
            "2 Videos Found, 23 Frames Extracted\n",
            "Extracting Frames for S142...\n",
            "1 Videos Found, 12 Frames Extracted\n",
            "Extracting Frames for S141...\n",
            "1 Videos Found, 10 Frames Extracted\n",
            "Extracting Frames for S137...\n",
            "1 Videos Found, 12 Frames Extracted\n",
            "Extracting Frames for S139...\n",
            "1 Videos Found, 12 Frames Extracted\n",
            "Extracting Frames for S146...\n",
            "1 Videos Found, 12 Frames Extracted\n",
            "Extracting Frames for S144...\n",
            "1 Videos Found, 12 Frames Extracted\n",
            "Extracting Frames for S140...\n",
            "1 Videos Found, 12 Frames Extracted\n",
            "Extracting Frames for S145...\n",
            "1 Videos Found, 12 Frames Extracted\n",
            "Extracting Frames for S143...\n",
            "1 Videos Found, 12 Frames Extracted\n",
            "Extracting Frames for S136...\n",
            "1 Videos Found, 12 Frames Extracted\n",
            "Extracting Frames for S134...\n",
            "2 Videos Found, 24 Frames Extracted\n",
            "Extracting Frames for S130...\n",
            "1 Videos Found, 12 Frames Extracted\n",
            "Extracting Frames for S129...\n",
            "1 Videos Found, 12 Frames Extracted\n",
            "Extracting Frames for S135...\n",
            "3 Videos Found, 36 Frames Extracted\n",
            "Extracting Frames for S127...\n",
            "1 Videos Found, 12 Frames Extracted\n",
            "Extracting Frames for S133...\n",
            "1 Videos Found, 12 Frames Extracted\n",
            "Extracting Frames for S128...\n",
            "1 Videos Found, 12 Frames Extracted\n",
            "Extracting Frames for S132...\n",
            "2 Videos Found, 24 Frames Extracted\n",
            "Extracting Frames for S131...\n",
            "2 Videos Found, 23 Frames Extracted\n",
            "Extracting Frames for S123...\n",
            "1 Videos Found, 12 Frames Extracted\n",
            "Extracting Frames for S119...\n",
            "1 Videos Found, 12 Frames Extracted\n",
            "Extracting Frames for S124...\n",
            "1 Videos Found, 11 Frames Extracted\n",
            "Extracting Frames for S121...\n",
            "1 Videos Found, 12 Frames Extracted\n",
            "Extracting Frames for S118...\n",
            "1 Videos Found, 9 Frames Extracted\n",
            "Extracting Frames for S125...\n",
            "1 Videos Found, 12 Frames Extracted\n",
            "Extracting Frames for S120...\n",
            "1 Videos Found, 12 Frames Extracted\n",
            "Extracting Frames for S117...\n",
            "1 Videos Found, 11 Frames Extracted\n",
            "Extracting Frames for S122...\n",
            "1 Videos Found, 12 Frames Extracted\n",
            "Extracting Frames for S126...\n",
            "1 Videos Found, 12 Frames Extracted\n",
            "Extracting Frames for S113...\n",
            "2 Videos Found, 24 Frames Extracted\n",
            "Extracting Frames for S116...\n",
            "1 Videos Found, 12 Frames Extracted\n",
            "Extracting Frames for S111...\n",
            "1 Videos Found, 12 Frames Extracted\n",
            "Extracting Frames for S115...\n",
            "1 Videos Found, 12 Frames Extracted\n",
            "Extracting Frames for S114...\n",
            "1 Videos Found, 12 Frames Extracted\n",
            "Extracting Frames for S112...\n",
            "1 Videos Found, 12 Frames Extracted\n",
            "Extracting Frames for S108...\n",
            "1 Videos Found, 12 Frames Extracted\n",
            "Extracting Frames for S107...\n",
            "1 Videos Found, 12 Frames Extracted\n",
            "Extracting Frames for S109...\n",
            "1 Videos Found, 12 Frames Extracted\n",
            "Extracting Frames for S110...\n",
            "1 Videos Found, 12 Frames Extracted\n",
            "Extracting Frames for S098...\n",
            "1 Videos Found, 12 Frames Extracted\n",
            "Extracting Frames for S101...\n",
            "2 Videos Found, 24 Frames Extracted\n",
            "Extracting Frames for S102...\n",
            "2 Videos Found, 24 Frames Extracted\n",
            "Extracting Frames for S100...\n",
            "2 Videos Found, 24 Frames Extracted\n",
            "Extracting Frames for S104...\n",
            "7 Videos Found, 80 Frames Extracted\n",
            "Extracting Frames for S106...\n",
            "1 Videos Found, 12 Frames Extracted\n",
            "Extracting Frames for S105...\n",
            "1 Videos Found, 11 Frames Extracted\n",
            "Extracting Frames for S097...\n",
            "1 Videos Found, 12 Frames Extracted\n",
            "Extracting Frames for S099...\n",
            "3 Videos Found, 32 Frames Extracted\n",
            "Extracting Frames for S103...\n",
            "1 Videos Found, 12 Frames Extracted\n",
            "Extracting Frames for S088...\n",
            "11 Videos Found, 130 Frames Extracted\n",
            "Extracting Frames for S092...\n",
            "2 Videos Found, 23 Frames Extracted\n",
            "Extracting Frames for S089...\n",
            "1 Videos Found, 12 Frames Extracted\n",
            "Extracting Frames for S095...\n",
            "2 Videos Found, 24 Frames Extracted\n",
            "Extracting Frames for S090...\n",
            "1 Videos Found, 12 Frames Extracted\n",
            "Extracting Frames for S087...\n",
            "2 Videos Found, 24 Frames Extracted\n",
            "Extracting Frames for S091...\n",
            "2 Videos Found, 24 Frames Extracted\n",
            "Extracting Frames for S093...\n",
            "2 Videos Found, 20 Frames Extracted\n",
            "Extracting Frames for S094...\n",
            "1 Videos Found, 12 Frames Extracted\n",
            "Extracting Frames for S096...\n",
            "5 Videos Found, 57 Frames Extracted\n",
            "Extracting Frames for S079...\n",
            "4 Videos Found, 48 Frames Extracted\n",
            "Extracting Frames for S083...\n",
            "7 Videos Found, 84 Frames Extracted\n",
            "Extracting Frames for S084...\n",
            "11 Videos Found, 114 Frames Extracted\n",
            "Extracting Frames for S081...\n",
            "3 Videos Found, 36 Frames Extracted\n",
            "Extracting Frames for S080...\n",
            "1 Videos Found, 12 Frames Extracted\n",
            "Extracting Frames for S085...\n",
            "3 Videos Found, 34 Frames Extracted\n",
            "Extracting Frames for S082...\n",
            "5 Videos Found, 53 Frames Extracted\n",
            "Extracting Frames for S086...\n",
            "2 Videos Found, 21 Frames Extracted\n",
            "Extracting Frames for S078...\n",
            "1 Videos Found, 9 Frames Extracted\n",
            "Extracting Frames for S077...\n",
            "1 Videos Found, 12 Frames Extracted\n",
            "Extracting Frames for S069...\n",
            "2 Videos Found, 24 Frames Extracted\n",
            "Extracting Frames for S073...\n",
            "2 Videos Found, 23 Frames Extracted\n",
            "Extracting Frames for S072...\n",
            "1 Videos Found, 12 Frames Extracted\n",
            "Extracting Frames for S076...\n",
            "1 Videos Found, 12 Frames Extracted\n",
            "Extracting Frames for S067...\n",
            "1 Videos Found, 12 Frames Extracted\n",
            "Extracting Frames for S074...\n",
            "1 Videos Found, 12 Frames Extracted\n",
            "Extracting Frames for S068...\n",
            "2 Videos Found, 23 Frames Extracted\n",
            "Extracting Frames for S075...\n",
            "1 Videos Found, 12 Frames Extracted\n",
            "Extracting Frames for S070...\n",
            "1 Videos Found, 12 Frames Extracted\n",
            "Extracting Frames for S071...\n",
            "2 Videos Found, 24 Frames Extracted\n",
            "Extracting Frames for S060...\n",
            "2 Videos Found, 24 Frames Extracted\n",
            "Extracting Frames for S065...\n",
            "5 Videos Found, 59 Frames Extracted\n",
            "Extracting Frames for S063...\n",
            "2 Videos Found, 22 Frames Extracted\n",
            "Extracting Frames for S058...\n",
            "8 Videos Found, 94 Frames Extracted\n",
            "Extracting Frames for S059...\n",
            "1 Videos Found, 12 Frames Extracted\n",
            "Extracting Frames for S062...\n",
            "1 Videos Found, 12 Frames Extracted\n",
            "Extracting Frames for S061...\n",
            "15 Videos Found, 174 Frames Extracted\n",
            "Extracting Frames for S057...\n",
            "16 Videos Found, 189 Frames Extracted\n",
            "Extracting Frames for S064...\n",
            "3 Videos Found, 36 Frames Extracted\n",
            "Extracting Frames for S066...\n",
            "11 Videos Found, 116 Frames Extracted\n",
            "Extracting Frames for S053...\n",
            "3 Videos Found, 36 Frames Extracted\n",
            "Extracting Frames for S050...\n",
            "1 Videos Found, 12 Frames Extracted\n",
            "Extracting Frames for S056...\n",
            "1 Videos Found, 12 Frames Extracted\n",
            "Extracting Frames for S051...\n",
            "16 Videos Found, 192 Frames Extracted\n",
            "Extracting Frames for S049...\n",
            "4 Videos Found, 44 Frames Extracted\n",
            "Extracting Frames for S055...\n",
            "11 Videos Found, 132 Frames Extracted\n",
            "Extracting Frames for S054...\n",
            "1 Videos Found, 8 Frames Extracted\n",
            "Extracting Frames for S047...\n",
            "5 Videos Found, 58 Frames Extracted\n",
            "Extracting Frames for S048...\n",
            "3 Videos Found, 30 Frames Extracted\n",
            "Extracting Frames for S052...\n",
            "1 Videos Found, 12 Frames Extracted\n",
            "Extracting Frames for S044...\n",
            "4 Videos Found, 48 Frames Extracted\n",
            "Extracting Frames for S037...\n",
            "2 Videos Found, 24 Frames Extracted\n",
            "Extracting Frames for S043...\n",
            "2 Videos Found, 24 Frames Extracted\n",
            "Extracting Frames for S041...\n",
            "1 Videos Found, 8 Frames Extracted\n",
            "Extracting Frames for S042...\n",
            "5 Videos Found, 60 Frames Extracted\n",
            "Extracting Frames for S046...\n",
            "5 Videos Found, 59 Frames Extracted\n",
            "Extracting Frames for S039...\n",
            "3 Videos Found, 31 Frames Extracted\n",
            "Extracting Frames for S038...\n",
            "1 Videos Found, 12 Frames Extracted\n",
            "Extracting Frames for S040...\n",
            "2 Videos Found, 24 Frames Extracted\n",
            "Extracting Frames for S045...\n",
            "2 Videos Found, 24 Frames Extracted\n",
            "Extracting Frames for S027...\n",
            "1 Videos Found, 12 Frames Extracted\n",
            "Extracting Frames for S028...\n",
            "2 Videos Found, 18 Frames Extracted\n",
            "Extracting Frames for S034...\n",
            "3 Videos Found, 36 Frames Extracted\n",
            "Extracting Frames for S030...\n",
            "1 Videos Found, 12 Frames Extracted\n",
            "Extracting Frames for S035...\n",
            "4 Videos Found, 48 Frames Extracted\n",
            "Extracting Frames for S036...\n",
            "1 Videos Found, 12 Frames Extracted\n",
            "Extracting Frames for S031...\n",
            "1 Videos Found, 12 Frames Extracted\n",
            "Extracting Frames for S033...\n",
            "3 Videos Found, 36 Frames Extracted\n",
            "Extracting Frames for S029...\n",
            "1 Videos Found, 12 Frames Extracted\n",
            "Extracting Frames for S032...\n",
            "25 Videos Found, 293 Frames Extracted\n",
            "Extracting Frames for S025...\n",
            "5 Videos Found, 60 Frames Extracted\n",
            "Extracting Frames for S020...\n",
            "1 Videos Found, 12 Frames Extracted\n",
            "Extracting Frames for S026...\n",
            "2 Videos Found, 24 Frames Extracted\n",
            "Extracting Frames for S022...\n",
            "1 Videos Found, 12 Frames Extracted\n",
            "Extracting Frames for S018...\n",
            "2 Videos Found, 24 Frames Extracted\n",
            "Extracting Frames for S021...\n",
            "1 Videos Found, 12 Frames Extracted\n",
            "Extracting Frames for S017...\n",
            "1 Videos Found, 12 Frames Extracted\n",
            "Extracting Frames for S019...\n",
            "1 Videos Found, 10 Frames Extracted\n",
            "Extracting Frames for S024...\n",
            "2 Videos Found, 23 Frames Extracted\n",
            "Extracting Frames for S023...\n",
            "2 Videos Found, 24 Frames Extracted\n",
            "Extracting Frames for S016...\n",
            "2 Videos Found, 17 Frames Extracted\n",
            "Extracting Frames for S013...\n",
            "1 Videos Found, 12 Frames Extracted\n",
            "Extracting Frames for S010...\n",
            "4 Videos Found, 47 Frames Extracted\n",
            "Extracting Frames for S009...\n",
            "12 Videos Found, 140 Frames Extracted\n",
            "Extracting Frames for S007...\n",
            "1 Videos Found, 12 Frames Extracted\n",
            "Extracting Frames for S011...\n",
            "1 Videos Found, 12 Frames Extracted\n",
            "Extracting Frames for S012...\n",
            "8 Videos Found, 91 Frames Extracted\n",
            "Extracting Frames for S014...\n",
            "2 Videos Found, 24 Frames Extracted\n",
            "Extracting Frames for S015...\n",
            "7 Videos Found, 80 Frames Extracted\n",
            "Extracting Frames for S008...\n",
            "2 Videos Found, 18 Frames Extracted\n",
            "Extracting Frames for S002...\n",
            "2 Videos Found, 24 Frames Extracted\n",
            "Extracting Frames for S004...\n",
            "1 Videos Found, 12 Frames Extracted\n",
            "Extracting Frames for S006...\n",
            "1 Videos Found, 12 Frames Extracted\n",
            "Extracting Frames for S003...\n",
            "1 Videos Found, 12 Frames Extracted\n",
            "Extracting Frames for S005...\n",
            "1 Videos Found, 12 Frames Extracted\n",
            "Extracting Frames for S001...\n",
            "1 Videos Found, 12 Frames Extracted\n",
            "Extraction Completed!\n"
          ],
          "name": "stdout"
        }
      ]
    },
    {
      "cell_type": "code",
      "metadata": {
        "id": "23z7SuCHZyIj"
      },
      "source": [
        "def get_emotion(loc):\n",
        "    file_emotion = open(loc,'r')\n",
        "    line = file_emotion.readline()\n",
        "    file_emotion.close()\n",
        "    return line.strip()[0]\n",
        "\n",
        "\n",
        "def create_list(main_dir,file_loc = \"main.txt\"):\n",
        "    if os.path.exists(main_dir)==False:\n",
        "        print(\"Not a valid path\")\n",
        "        exit(0)\n",
        "    file1 = open(file_loc,'w')\n",
        "    subjects = sorted(os.listdir(main_dir))\n",
        "    print(subjects)\n",
        "    i=0\n",
        "    for subject in subjects:\n",
        "        sub_loc = main_dir+\"/\"+subject\n",
        "        print(sub_loc)\n",
        "        videos = sorted(os.listdir(sub_loc))\n",
        "        for video in videos:\n",
        "            video_loc = sub_loc+\"/\"+video\n",
        "            #print(video_loc)\n",
        "            videos1 = sorted(os.listdir(video_loc))\n",
        "            for video11 in videos1:\n",
        "              emotion = get_emotion(video_loc+'/'+video11+\"/emotion.txt\")\n",
        "              frames = sorted([int(x[:-4]) for x in os.listdir(video_loc+'/'+video11+\"/frames\")])\n",
        "              #for frame in frames:\n",
        "              file1.write(video_loc+'/'+video11+\"/frames/\"+\",\"+emotion+'\\n')\n",
        "              i+=1\n",
        "    print(\"Total Number of Frames:\",i)\n",
        "    file1.close()"
      ],
      "execution_count": null,
      "outputs": []
    },
    {
      "cell_type": "code",
      "metadata": {
        "colab": {
          "base_uri": "https://localhost:8080/"
        },
        "id": "08KAZbtMvDIc",
        "outputId": "0db0637c-189e-4b8f-f56c-cd87135ae095"
      },
      "source": [
        "from google.colab import drive\n",
        "drive.mount('/content/drive')"
      ],
      "execution_count": null,
      "outputs": [
        {
          "output_type": "stream",
          "text": [
            "Mounted at /content/drive\n"
          ],
          "name": "stdout"
        }
      ]
    },
    {
      "cell_type": "code",
      "metadata": {
        "id": "Bx7tOKeZSiiu"
      },
      "source": [
        "src='/content/drive/MyDrive/ds'\n",
        "dst='/content/drive/MyDrive/final4.txt'"
      ],
      "execution_count": null,
      "outputs": []
    },
    {
      "cell_type": "code",
      "metadata": {
        "colab": {
          "base_uri": "https://localhost:8080/"
        },
        "id": "kBERVHwuxAiJ",
        "outputId": "469f0862-a0be-462e-fc15-d0a57e156219"
      },
      "source": [
        "create_list(src,dst)"
      ],
      "execution_count": null,
      "outputs": [
        {
          "output_type": "stream",
          "text": [
            "['dataset']\n",
            "/content/drive/MyDrive/ds/dataset\n",
            "Total Number of Frames: 1047\n"
          ],
          "name": "stdout"
        }
      ]
    },
    {
      "cell_type": "code",
      "metadata": {
        "colab": {
          "base_uri": "https://localhost:8080/",
          "height": 418
        },
        "id": "1jpBBnzUd-q-",
        "outputId": "d2b5275b-d0e1-4981-ded2-dcf5185dff90"
      },
      "source": [
        "df = pd.read_csv(\"/content/drive/MyDrive/finaldata.csv\")\n",
        "df"
      ],
      "execution_count": null,
      "outputs": [
        {
          "output_type": "execute_result",
          "data": {
            "text/html": [
              "<div>\n",
              "<style scoped>\n",
              "    .dataframe tbody tr th:only-of-type {\n",
              "        vertical-align: middle;\n",
              "    }\n",
              "\n",
              "    .dataframe tbody tr th {\n",
              "        vertical-align: top;\n",
              "    }\n",
              "\n",
              "    .dataframe thead th {\n",
              "        text-align: right;\n",
              "    }\n",
              "</style>\n",
              "<table border=\"1\" class=\"dataframe\">\n",
              "  <thead>\n",
              "    <tr style=\"text-align: right;\">\n",
              "      <th></th>\n",
              "      <th>frames</th>\n",
              "      <th>emotion</th>\n",
              "    </tr>\n",
              "  </thead>\n",
              "  <tbody>\n",
              "    <tr>\n",
              "      <th>0</th>\n",
              "      <td>/content/drive/MyDrive/ds/dataset/S001/001/fra...</td>\n",
              "      <td>7</td>\n",
              "    </tr>\n",
              "    <tr>\n",
              "      <th>1</th>\n",
              "      <td>/content/drive/MyDrive/ds/dataset/S002/001/fra...</td>\n",
              "      <td>2</td>\n",
              "    </tr>\n",
              "    <tr>\n",
              "      <th>2</th>\n",
              "      <td>/content/drive/MyDrive/ds/dataset/S002/002/fra...</td>\n",
              "      <td>5</td>\n",
              "    </tr>\n",
              "    <tr>\n",
              "      <th>3</th>\n",
              "      <td>/content/drive/MyDrive/ds/dataset/S003/001/fra...</td>\n",
              "      <td>5</td>\n",
              "    </tr>\n",
              "    <tr>\n",
              "      <th>4</th>\n",
              "      <td>/content/drive/MyDrive/ds/dataset/S004/001/fra...</td>\n",
              "      <td>5</td>\n",
              "    </tr>\n",
              "    <tr>\n",
              "      <th>...</th>\n",
              "      <td>...</td>\n",
              "      <td>...</td>\n",
              "    </tr>\n",
              "    <tr>\n",
              "      <th>1042</th>\n",
              "      <td>/content/drive/MyDrive/ds/dataset/S284/002/fra...</td>\n",
              "      <td>7</td>\n",
              "    </tr>\n",
              "    <tr>\n",
              "      <th>1043</th>\n",
              "      <td>/content/drive/MyDrive/ds/dataset/S285/001/fra...</td>\n",
              "      <td>0</td>\n",
              "    </tr>\n",
              "    <tr>\n",
              "      <th>1044</th>\n",
              "      <td>/content/drive/MyDrive/ds/dataset/S285/002/fra...</td>\n",
              "      <td>0</td>\n",
              "    </tr>\n",
              "    <tr>\n",
              "      <th>1045</th>\n",
              "      <td>/content/drive/MyDrive/ds/dataset/S286/001/fra...</td>\n",
              "      <td>0</td>\n",
              "    </tr>\n",
              "    <tr>\n",
              "      <th>1046</th>\n",
              "      <td>/content/drive/MyDrive/ds/dataset/S286/002/fra...</td>\n",
              "      <td>7</td>\n",
              "    </tr>\n",
              "  </tbody>\n",
              "</table>\n",
              "<p>1047 rows × 2 columns</p>\n",
              "</div>"
            ],
            "text/plain": [
              "                                                 frames  emotion\n",
              "0     /content/drive/MyDrive/ds/dataset/S001/001/fra...        7\n",
              "1     /content/drive/MyDrive/ds/dataset/S002/001/fra...        2\n",
              "2     /content/drive/MyDrive/ds/dataset/S002/002/fra...        5\n",
              "3     /content/drive/MyDrive/ds/dataset/S003/001/fra...        5\n",
              "4     /content/drive/MyDrive/ds/dataset/S004/001/fra...        5\n",
              "...                                                 ...      ...\n",
              "1042  /content/drive/MyDrive/ds/dataset/S284/002/fra...        7\n",
              "1043  /content/drive/MyDrive/ds/dataset/S285/001/fra...        0\n",
              "1044  /content/drive/MyDrive/ds/dataset/S285/002/fra...        0\n",
              "1045  /content/drive/MyDrive/ds/dataset/S286/001/fra...        0\n",
              "1046  /content/drive/MyDrive/ds/dataset/S286/002/fra...        7\n",
              "\n",
              "[1047 rows x 2 columns]"
            ]
          },
          "metadata": {
            "tags": []
          },
          "execution_count": 2
        }
      ]
    },
    {
      "cell_type": "code",
      "metadata": {
        "id": "LWtf2QHrbrB7"
      },
      "source": [
        "import numpy as np\n",
        "import pandas as pd\n",
        "import itertools \n",
        "import tensorflow as tf\n",
        "import keras\n",
        "from keras import layers\n",
        "from keras.layers import Conv2D, Input, Dense, MaxPool2D,BatchNormalization,Flatten,ZeroPadding2D,Activation,Dropout,LSTM\n",
        "from keras.layers import TimeDistributed\n",
        "from keras.models import Model,Sequential\n",
        "import matplotlib.pyplot as plt\n",
        "from matplotlib.pyplot import imshow\n",
        "from sklearn.model_selection import train_test_split\n",
        "from sklearn.metrics import confusion_matrix\n",
        "from sklearn.model_selection import KFold\n",
        "%matplotlib inline"
      ],
      "execution_count": null,
      "outputs": []
    },
    {
      "cell_type": "code",
      "metadata": {
        "colab": {
          "base_uri": "https://localhost:8080/"
        },
        "id": "HWLVHri6bc4i",
        "outputId": "9ef41645-a698-4236-ac5d-dd30659af52a"
      },
      "source": [
        "x = np.array(df['frames'])\n",
        "print(len(x))\n",
        "y = pd.get_dummies(df['emotion']).to_numpy()"
      ],
      "execution_count": null,
      "outputs": [
        {
          "output_type": "stream",
          "text": [
            "1047\n"
          ],
          "name": "stdout"
        }
      ]
    },
    {
      "cell_type": "code",
      "metadata": {
        "colab": {
          "base_uri": "https://localhost:8080/"
        },
        "id": "l9-EEtjjjaxn",
        "outputId": "032d764e-67a3-47d3-930a-8f5de435bc56"
      },
      "source": [
        "print(y)"
      ],
      "execution_count": null,
      "outputs": [
        {
          "output_type": "stream",
          "text": [
            "[[0 0 0 ... 0 0 1]\n",
            " [0 0 1 ... 0 0 0]\n",
            " [0 0 0 ... 1 0 0]\n",
            " ...\n",
            " [1 0 0 ... 0 0 0]\n",
            " [1 0 0 ... 0 0 0]\n",
            " [0 0 0 ... 0 0 1]]\n"
          ],
          "name": "stdout"
        }
      ]
    },
    {
      "cell_type": "code",
      "metadata": {
        "colab": {
          "base_uri": "https://localhost:8080/"
        },
        "id": "_60WOgH-jgAJ",
        "outputId": "a79c6c36-19f4-4505-b92c-3afbdbb1e033"
      },
      "source": [
        "y.shape"
      ],
      "execution_count": null,
      "outputs": [
        {
          "output_type": "execute_result",
          "data": {
            "text/plain": [
              "(1047, 8)"
            ]
          },
          "metadata": {
            "tags": []
          },
          "execution_count": 17
        }
      ]
    },
    {
      "cell_type": "code",
      "metadata": {
        "colab": {
          "base_uri": "https://localhost:8080/"
        },
        "id": "dEg9nbhynMLV",
        "outputId": "03b81154-4538-4fe7-bbb9-807119d7947b"
      },
      "source": [
        "import cv2\n",
        "import numpy as np\n",
        "\n",
        "count = len(x)\n",
        "\n",
        "data1 =[]\n",
        "ls=[]\n",
        "index=[]\n",
        "c=0\n",
        "print(\"data loading. \")\n",
        "for j in range(1047):\n",
        "    for i in range(12):\n",
        "        arr1 = cv2.imread(x[j]+str(i)+'.jpg',cv2.IMREAD_GRAYSCALE)\n",
        "        if arr1 is None:\n",
        "          break\n",
        "        #print(arr1.size)\n",
        "\n",
        "        #print(j)\n",
        "        data1.append(arr1)\n",
        "\n",
        "        #print('\\r{}%'.format(j/len(x)*100),end='')\n",
        "    if(len(data1)!=12):\n",
        "     index.append(j)\n",
        "\n",
        "     #print(j)\n",
        "     data1=[]\n",
        "     continue\n",
        "     c=c+1\n",
        "     \n",
        "    #print(len(data1))\n",
        "    data1=np.array(data1)\n",
        "    ls.append(data1)\n",
        "    data1=[]\n",
        "print(c)\n",
        "    #print(c)\n",
        "    #print(data1[0].shape)\n",
        "    #print(len(ls))\n",
        "#data = np.delete(data,0)\n",
        "#data2 = data2.reshape(883,12,48,48,1)\n",
        "#print('\\r100%\\nFinal Shape: ',data.shape)"
      ],
      "execution_count": null,
      "outputs": [
        {
          "output_type": "stream",
          "text": [
            "data loading. \n",
            "0\n"
          ],
          "name": "stdout"
        }
      ]
    },
    {
      "cell_type": "code",
      "metadata": {
        "colab": {
          "base_uri": "https://localhost:8080/"
        },
        "id": "9j87NxK0lFSJ",
        "outputId": "2a623525-d59a-4a14-a4f4-5c00e4a9c6b4"
      },
      "source": [
        "print(len(index))"
      ],
      "execution_count": null,
      "outputs": [
        {
          "output_type": "stream",
          "text": [
            "164\n"
          ],
          "name": "stdout"
        }
      ]
    },
    {
      "cell_type": "code",
      "metadata": {
        "id": "U5wCRBxok4xn"
      },
      "source": [
        "y=np.delete(y,index,axis=0)"
      ],
      "execution_count": null,
      "outputs": []
    },
    {
      "cell_type": "code",
      "metadata": {
        "colab": {
          "base_uri": "https://localhost:8080/"
        },
        "id": "AZkUDjUMlai3",
        "outputId": "12559301-d381-4c3e-854f-3f07268c1229"
      },
      "source": [
        "print(y)"
      ],
      "execution_count": null,
      "outputs": [
        {
          "output_type": "stream",
          "text": [
            "[[0 0 0 ... 0 0 1]\n",
            " [0 0 1 ... 0 0 0]\n",
            " [0 0 0 ... 1 0 0]\n",
            " ...\n",
            " [1 0 0 ... 0 0 0]\n",
            " [1 0 0 ... 0 0 0]\n",
            " [0 0 0 ... 0 0 1]]\n"
          ],
          "name": "stdout"
        }
      ]
    },
    {
      "cell_type": "code",
      "metadata": {
        "colab": {
          "base_uri": "https://localhost:8080/"
        },
        "id": "ZO_fusdxj6-0",
        "outputId": "735797ef-776d-4b03-e988-101abb53533e"
      },
      "source": [
        "y.shape"
      ],
      "execution_count": null,
      "outputs": [
        {
          "output_type": "execute_result",
          "data": {
            "text/plain": [
              "(883, 8)"
            ]
          },
          "metadata": {
            "tags": []
          },
          "execution_count": 23
        }
      ]
    },
    {
      "cell_type": "code",
      "metadata": {
        "colab": {
          "base_uri": "https://localhost:8080/"
        },
        "id": "XdPBXBZZa8nB",
        "outputId": "d96202c0-916b-4614-b1de-962e96f41e58"
      },
      "source": [
        "print(len(ls))"
      ],
      "execution_count": null,
      "outputs": [
        {
          "output_type": "stream",
          "text": [
            "883\n"
          ],
          "name": "stdout"
        }
      ]
    },
    {
      "cell_type": "code",
      "metadata": {
        "colab": {
          "base_uri": "https://localhost:8080/"
        },
        "id": "jTq_qWxgbm_K",
        "outputId": "89284337-b2f9-4253-8a51-41bc3f96423c"
      },
      "source": [
        "print(ls[8].shape)"
      ],
      "execution_count": null,
      "outputs": [
        {
          "output_type": "stream",
          "text": [
            "(12, 48, 48)\n"
          ],
          "name": "stdout"
        }
      ]
    },
    {
      "cell_type": "code",
      "metadata": {
        "id": "P9bmRIGniwU3"
      },
      "source": [
        "data2 = data2.reshape(883,12,48,48,1)"
      ],
      "execution_count": null,
      "outputs": []
    },
    {
      "cell_type": "code",
      "metadata": {
        "id": "c1tCROAIa-Mm"
      },
      "source": [
        "data2 = np.array(ls)"
      ],
      "execution_count": null,
      "outputs": []
    },
    {
      "cell_type": "code",
      "metadata": {
        "colab": {
          "base_uri": "https://localhost:8080/"
        },
        "id": "MMtUREzrbXkf",
        "outputId": "eb7fd00c-2302-450f-ba5d-4948fcd362db"
      },
      "source": [
        "data2.shape"
      ],
      "execution_count": null,
      "outputs": [
        {
          "output_type": "execute_result",
          "data": {
            "text/plain": [
              "(883, 12, 48, 48, 1)"
            ]
          },
          "metadata": {
            "tags": []
          },
          "execution_count": 13
        }
      ]
    },
    {
      "cell_type": "code",
      "metadata": {
        "colab": {
          "base_uri": "https://localhost:8080/"
        },
        "id": "BM-VhO3bXye7",
        "outputId": "d10c4ea6-af6e-44aa-df1e-faf6b784769f"
      },
      "source": [
        "print(len(x))"
      ],
      "execution_count": null,
      "outputs": [
        {
          "output_type": "stream",
          "text": [
            "1047\n"
          ],
          "name": "stdout"
        }
      ]
    },
    {
      "cell_type": "code",
      "metadata": {
        "id": "_AzKzAp9wadX"
      },
      "source": [
        "def classifierModel(X_input):\n",
        "  X=TimeDistributed(Conv2D(64, (3,3), strides=(2,2), name='conv1', activation='relu'))(X_input)\n",
        "  X=TimeDistributed(MaxPool2D((3,3),strides=(2,2),name='maxpool2'))(X)\n",
        "  X = TimeDistributed(BatchNormalization())(X)\n",
        "\n",
        "  X = TimeDistributed(Conv2D(96,(1,1),name='conv4',activation='relu'))(X)\n",
        "  X = TimeDistributed(MaxPool2D((3,3),strides=(1,1),name='max_pool3'))(X)\n",
        "  X = TimeDistributed(Conv2D(208,(3,3),name='conv5',activation='relu'))(X)\n",
        "  X = TimeDistributed(Conv2D(64,(1,1),name='conv6',activation='relu'))(X)\n",
        "\n",
        "  X= TimeDistributed(Conv2D(96,(1,1),name='conv7',activation='relu'))(X)\n",
        "  X= TimeDistributed(MaxPool2D((3,3),strides=(1,1),name='max_pool4'))(X)\n",
        "  X = TimeDistributed(Conv2D(208, (3,3),name='conv8',activation='relu'))(X)\n",
        "  X = TimeDistributed(Conv2D(64,(1,1),name='conv9',activation='relu'))(X)\n",
        "\n",
        "  out = TimeDistributed(Flatten())(X)\n",
        "  out = TimeDistributed(Dropout(0.5))(out)\n",
        "  out = TimeDistributed(Dense(128,activation = 'linear'))(out)\n",
        "\n",
        "\n",
        "  return out"
      ],
      "execution_count": null,
      "outputs": []
    },
    {
      "cell_type": "code",
      "metadata": {
        "id": "ans1LjIpwgyO"
      },
      "source": [
        "def LSTM_model(input_shape):\n",
        "  X_input = Input(shape = input_shape)\n",
        "  X = classifierModel(X_input)\n",
        "  X = LSTM(128)(X)\n",
        "  X = Dense(8,activation='softmax',kernel_regularizer=keras.regularizers.l1())(X)\n",
        "  model = Model(inputs = X_input,outputs = X)\n",
        "  return model"
      ],
      "execution_count": null,
      "outputs": []
    },
    {
      "cell_type": "code",
      "metadata": {
        "id": "pYHGAYrVwh2T"
      },
      "source": [
        "model1 = LSTM_model((12,48,48,1))"
      ],
      "execution_count": null,
      "outputs": []
    },
    {
      "cell_type": "code",
      "metadata": {
        "id": "PIOPGhwpwlpD"
      },
      "source": [
        "model1.compile(optimizer='adam', loss='categorical_crossentropy', metrics=['accuracy'])"
      ],
      "execution_count": null,
      "outputs": []
    },
    {
      "cell_type": "code",
      "metadata": {
        "colab": {
          "base_uri": "https://localhost:8080/"
        },
        "id": "HsVzBK9jwmLv",
        "outputId": "317ebb22-d317-46c6-f9d7-5b637f34b6b8"
      },
      "source": [
        "model1.summary()"
      ],
      "execution_count": null,
      "outputs": [
        {
          "output_type": "stream",
          "text": [
            "Model: \"model_6\"\n",
            "_________________________________________________________________\n",
            "Layer (type)                 Output Shape              Param #   \n",
            "=================================================================\n",
            "input_7 (InputLayer)         [(None, 12, 48, 48, 1)]   0         \n",
            "_________________________________________________________________\n",
            "time_distributed_28 (TimeDis (None, 12, 23, 23, 64)    640       \n",
            "_________________________________________________________________\n",
            "time_distributed_29 (TimeDis (None, 12, 11, 11, 64)    0         \n",
            "_________________________________________________________________\n",
            "time_distributed_30 (TimeDis (None, 12, 11, 11, 64)    256       \n",
            "_________________________________________________________________\n",
            "time_distributed_31 (TimeDis (None, 12, 11, 11, 96)    6240      \n",
            "_________________________________________________________________\n",
            "time_distributed_32 (TimeDis (None, 12, 9, 9, 96)      0         \n",
            "_________________________________________________________________\n",
            "time_distributed_33 (TimeDis (None, 12, 7, 7, 208)     179920    \n",
            "_________________________________________________________________\n",
            "time_distributed_34 (TimeDis (None, 12, 7, 7, 64)      13376     \n",
            "_________________________________________________________________\n",
            "time_distributed_35 (TimeDis (None, 12, 7, 7, 96)      6240      \n",
            "_________________________________________________________________\n",
            "time_distributed_36 (TimeDis (None, 12, 5, 5, 96)      0         \n",
            "_________________________________________________________________\n",
            "time_distributed_37 (TimeDis (None, 12, 3, 3, 208)     179920    \n",
            "_________________________________________________________________\n",
            "time_distributed_38 (TimeDis (None, 12, 3, 3, 64)      13376     \n",
            "_________________________________________________________________\n",
            "time_distributed_39 (TimeDis (None, 12, 576)           0         \n",
            "_________________________________________________________________\n",
            "time_distributed_40 (TimeDis (None, 12, 576)           0         \n",
            "_________________________________________________________________\n",
            "time_distributed_41 (TimeDis (None, 12, 128)           73856     \n",
            "_________________________________________________________________\n",
            "lstm_2 (LSTM)                (None, 128)               131584    \n",
            "_________________________________________________________________\n",
            "dense_17 (Dense)             (None, 8)                 1032      \n",
            "=================================================================\n",
            "Total params: 606,440\n",
            "Trainable params: 606,312\n",
            "Non-trainable params: 128\n",
            "_________________________________________________________________\n"
          ],
          "name": "stdout"
        }
      ]
    },
    {
      "cell_type": "code",
      "metadata": {
        "id": "ZyaiBTgZwH2l"
      },
      "source": [
        "from sklearn.model_selection import train_test_split\n",
        "X_train, X_test, y_train, y_test = train_test_split(data2, y, test_size=0.1, random_state=42)"
      ],
      "execution_count": null,
      "outputs": []
    },
    {
      "cell_type": "code",
      "metadata": {
        "colab": {
          "base_uri": "https://localhost:8080/"
        },
        "id": "ZWyPvh4swLOP",
        "outputId": "b28b4195-2cb4-404b-8e86-652fd9f70b7f"
      },
      "source": [
        "print('X_train: ',X_train.shape,'\\nX_test: ',X_test.shape,'\\ny_train: ',y_train.shape,'\\ny_test: ',y_test.shape)"
      ],
      "execution_count": null,
      "outputs": [
        {
          "output_type": "stream",
          "text": [
            "X_train:  (794, 12, 48, 48, 1) \n",
            "X_test:  (89, 12, 48, 48, 1) \n",
            "y_train:  (794, 8) \n",
            "y_test:  (89, 8)\n"
          ],
          "name": "stdout"
        }
      ]
    },
    {
      "cell_type": "code",
      "metadata": {
        "id": "aOIy4j9xgCRB"
      },
      "source": [
        "tf.config.run_functions_eagerly(True)"
      ],
      "execution_count": null,
      "outputs": []
    },
    {
      "cell_type": "code",
      "metadata": {
        "colab": {
          "base_uri": "https://localhost:8080/"
        },
        "id": "4oy4h6kVwOHz",
        "outputId": "2d751949-a4ac-4d93-b979-fb2dce13d4f7"
      },
      "source": [
        "history1=model1.fit(X_train,y_train,epochs=50,batch_size = 50,validation_data=(X_test,y_test))"
      ],
      "execution_count": null,
      "outputs": [
        {
          "output_type": "stream",
          "text": [
            "/usr/local/lib/python3.7/dist-packages/tensorflow/python/data/ops/dataset_ops.py:3704: UserWarning: Even though the `tf.config.experimental_run_functions_eagerly` option is set, this option does not apply to tf.data functions. To force eager execution of tf.data functions, please use `tf.data.experimental.enable.debug_mode()`.\n",
            "  \"Even though the `tf.config.experimental_run_functions_eagerly` \"\n"
          ],
          "name": "stderr"
        },
        {
          "output_type": "stream",
          "text": [
            "Epoch 1/50\n",
            "16/16 [==============================] - 2s 101ms/step - loss: 1.9588 - accuracy: 0.3451 - val_loss: 2.0984 - val_accuracy: 0.2022\n",
            "Epoch 2/50\n",
            "16/16 [==============================] - 1s 70ms/step - loss: 1.9253 - accuracy: 0.3438 - val_loss: 2.0652 - val_accuracy: 0.2247\n",
            "Epoch 3/50\n",
            "16/16 [==============================] - 1s 68ms/step - loss: 1.8918 - accuracy: 0.3602 - val_loss: 2.0544 - val_accuracy: 0.2135\n",
            "Epoch 4/50\n",
            "16/16 [==============================] - 1s 70ms/step - loss: 1.8430 - accuracy: 0.3929 - val_loss: 2.1052 - val_accuracy: 0.2247\n",
            "Epoch 5/50\n",
            "16/16 [==============================] - 1s 71ms/step - loss: 1.8233 - accuracy: 0.3967 - val_loss: 2.0251 - val_accuracy: 0.2697\n",
            "Epoch 6/50\n",
            "16/16 [==============================] - 1s 71ms/step - loss: 1.7921 - accuracy: 0.3980 - val_loss: 2.0370 - val_accuracy: 0.2697\n",
            "Epoch 7/50\n",
            "16/16 [==============================] - 1s 69ms/step - loss: 1.7631 - accuracy: 0.4358 - val_loss: 2.0518 - val_accuracy: 0.2697\n",
            "Epoch 8/50\n",
            "16/16 [==============================] - 1s 73ms/step - loss: 1.7319 - accuracy: 0.4559 - val_loss: 2.0929 - val_accuracy: 0.2697\n",
            "Epoch 9/50\n",
            "16/16 [==============================] - 1s 71ms/step - loss: 1.7258 - accuracy: 0.4496 - val_loss: 2.0974 - val_accuracy: 0.2360\n",
            "Epoch 10/50\n",
            "16/16 [==============================] - 1s 68ms/step - loss: 1.6939 - accuracy: 0.4723 - val_loss: 2.1052 - val_accuracy: 0.2809\n",
            "Epoch 11/50\n",
            "16/16 [==============================] - 1s 72ms/step - loss: 1.6487 - accuracy: 0.4849 - val_loss: 2.1615 - val_accuracy: 0.2022\n",
            "Epoch 12/50\n",
            "16/16 [==============================] - 1s 71ms/step - loss: 1.6258 - accuracy: 0.4962 - val_loss: 2.1802 - val_accuracy: 0.2135\n",
            "Epoch 13/50\n",
            "16/16 [==============================] - 1s 74ms/step - loss: 1.6097 - accuracy: 0.5000 - val_loss: 2.1532 - val_accuracy: 0.2921\n",
            "Epoch 14/50\n",
            "16/16 [==============================] - 1s 72ms/step - loss: 1.6411 - accuracy: 0.4887 - val_loss: 2.2355 - val_accuracy: 0.2472\n",
            "Epoch 15/50\n",
            "16/16 [==============================] - 1s 72ms/step - loss: 1.6556 - accuracy: 0.4824 - val_loss: 2.0962 - val_accuracy: 0.3034\n",
            "Epoch 16/50\n",
            "16/16 [==============================] - 1s 69ms/step - loss: 1.5472 - accuracy: 0.5264 - val_loss: 2.1857 - val_accuracy: 0.3258\n",
            "Epoch 17/50\n",
            "16/16 [==============================] - 1s 72ms/step - loss: 1.5072 - accuracy: 0.5491 - val_loss: 2.2688 - val_accuracy: 0.2360\n",
            "Epoch 18/50\n",
            "16/16 [==============================] - 1s 70ms/step - loss: 1.4873 - accuracy: 0.5504 - val_loss: 2.1861 - val_accuracy: 0.2472\n",
            "Epoch 19/50\n",
            "16/16 [==============================] - 1s 72ms/step - loss: 1.4443 - accuracy: 0.5793 - val_loss: 2.2997 - val_accuracy: 0.2472\n",
            "Epoch 20/50\n",
            "16/16 [==============================] - 1s 71ms/step - loss: 1.3984 - accuracy: 0.5957 - val_loss: 2.3127 - val_accuracy: 0.2809\n",
            "Epoch 21/50\n",
            "16/16 [==============================] - 1s 72ms/step - loss: 1.3805 - accuracy: 0.6083 - val_loss: 2.3589 - val_accuracy: 0.2360\n",
            "Epoch 22/50\n",
            "16/16 [==============================] - 1s 70ms/step - loss: 1.3948 - accuracy: 0.5819 - val_loss: 2.3919 - val_accuracy: 0.2584\n",
            "Epoch 23/50\n",
            "16/16 [==============================] - 1s 73ms/step - loss: 1.3773 - accuracy: 0.6071 - val_loss: 2.3979 - val_accuracy: 0.2247\n",
            "Epoch 24/50\n",
            "16/16 [==============================] - 1s 72ms/step - loss: 1.3591 - accuracy: 0.6083 - val_loss: 2.4548 - val_accuracy: 0.2584\n",
            "Epoch 25/50\n",
            "16/16 [==============================] - 1s 72ms/step - loss: 1.3243 - accuracy: 0.6385 - val_loss: 2.4288 - val_accuracy: 0.2360\n",
            "Epoch 26/50\n",
            "16/16 [==============================] - 1s 72ms/step - loss: 1.2906 - accuracy: 0.6411 - val_loss: 2.5451 - val_accuracy: 0.2809\n",
            "Epoch 27/50\n",
            "16/16 [==============================] - 1s 76ms/step - loss: 1.2431 - accuracy: 0.6537 - val_loss: 2.5652 - val_accuracy: 0.2135\n",
            "Epoch 28/50\n",
            "16/16 [==============================] - 1s 75ms/step - loss: 1.2588 - accuracy: 0.6713 - val_loss: 2.5288 - val_accuracy: 0.2360\n",
            "Epoch 29/50\n",
            "16/16 [==============================] - 1s 76ms/step - loss: 1.1844 - accuracy: 0.6826 - val_loss: 2.5173 - val_accuracy: 0.2921\n",
            "Epoch 30/50\n",
            "16/16 [==============================] - 1s 74ms/step - loss: 1.2013 - accuracy: 0.6763 - val_loss: 2.4338 - val_accuracy: 0.3146\n",
            "Epoch 31/50\n",
            "16/16 [==============================] - 1s 73ms/step - loss: 1.1741 - accuracy: 0.6990 - val_loss: 2.7007 - val_accuracy: 0.2022\n",
            "Epoch 32/50\n",
            "16/16 [==============================] - 1s 74ms/step - loss: 1.1231 - accuracy: 0.7091 - val_loss: 2.7224 - val_accuracy: 0.1910\n",
            "Epoch 33/50\n",
            "16/16 [==============================] - 1s 73ms/step - loss: 1.1081 - accuracy: 0.7154 - val_loss: 2.6466 - val_accuracy: 0.2135\n",
            "Epoch 34/50\n",
            "16/16 [==============================] - 1s 71ms/step - loss: 1.1354 - accuracy: 0.7028 - val_loss: 2.6076 - val_accuracy: 0.2697\n",
            "Epoch 35/50\n",
            "16/16 [==============================] - 1s 70ms/step - loss: 1.1516 - accuracy: 0.7116 - val_loss: 2.8341 - val_accuracy: 0.2022\n",
            "Epoch 36/50\n",
            "16/16 [==============================] - 1s 73ms/step - loss: 1.1250 - accuracy: 0.7141 - val_loss: 2.5381 - val_accuracy: 0.2584\n",
            "Epoch 37/50\n",
            "16/16 [==============================] - 1s 70ms/step - loss: 1.0850 - accuracy: 0.7179 - val_loss: 2.6595 - val_accuracy: 0.2472\n",
            "Epoch 38/50\n",
            "16/16 [==============================] - 1s 73ms/step - loss: 1.0207 - accuracy: 0.7431 - val_loss: 2.7326 - val_accuracy: 0.2360\n",
            "Epoch 39/50\n",
            "16/16 [==============================] - 1s 70ms/step - loss: 0.9589 - accuracy: 0.7783 - val_loss: 2.6299 - val_accuracy: 0.2697\n",
            "Epoch 40/50\n",
            "16/16 [==============================] - 1s 71ms/step - loss: 0.9525 - accuracy: 0.7796 - val_loss: 2.9937 - val_accuracy: 0.1910\n",
            "Epoch 41/50\n",
            "16/16 [==============================] - 1s 74ms/step - loss: 0.9259 - accuracy: 0.7720 - val_loss: 2.9401 - val_accuracy: 0.2135\n",
            "Epoch 42/50\n",
            "16/16 [==============================] - 1s 73ms/step - loss: 0.9451 - accuracy: 0.7834 - val_loss: 2.8464 - val_accuracy: 0.2472\n",
            "Epoch 43/50\n",
            "16/16 [==============================] - 1s 70ms/step - loss: 0.9316 - accuracy: 0.7720 - val_loss: 2.9076 - val_accuracy: 0.2809\n",
            "Epoch 44/50\n",
            "16/16 [==============================] - 1s 73ms/step - loss: 0.9375 - accuracy: 0.7796 - val_loss: 3.0233 - val_accuracy: 0.1910\n",
            "Epoch 45/50\n",
            "16/16 [==============================] - 1s 74ms/step - loss: 0.8779 - accuracy: 0.8073 - val_loss: 2.9255 - val_accuracy: 0.2135\n",
            "Epoch 46/50\n",
            "16/16 [==============================] - 1s 70ms/step - loss: 0.8792 - accuracy: 0.8060 - val_loss: 3.0691 - val_accuracy: 0.2472\n",
            "Epoch 47/50\n",
            "16/16 [==============================] - 1s 70ms/step - loss: 0.8965 - accuracy: 0.7796 - val_loss: 2.9193 - val_accuracy: 0.2697\n",
            "Epoch 48/50\n",
            "16/16 [==============================] - 1s 70ms/step - loss: 0.8328 - accuracy: 0.8174 - val_loss: 2.9825 - val_accuracy: 0.2472\n",
            "Epoch 49/50\n",
            "16/16 [==============================] - 1s 70ms/step - loss: 0.8205 - accuracy: 0.8262 - val_loss: 2.9346 - val_accuracy: 0.2921\n",
            "Epoch 50/50\n",
            "16/16 [==============================] - 1s 73ms/step - loss: 0.8354 - accuracy: 0.8098 - val_loss: 3.0432 - val_accuracy: 0.2697\n"
          ],
          "name": "stdout"
        }
      ]
    },
    {
      "cell_type": "code",
      "metadata": {
        "id": "E2c4EYSQGWTl"
      },
      "source": [
        "from keras.layers import Conv3D,MaxPool3D\n",
        "def c3d_model(input_shape):\n",
        "  input = Input(shape = input_shape)\n",
        "  X = Conv3D(64,(1,3,3),activation = 'relu')(input)\n",
        "  X = MaxPool3D((1,2,2),strides=(1,2,2))(X)\n",
        "  X = Conv3D(128,(1,3,3),activation='relu')(X)\n",
        "  X = MaxPool3D((1,2,2),strides=(2,2,2))(X)\n",
        "  X = Conv3D(128,(1,1,1),activation='relu')(X)\n",
        "  X = Conv3D(256,(1,1,1),activation = 'relu')(X)\n",
        "  X = MaxPool3D((2,2,2),strides=(2,2,2))(X)\n",
        "  X = Conv3D(256,(1,1,1),activation='relu')(X)\n",
        "  X = Conv3D(512,(1,1,1),activation='relu')(X)\n",
        "  X = MaxPool3D((2,2,2),strides=(2,2,2))(X)\n",
        "  X = Conv3D(512,(1,1,1),activation='relu')(X)\n",
        "  X = Conv3D(512,(1,1,1),activation='relu')(X)\n",
        "  X = MaxPool3D((1,1,1),strides=(2,2,2))(X)\n",
        "  X = Flatten()(X)\n",
        "  X = Dense(4096)(X)\n",
        "  X = Dropout(0.5)(X)\n",
        "  X = Dense(4096)(X)\n",
        "  X = Dropout(0.5)(X)\n",
        "  out = Dense(8,activation='softmax')(X)\n",
        "  model = Model(inputs = input,outputs = out)\n",
        "  return model"
      ],
      "execution_count": null,
      "outputs": []
    },
    {
      "cell_type": "code",
      "metadata": {
        "id": "AJMMChI-GaLX"
      },
      "source": [
        "c3d = c3d_model((12,48,48,1))"
      ],
      "execution_count": null,
      "outputs": []
    },
    {
      "cell_type": "code",
      "metadata": {
        "id": "HK2JAMDxGc7t"
      },
      "source": [
        "c3d.compile(optimizer='adam', loss='categorical_crossentropy', metrics=['accuracy'])"
      ],
      "execution_count": null,
      "outputs": []
    },
    {
      "cell_type": "code",
      "metadata": {
        "colab": {
          "base_uri": "https://localhost:8080/"
        },
        "id": "q7aW_akNGdqC",
        "outputId": "0e8b94dc-ad20-43c2-e79e-2a3b79a92cde"
      },
      "source": [
        "history2=c3d.fit(X_train,y_train,epochs=50,batch_size=32,validation_data=(X_test,y_test))"
      ],
      "execution_count": null,
      "outputs": [
        {
          "output_type": "stream",
          "text": [
            "Epoch 1/50\n",
            "25/25 [==============================] - 4s 100ms/step - loss: 5.2079 - accuracy: 0.1718 - val_loss: 2.1114 - val_accuracy: 0.0674\n",
            "Epoch 2/50\n",
            "25/25 [==============================] - 2s 75ms/step - loss: 2.0065 - accuracy: 0.1852 - val_loss: 1.9340 - val_accuracy: 0.2135\n",
            "Epoch 3/50\n",
            "25/25 [==============================] - 2s 75ms/step - loss: 1.9671 - accuracy: 0.1976 - val_loss: 1.9121 - val_accuracy: 0.2472\n",
            "Epoch 4/50\n",
            "25/25 [==============================] - 2s 75ms/step - loss: 1.9927 - accuracy: 0.1907 - val_loss: 1.9349 - val_accuracy: 0.2472\n",
            "Epoch 5/50\n",
            "25/25 [==============================] - 2s 75ms/step - loss: 1.9571 - accuracy: 0.2499 - val_loss: 1.9250 - val_accuracy: 0.2472\n",
            "Epoch 6/50\n",
            "25/25 [==============================] - 2s 79ms/step - loss: 1.9178 - accuracy: 0.2664 - val_loss: 1.8832 - val_accuracy: 0.2472\n",
            "Epoch 7/50\n",
            "25/25 [==============================] - 2s 76ms/step - loss: 1.9442 - accuracy: 0.2467 - val_loss: 1.9177 - val_accuracy: 0.2472\n",
            "Epoch 8/50\n",
            "25/25 [==============================] - 2s 76ms/step - loss: 1.9789 - accuracy: 0.1796 - val_loss: 1.9730 - val_accuracy: 0.2472\n",
            "Epoch 9/50\n",
            "25/25 [==============================] - 2s 76ms/step - loss: 1.9901 - accuracy: 0.2240 - val_loss: 1.8613 - val_accuracy: 0.2584\n",
            "Epoch 10/50\n",
            "25/25 [==============================] - 2s 75ms/step - loss: 1.9619 - accuracy: 0.1850 - val_loss: 1.8752 - val_accuracy: 0.2472\n",
            "Epoch 11/50\n",
            "25/25 [==============================] - 2s 76ms/step - loss: 1.9922 - accuracy: 0.2103 - val_loss: 1.8626 - val_accuracy: 0.2472\n",
            "Epoch 12/50\n",
            "25/25 [==============================] - 2s 76ms/step - loss: 1.9643 - accuracy: 0.2191 - val_loss: 1.8873 - val_accuracy: 0.2472\n",
            "Epoch 13/50\n",
            "25/25 [==============================] - 2s 76ms/step - loss: 1.9759 - accuracy: 0.1993 - val_loss: 1.8795 - val_accuracy: 0.2472\n",
            "Epoch 14/50\n",
            "25/25 [==============================] - 2s 75ms/step - loss: 1.9636 - accuracy: 0.2229 - val_loss: 1.9056 - val_accuracy: 0.2472\n",
            "Epoch 15/50\n",
            "25/25 [==============================] - 2s 79ms/step - loss: 1.9701 - accuracy: 0.2002 - val_loss: 1.8963 - val_accuracy: 0.2472\n",
            "Epoch 16/50\n",
            "25/25 [==============================] - 2s 75ms/step - loss: 1.9624 - accuracy: 0.1968 - val_loss: 1.8645 - val_accuracy: 0.2809\n",
            "Epoch 17/50\n",
            "25/25 [==============================] - 2s 75ms/step - loss: 1.9818 - accuracy: 0.1822 - val_loss: 1.8690 - val_accuracy: 0.2921\n",
            "Epoch 18/50\n",
            "25/25 [==============================] - 2s 76ms/step - loss: 1.9519 - accuracy: 0.2360 - val_loss: 1.8956 - val_accuracy: 0.2360\n",
            "Epoch 19/50\n",
            "25/25 [==============================] - 2s 76ms/step - loss: 1.9686 - accuracy: 0.2242 - val_loss: 1.8676 - val_accuracy: 0.2472\n",
            "Epoch 20/50\n",
            "25/25 [==============================] - 2s 76ms/step - loss: 1.9553 - accuracy: 0.2457 - val_loss: 1.8383 - val_accuracy: 0.2360\n",
            "Epoch 21/50\n",
            "25/25 [==============================] - 2s 76ms/step - loss: 1.9500 - accuracy: 0.2500 - val_loss: 1.8661 - val_accuracy: 0.2247\n",
            "Epoch 22/50\n",
            "25/25 [==============================] - 2s 76ms/step - loss: 1.9449 - accuracy: 0.2230 - val_loss: 1.9163 - val_accuracy: 0.2360\n",
            "Epoch 23/50\n",
            "25/25 [==============================] - 2s 75ms/step - loss: 1.9421 - accuracy: 0.1956 - val_loss: 1.8531 - val_accuracy: 0.2472\n",
            "Epoch 24/50\n",
            "25/25 [==============================] - 2s 76ms/step - loss: 1.9384 - accuracy: 0.2258 - val_loss: 1.8530 - val_accuracy: 0.2584\n",
            "Epoch 25/50\n",
            "25/25 [==============================] - 2s 76ms/step - loss: 1.8939 - accuracy: 0.2301 - val_loss: 1.9068 - val_accuracy: 0.2360\n",
            "Epoch 26/50\n",
            "25/25 [==============================] - 2s 79ms/step - loss: 1.9052 - accuracy: 0.2521 - val_loss: 1.8421 - val_accuracy: 0.2247\n",
            "Epoch 27/50\n",
            "25/25 [==============================] - 2s 76ms/step - loss: 1.9235 - accuracy: 0.2510 - val_loss: 1.8860 - val_accuracy: 0.2472\n",
            "Epoch 28/50\n",
            "25/25 [==============================] - 2s 76ms/step - loss: 1.9498 - accuracy: 0.2365 - val_loss: 1.8643 - val_accuracy: 0.2697\n",
            "Epoch 29/50\n",
            "25/25 [==============================] - 2s 76ms/step - loss: 1.9622 - accuracy: 0.2311 - val_loss: 1.8585 - val_accuracy: 0.2472\n",
            "Epoch 30/50\n",
            "25/25 [==============================] - 2s 76ms/step - loss: 1.9326 - accuracy: 0.2544 - val_loss: 1.8657 - val_accuracy: 0.2809\n",
            "Epoch 31/50\n",
            "25/25 [==============================] - 2s 77ms/step - loss: 1.9368 - accuracy: 0.2305 - val_loss: 1.9057 - val_accuracy: 0.2360\n",
            "Epoch 32/50\n",
            "25/25 [==============================] - 2s 76ms/step - loss: 1.9073 - accuracy: 0.2520 - val_loss: 1.8901 - val_accuracy: 0.2135\n",
            "Epoch 33/50\n",
            "25/25 [==============================] - 2s 76ms/step - loss: 1.8891 - accuracy: 0.2558 - val_loss: 1.9357 - val_accuracy: 0.1910\n",
            "Epoch 34/50\n",
            "25/25 [==============================] - 2s 76ms/step - loss: 1.8807 - accuracy: 0.2631 - val_loss: 1.8369 - val_accuracy: 0.2921\n",
            "Epoch 35/50\n",
            "25/25 [==============================] - 2s 76ms/step - loss: 1.9211 - accuracy: 0.2029 - val_loss: 1.8830 - val_accuracy: 0.1685\n",
            "Epoch 36/50\n",
            "25/25 [==============================] - 2s 76ms/step - loss: 1.8741 - accuracy: 0.2798 - val_loss: 1.9177 - val_accuracy: 0.2697\n",
            "Epoch 37/50\n",
            "25/25 [==============================] - 2s 76ms/step - loss: 1.9305 - accuracy: 0.2381 - val_loss: 1.8787 - val_accuracy: 0.2697\n",
            "Epoch 38/50\n",
            "25/25 [==============================] - 2s 76ms/step - loss: 1.8795 - accuracy: 0.2634 - val_loss: 1.9365 - val_accuracy: 0.2809\n",
            "Epoch 39/50\n",
            "25/25 [==============================] - 2s 76ms/step - loss: 1.8903 - accuracy: 0.2647 - val_loss: 1.9053 - val_accuracy: 0.3034\n",
            "Epoch 40/50\n",
            "25/25 [==============================] - 2s 76ms/step - loss: 1.8030 - accuracy: 0.2930 - val_loss: 1.9268 - val_accuracy: 0.1910\n",
            "Epoch 41/50\n",
            "25/25 [==============================] - 2s 76ms/step - loss: 1.8323 - accuracy: 0.2440 - val_loss: 1.8945 - val_accuracy: 0.2472\n",
            "Epoch 42/50\n",
            "25/25 [==============================] - 2s 76ms/step - loss: 1.8459 - accuracy: 0.2921 - val_loss: 1.9105 - val_accuracy: 0.2135\n",
            "Epoch 43/50\n",
            "25/25 [==============================] - 2s 76ms/step - loss: 1.8772 - accuracy: 0.2659 - val_loss: 1.9295 - val_accuracy: 0.2584\n",
            "Epoch 44/50\n",
            "25/25 [==============================] - 2s 77ms/step - loss: 1.8037 - accuracy: 0.3078 - val_loss: 1.9666 - val_accuracy: 0.2360\n",
            "Epoch 45/50\n",
            "25/25 [==============================] - 2s 76ms/step - loss: 1.8445 - accuracy: 0.2883 - val_loss: 1.8786 - val_accuracy: 0.2697\n",
            "Epoch 46/50\n",
            "25/25 [==============================] - 2s 77ms/step - loss: 1.7717 - accuracy: 0.3157 - val_loss: 1.9746 - val_accuracy: 0.2697\n",
            "Epoch 47/50\n",
            "25/25 [==============================] - 2s 76ms/step - loss: 1.8929 - accuracy: 0.2687 - val_loss: 1.8637 - val_accuracy: 0.2472\n",
            "Epoch 48/50\n",
            "25/25 [==============================] - 2s 83ms/step - loss: 1.8014 - accuracy: 0.3105 - val_loss: 1.9615 - val_accuracy: 0.3034\n",
            "Epoch 49/50\n",
            "25/25 [==============================] - 2s 76ms/step - loss: 1.8425 - accuracy: 0.2660 - val_loss: 2.1946 - val_accuracy: 0.2022\n",
            "Epoch 50/50\n",
            "25/25 [==============================] - 2s 76ms/step - loss: 1.7208 - accuracy: 0.3415 - val_loss: 2.0768 - val_accuracy: 0.3258\n"
          ],
          "name": "stdout"
        }
      ]
    },
    {
      "cell_type": "code",
      "metadata": {
        "id": "IGn5w7n3Uy7h"
      },
      "source": [
        "class_names = ['Neutral', 'Anger', 'Contempt', 'Disgust', 'Fear', 'Happy', 'Sad','Suprise']\n",
        "def plot_confusion_matrix(\n",
        "        cm,\n",
        "        classes,\n",
        "        normalize=False,\n",
        "        title='Confusion matrix',\n",
        "        cmap=plt.cm.Blues):\n",
        "    if normalize:\n",
        "        cm = cm.astype('float') / cm.sum(axis=1)[:, np.newaxis]\n",
        "        print(\"Normalized confusion matrix\")\n",
        "    else:\n",
        "        print('Confusion matrix, without normalization')\n",
        "    print(cm)\n",
        "    plt.figure(figsize=(10,10))\n",
        "    plt.imshow(cm, interpolation='nearest', cmap=cmap)\n",
        "    plt.title(title, fontsize=12)\n",
        "    plt.colorbar()\n",
        "    tick_marks = np.arange(len(classes))\n",
        "    plt.xticks(tick_marks, classes, rotation=45,color = 'black')\n",
        "    plt.yticks(tick_marks, classes,color = 'black')\n",
        "\n",
        "    fmt = '.2f' if normalize else 'd'\n",
        "    thresh = cm.max() / 2.\n",
        "    for i, j in itertools.product(range(cm.shape[0]), range(cm.shape[1])):\n",
        "        plt.text(j, i, format(cm[i, j], fmt),\n",
        "                 horizontalalignment=\"center\",\n",
        "                 color=\"white\" if cm[i, j] > thresh else \"black\")\n",
        "\n",
        "    plt.ylabel('True label', fontsize=12,color='black')\n",
        "    plt.xlabel('Predicted label', fontsize=12,color='black')\n",
        "    plt.tight_layout()\n",
        "    plt.savefig('confusion_matrix.png')"
      ],
      "execution_count": null,
      "outputs": []
    },
    {
      "cell_type": "code",
      "metadata": {
        "colab": {
          "base_uri": "https://localhost:8080/"
        },
        "id": "v7z5I4M6U0Rg",
        "outputId": "dc0ea9e5-5de6-4ba7-9d3d-f0e9da59e077"
      },
      "source": [
        "ans = np.argmax(model1.predict(X_test),axis=-1)\n",
        "y_test_fine = np.argmax(y_test,axis=1)"
      ],
      "execution_count": null,
      "outputs": [
        {
          "output_type": "stream",
          "text": [
            "/usr/local/lib/python3.7/dist-packages/tensorflow/python/data/ops/dataset_ops.py:3704: UserWarning: Even though the `tf.config.experimental_run_functions_eagerly` option is set, this option does not apply to tf.data functions. To force eager execution of tf.data functions, please use `tf.data.experimental.enable.debug_mode()`.\n",
            "  \"Even though the `tf.config.experimental_run_functions_eagerly` \"\n"
          ],
          "name": "stderr"
        }
      ]
    },
    {
      "cell_type": "code",
      "metadata": {
        "colab": {
          "base_uri": "https://localhost:8080/",
          "height": 1000
        },
        "id": "BRvWxCQNVJUC",
        "outputId": "e0f70714-1dc4-40e6-dc5f-e7809a4c6d85"
      },
      "source": [
        "matrix = confusion_matrix(y_test_fine,ans)\n",
        "plot_confusion_matrix(\n",
        "        matrix,\n",
        "        classes=class_names,\n",
        "        normalize=True,\n",
        "        title='Confusion Matrix')"
      ],
      "execution_count": null,
      "outputs": [
        {
          "output_type": "stream",
          "text": [
            "Normalized confusion matrix\n",
            "[[0.2        0.05       0.         0.05       0.         0.1\n",
            "  0.4        0.2       ]\n",
            " [0.10526316 0.21052632 0.         0.         0.05263158 0.15789474\n",
            "  0.26315789 0.21052632]\n",
            " [0.5        0.         0.         0.         0.5        0.\n",
            "  0.         0.        ]\n",
            " [0.33333333 0.33333333 0.33333333 0.         0.         0.\n",
            "  0.         0.        ]\n",
            " [0.4        0.2        0.         0.         0.         0.2\n",
            "  0.         0.2       ]\n",
            " [0.09090909 0.13636364 0.         0.04545455 0.04545455 0.40909091\n",
            "  0.22727273 0.04545455]\n",
            " [0.16666667 0.         0.         0.         0.         0.16666667\n",
            "  0.66666667 0.        ]\n",
            " [0.08333333 0.25       0.         0.         0.         0.16666667\n",
            "  0.16666667 0.33333333]]\n"
          ],
          "name": "stdout"
        },
        {
          "output_type": "display_data",
          "data": {
            "image/png": "[encoded data removed]",
            "text/plain": [
              "<Figure size 720x720 with 2 Axes>"
            ]
          },
          "metadata": {
            "tags": [],
            "needs_background": "light"
          }
        }
      ]
    },
    {
      "cell_type": "code",
      "metadata": {
        "id": "XAxGCevjVexv"
      },
      "source": [
        "ans = np.argmax(c3d.predict(X_test),axis=-1)\n",
        "y_test_c3d = np.argmax(y_test,axis=1)\n"
      ],
      "execution_count": null,
      "outputs": []
    },
    {
      "cell_type": "code",
      "metadata": {
        "colab": {
          "base_uri": "https://localhost:8080/",
          "height": 1000
        },
        "id": "UWT0kKDkVhZX",
        "outputId": "31917ee5-caab-4070-b676-aae4817d55c9"
      },
      "source": [
        "matrix = confusion_matrix(y_test_c3d,ans)\n",
        "plot_confusion_matrix(\n",
        "        matrix,\n",
        "        classes=class_names,\n",
        "        normalize=True,\n",
        "        title='Confusion Matrix')"
      ],
      "execution_count": null,
      "outputs": [
        {
          "output_type": "stream",
          "text": [
            "Normalized confusion matrix\n",
            "[[0.2        0.25       0.         0.         0.         0.5\n",
            "  0.05       0.        ]\n",
            " [0.10526316 0.52631579 0.         0.         0.         0.36842105\n",
            "  0.         0.        ]\n",
            " [0.         0.         0.         0.         0.         0.5\n",
            "  0.5        0.        ]\n",
            " [0.         0.33333333 0.         0.         0.         0.66666667\n",
            "  0.         0.        ]\n",
            " [0.         0.4        0.         0.         0.         0.6\n",
            "  0.         0.        ]\n",
            " [0.04545455 0.31818182 0.         0.         0.         0.63636364\n",
            "  0.         0.        ]\n",
            " [0.16666667 0.33333333 0.         0.         0.         0.33333333\n",
            "  0.16666667 0.        ]\n",
            " [0.08333333 0.41666667 0.         0.08333333 0.         0.41666667\n",
            "  0.         0.        ]]\n"
          ],
          "name": "stdout"
        },
        {
          "output_type": "display_data",
          "data": {
            "image/png": "[encoded data removed]",
            "text/plain": [
              "<Figure size 720x720 with 2 Axes>"
            ]
          },
          "metadata": {
            "tags": [],
            "needs_background": "light"
          }
        }
      ]
    },
    {
      "cell_type": "code",
      "metadata": {
        "colab": {
          "base_uri": "https://localhost:8080/",
          "height": 281
        },
        "id": "9BWxGYNqwG-W",
        "outputId": "c8ad0a8b-4b3e-44f2-b574-89248b9d5dfd"
      },
      "source": [
        "acc = history1.history['accuracy']\n",
        "val_acc = history1.history['val_accuracy']\n",
        "loss = history1.history['loss']\n",
        "val_loss = history1.history['val_loss']\n",
        "\n",
        "epochs = range(len(acc))\n",
        "\n",
        "plt.plot(epochs, acc, 'r', label='Training accuracy')\n",
        "plt.plot(epochs, val_acc, 'b', label='Validation accuracy')\n",
        "plt.title('Training and validation accuracy LSTM')\n",
        "plt.legend(loc=0)\n",
        "plt.grid()\n",
        "plt.show()"
      ],
      "execution_count": null,
      "outputs": [
        {
          "output_type": "display_data",
          "data": {
            "image/png": "[encoded data removed]",
            "text/plain": [
              "<Figure size 432x288 with 1 Axes>"
            ]
          },
          "metadata": {
            "tags": [],
            "needs_background": "light"
          }
        }
      ]
    },
    {
      "cell_type": "code",
      "metadata": {
        "colab": {
          "base_uri": "https://localhost:8080/",
          "height": 281
        },
        "id": "1uCFykEPpSe5",
        "outputId": "7bef3c58-4ab9-4175-efe6-80b7e1760b6f"
      },
      "source": [
        "acc = history2.history['accuracy']\n",
        "val_acc = history2.history['val_accuracy']\n",
        "loss = history2.history['loss']\n",
        "val_loss = history2.history['val_loss']\n",
        "\n",
        "epochs = range(len(acc))\n",
        "\n",
        "plt.plot(epochs, acc, 'r', label='Training accuracy')\n",
        "plt.plot(epochs, val_acc, 'b', label='Validation accuracy')\n",
        "plt.title('Training and validation accuracy C3D')\n",
        "plt.legend(loc=0)\n",
        "plt.grid()\n",
        "plt.show()"
      ],
      "execution_count": null,
      "outputs": [
        {
          "output_type": "display_data",
          "data": {
            "image/png": "[encoded data removed]",
            "text/plain": [
              "<Figure size 432x288 with 1 Axes>"
            ]
          },
          "metadata": {
            "tags": [],
            "needs_background": "light"
          }
        }
      ]
    },
    {
      "cell_type": "code",
      "metadata": {
        "colab": {
          "base_uri": "https://localhost:8080/",
          "height": 295
        },
        "id": "qhbGBZ2Hpf7V",
        "outputId": "af475536-1f18-4199-8a98-937d454fad7a"
      },
      "source": [
        "plt.plot(history1.history['loss'])\n",
        "plt.plot(history1.history['val_loss'])\n",
        "plt.title('model loss')\n",
        "plt.ylabel('loss')\n",
        "plt.xlabel('epoch')\n",
        "plt.legend(['train', 'test'], loc='upper left')\n",
        "plt.show()"
      ],
      "execution_count": null,
      "outputs": [
        {
          "output_type": "display_data",
          "data": {
            "image/png": "[encoded data removed]",
            "text/plain": [
              "<Figure size 432x288 with 1 Axes>"
            ]
          },
          "metadata": {
            "tags": [],
            "needs_background": "light"
          }
        }
      ]
    },
    {
      "cell_type": "code",
      "metadata": {
        "colab": {
          "base_uri": "https://localhost:8080/",
          "height": 295
        },
        "id": "F6dywXwwqVX2",
        "outputId": "67b332eb-f70e-4566-db19-3b059cd900fc"
      },
      "source": [
        "plt.plot(history2.history['loss'])\n",
        "plt.plot(history2.history['val_loss'])\n",
        "\n",
        "plt.title('model loss')\n",
        "plt.ylabel('loss')\n",
        "plt.xlabel('epoch')\n",
        "plt.legend(['train','test'], loc='upper left')\n",
        "plt.show()"
      ],
      "execution_count": null,
      "outputs": [
        {
          "output_type": "display_data",
          "data": {
            "image/png": "[encoded data removed]",
            "text/plain": [
              "<Figure size 432x288 with 1 Axes>"
            ]
          },
          "metadata": {
            "tags": [],
            "needs_background": "light"
          }
        }
      ]
    }
  ]
}