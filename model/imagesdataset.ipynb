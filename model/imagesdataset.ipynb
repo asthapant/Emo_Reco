{
  "nbformat": 4,
  "nbformat_minor": 0,
  "metadata": {
    "accelerator": "GPU",
    "colab": {
      "name": "Untitled6.ipynb",
      "provenance": [],
      "collapsed_sections": []
    },
    "kernelspec": {
      "display_name": "Python 3",
      "name": "python3"
    },
    "language_info": {
      "name": "python"
    }
  },
  "cells": [
    {
      "cell_type": "code",
      "metadata": {
        "id": "wSvmu7VsI0bU"
      },
      "source": [
        "import cv2\n",
        "import numpy as np\n",
        "from PIL import Image\n",
        "import dlib\n",
        "import argparse\n",
        "import imutils\n",
        "import math\n",
        "from matplotlib import pyplot as plt"
      ],
      "execution_count": null,
      "outputs": []
    },
    {
      "cell_type": "code",
      "metadata": {
        "colab": {
          "base_uri": "https://localhost:8080/"
        },
        "id": "HIhmXGTEK5fG",
        "outputId": "cbae903a-5f15-40aa-f36d-5b293be13251"
      },
      "source": [
        "!wget http://dlib.net/files/shape_predictor_68_face_landmarks.dat.bz2"
      ],
      "execution_count": null,
      "outputs": [
        {
          "output_type": "stream",
          "text": [
            "--2021-07-06 08:39:35--  http://dlib.net/files/shape_predictor_68_face_landmarks.dat.bz2\n",
            "Resolving dlib.net (dlib.net)... 107.180.26.78\n",
            "Connecting to dlib.net (dlib.net)|107.180.26.78|:80... connected.\n",
            "HTTP request sent, awaiting response... 200 OK\n",
            "Length: 64040097 (61M)\n",
            "Saving to: ‘shape_predictor_68_face_landmarks.dat.bz2’\n",
            "\n",
            "shape_predictor_68_ 100%[===================>]  61.07M  41.2MB/s    in 1.5s    \n",
            "\n",
            "2021-07-06 08:39:36 (41.2 MB/s) - ‘shape_predictor_68_face_landmarks.dat.bz2’ saved [64040097/64040097]\n",
            "\n"
          ],
          "name": "stdout"
        }
      ]
    },
    {
      "cell_type": "code",
      "metadata": {
        "id": "b3O1ees0LcpG"
      },
      "source": [
        "!bunzip2 'shape_predictor_68_face_landmarks.dat.bz2'"
      ],
      "execution_count": null,
      "outputs": []
    },
    {
      "cell_type": "code",
      "metadata": {
        "id": "ww_0iRraI8mk"
      },
      "source": [
        "detector = dlib.get_frontal_face_detector()\n",
        "predictor = dlib.shape_predictor('shape_predictor_68_face_landmarks.dat')"
      ],
      "execution_count": null,
      "outputs": []
    },
    {
      "cell_type": "code",
      "metadata": {
        "id": "mL2vus-qbnfQ"
      },
      "source": [
        "def func1(rect):\n",
        "  if len(rects) > 0:\n",
        "    for rect in rects:\n",
        "        x = rect.left()\n",
        "        y = rect.top()\n",
        "        w = rect.right() -x\n",
        "        h = rect.bottom() -y\n",
        "  return (x,y,w,h)"
      ],
      "execution_count": null,
      "outputs": []
    },
    {
      "cell_type": "code",
      "metadata": {
        "id": "nD0fm8c5cq7P"
      },
      "source": [
        "def shape_to_normal(shape):\n",
        "    shape_normal = np.zeros((68,2))\n",
        "    for i in range(0, 68):\n",
        "      shape_normal[i] = (shape.part(i).x, shape.part(i).y)\n",
        "    return shape_normal"
      ],
      "execution_count": null,
      "outputs": []
    },
    {
      "cell_type": "code",
      "metadata": {
        "id": "8YACGsLmgNLA"
      },
      "source": [
        "def func3(shape_normal):\n",
        "  dis = (np.sum(shape_normal[42:47,1]) - np.sum(shape_normal[36:41,1]))/(np.sum(shape_normal[42:47,0]) - np.sum(shape_normal[36:41,0])) \n",
        "  angle=math.degrees(math.atan(dis))\n",
        "  return angle"
      ],
      "execution_count": null,
      "outputs": []
    },
    {
      "cell_type": "code",
      "metadata": {
        "id": "oG1SCG8ng9ot"
      },
      "source": [
        "def rotate_image(image, shapex):\n",
        "  angle=func3(shapex)\n",
        "  image_center = tuple(np.array(image.shape[1::-1]) / 2)\n",
        "  rot_mat = cv2.getRotationMatrix2D(image_center, angle, 1.0)\n",
        "  result = cv2.warpAffine(image, rot_mat, image.shape[1::-1], flags=cv2.INTER_LINEAR)\n",
        "  return result"
      ],
      "execution_count": null,
      "outputs": []
    },
    {
      "cell_type": "code",
      "metadata": {
        "id": "Md_AdJAxhHEI"
      },
      "source": [
        "# load the input image, resize it, and convert it to grayscale\n",
        "image = cv2.imread(\"image3.jpg\")\n",
        "image = imutils.resize(image, width=500)\n",
        "gray = cv2.cvtColor(image, cv2.COLOR_BGR2GRAY)"
      ],
      "execution_count": null,
      "outputs": []
    },
    {
      "cell_type": "code",
      "metadata": {
        "id": "yppiQEGTj1YP"
      },
      "source": [
        "from google.colab.patches import cv2_imshow"
      ],
      "execution_count": null,
      "outputs": []
    },
    {
      "cell_type": "code",
      "metadata": {
        "colab": {
          "base_uri": "https://localhost:8080/"
        },
        "id": "w5jIoKk7jX0d",
        "outputId": "ea9cda1d-2c0d-4201-af8a-de1c207b1f40"
      },
      "source": [
        "rects = detector(gray, 1)\n",
        "print(len(rects))"
      ],
      "execution_count": null,
      "outputs": [
        {
          "output_type": "stream",
          "text": [
            "1\n"
          ],
          "name": "stdout"
        }
      ]
    },
    {
      "cell_type": "code",
      "metadata": {
        "colab": {
          "base_uri": "https://localhost:8080/"
        },
        "id": "0_qxrATgkBXv",
        "outputId": "c89bd5b4-8bdd-4689-8e66-439378f58016"
      },
      "source": [
        "for (i, rect) in enumerate(rects):\n",
        "    # determine the facial landmarks for the face region, then\n",
        "    # convert the landmark (x, y)-coordinates to a NumPy array\n",
        "    (x, y, w, h) = func1(rect)\n",
        "    print(i, x, y, w, h)"
      ],
      "execution_count": null,
      "outputs": [
        {
          "output_type": "stream",
          "text": [
            "0 82 142 267 267\n"
          ],
          "name": "stdout"
        }
      ]
    },
    {
      "cell_type": "code",
      "metadata": {
        "id": "IwJAaNPDkOGX"
      },
      "source": [
        "shape = predictor(gray, rect)"
      ],
      "execution_count": null,
      "outputs": []
    },
    {
      "cell_type": "code",
      "metadata": {
        "id": "e3CHuCORkaOK"
      },
      "source": [
        "shape1 = shape_to_normal(shape)"
      ],
      "execution_count": null,
      "outputs": []
    },
    {
      "cell_type": "code",
      "metadata": {
        "colab": {
          "base_uri": "https://localhost:8080/"
        },
        "id": "dfk4QvmNkxwy",
        "outputId": "6184daaf-ca6d-477d-c4e3-b8de91b397b5"
      },
      "source": [
        "print(shape1.shape)"
      ],
      "execution_count": null,
      "outputs": [
        {
          "output_type": "stream",
          "text": [
            "(68, 2)\n"
          ],
          "name": "stdout"
        }
      ]
    },
    {
      "cell_type": "code",
      "metadata": {
        "id": "GdF-xrP4kjV_"
      },
      "source": [
        "angle=func3(shape1)"
      ],
      "execution_count": null,
      "outputs": []
    },
    {
      "cell_type": "code",
      "metadata": {
        "colab": {
          "base_uri": "https://localhost:8080/"
        },
        "id": "zRtOE9VRmowJ",
        "outputId": "35244a69-679b-41fa-ff4b-6c180e02378c"
      },
      "source": [
        "print(angle)"
      ],
      "execution_count": null,
      "outputs": [
        {
          "output_type": "stream",
          "text": [
            "-12.78835646383159\n"
          ],
          "name": "stdout"
        }
      ]
    },
    {
      "cell_type": "code",
      "metadata": {
        "id": "wUg58Vr0mv5N"
      },
      "source": [
        "ans=rotate_image(gray, shape1)"
      ],
      "execution_count": null,
      "outputs": []
    },
    {
      "cell_type": "code",
      "metadata": {
        "colab": {
          "base_uri": "https://localhost:8080/"
        },
        "id": "yDirrHRXm9KL",
        "outputId": "36367179-2e69-4047-b107-53f876772f83"
      },
      "source": [
        "print(ans)"
      ],
      "execution_count": null,
      "outputs": [
        {
          "output_type": "stream",
          "text": [
            "[[0 0 0 ... 0 0 0]\n",
            " [0 0 0 ... 0 0 0]\n",
            " [0 0 0 ... 0 0 0]\n",
            " ...\n",
            " [0 0 0 ... 0 0 0]\n",
            " [0 0 0 ... 0 0 0]\n",
            " [0 0 0 ... 0 0 0]]\n"
          ],
          "name": "stdout"
        }
      ]
    },
    {
      "cell_type": "code",
      "metadata": {
        "colab": {
          "base_uri": "https://localhost:8080/"
        },
        "id": "WXBPKYmFnDX0",
        "outputId": "d6bff6af-cd04-4f79-ce74-355bd2cf261c"
      },
      "source": [
        "ans.shape"
      ],
      "execution_count": null,
      "outputs": [
        {
          "output_type": "execute_result",
          "data": {
            "text/plain": [
              "(567, 500)"
            ]
          },
          "metadata": {
            "tags": []
          },
          "execution_count": 149
        }
      ]
    },
    {
      "cell_type": "code",
      "metadata": {
        "id": "YPP6zn2Y_R9h"
      },
      "source": [
        "def face_align(image):\n",
        "  image = np.array(image)\n",
        "  image = image.astype(np.uint8)\n",
        "  gray = image\n",
        "  #gray = cv2.cvtColor(image, cv2.COLOR_BGR2GRAY)\n",
        "#  print(gray)\n",
        "  rects = detector(gray, 1)\n",
        "#  print(len(rects))\n",
        "  if len(rects) > 0:\n",
        "\n",
        "    images = []\n",
        "    for (i, rect) in enumerate(rects):\n",
        "      shape = predictor(gray, rect)\n",
        "      shape = shape_to_normal(shape)\n",
        "      angle=func3(shape)\n",
        "      rotated_image = rotate_image(gray , shape)\n",
        "      images.append(rotated_image)\n",
        "    #  print(rotated_image)\n",
        "    if len(rects) == 1 :\n",
        "      return rotated_image\n",
        "    else:\n",
        "      return images\n",
        "  else:\n",
        "    #print(\"Error : number of detected face is zero, so we just return original image\")\n",
        "    return image\n"
      ],
      "execution_count": null,
      "outputs": []
    },
    {
      "cell_type": "code",
      "metadata": {
        "colab": {
          "base_uri": "https://localhost:8080/"
        },
        "id": "fJ4G0hY2BtND",
        "outputId": "5a77c027-d2d2-4772-8a7d-e2d9e069971e"
      },
      "source": [
        "im=face_align(image)"
      ],
      "execution_count": null,
      "outputs": [
        {
          "output_type": "stream",
          "text": [
            "[[ 85 119 132 ...  99 100  98]\n",
            " [ 88 120 133 ...  93  99  99]\n",
            " [ 84 117 131 ...  94 100  98]\n",
            " ...\n",
            " [ 82  33  34 ...  91  91  63]\n",
            " [ 71  17  21 ...  95  89  26]\n",
            " [ 83  29  31 ...  98  92  24]]\n",
            "[[0 0 0 ... 0 0 0]\n",
            " [0 0 0 ... 0 0 0]\n",
            " [0 0 0 ... 0 0 0]\n",
            " ...\n",
            " [0 0 0 ... 0 0 0]\n",
            " [0 0 0 ... 0 0 0]\n",
            " [0 0 0 ... 0 0 0]]\n"
          ],
          "name": "stdout"
        }
      ]
    },
    {
      "cell_type": "code",
      "metadata": {
        "colab": {
          "base_uri": "https://localhost:8080/",
          "height": 584
        },
        "id": "RjkUE_KvnNqf",
        "outputId": "ae300bb6-3ac4-4d86-9d2f-6475983a4141"
      },
      "source": [
        "cv2_imshow(im)"
      ],
      "execution_count": null,
      "outputs": [
        {
          "output_type": "display_data",
          "data": {
            "image/png": "[encoded data removed]",
            "text/plain": [
              "<PIL.Image.Image image mode=L size=500x567 at 0x7F6EE4C01A50>"
            ]
          },
          "metadata": {
            "tags": []
          }
        }
      ]
    },
    {
      "cell_type": "code",
      "metadata": {
        "id": "usKG_PbMnUSu"
      },
      "source": [
        "shape2 = predictor(ans, rect)\n",
        "shape22 = shape_to_normal(shape2)\n"
      ],
      "execution_count": null,
      "outputs": []
    },
    {
      "cell_type": "code",
      "metadata": {
        "id": "Qei_Bd51mSKb"
      },
      "source": [
        "import skimage"
      ],
      "execution_count": null,
      "outputs": []
    },
    {
      "cell_type": "code",
      "metadata": {
        "id": "v5wavmG6l_GH"
      },
      "source": [
        "from skimage.io import imread, imshow\n",
        "from skimage import draw"
      ],
      "execution_count": null,
      "outputs": []
    },
    {
      "cell_type": "code",
      "metadata": {
        "id": "hj23ewXylzBw"
      },
      "source": [
        "outline = shape22[[*range(17), *range(26,16,-1)]]\n",
        "Y, X = skimage.draw.polygon(outline[:,1], outline[:,0])"
      ],
      "execution_count": null,
      "outputs": []
    },
    {
      "cell_type": "code",
      "metadata": {
        "id": "HTMOQ9T8mYl6"
      },
      "source": [
        "cropped_img = np.zeros(ans.shape, dtype=np.uint8)\n",
        "cropped_img[Y, X] = ans[Y, X]"
      ],
      "execution_count": null,
      "outputs": []
    },
    {
      "cell_type": "code",
      "metadata": {
        "colab": {
          "base_uri": "https://localhost:8080/",
          "height": 584
        },
        "id": "66oZm6xumkzl",
        "outputId": "b6755ebc-c110-45cd-e22c-3596e0969b00"
      },
      "source": [
        "cv2_imshow(cropped_img)"
      ],
      "execution_count": null,
      "outputs": [
        {
          "output_type": "display_data",
          "data": {
            "image/png": "[encoded data removed]",
            "text/plain": [
              "<PIL.Image.Image image mode=L size=500x567 at 0x7F71B1BE5410>"
            ]
          },
          "metadata": {
            "tags": []
          }
        }
      ]
    },
    {
      "cell_type": "code",
      "metadata": {
        "id": "wOM3Ie_uoz03"
      },
      "source": [
        "def forehead_dist(shape_normal):\n",
        "\n",
        "  d = (np.sum(shape_normal[42:47,1]) - np.sum(shape_normal[36:41,1]))/ 6\n",
        "  return d"
      ],
      "execution_count": null,
      "outputs": []
    },
    {
      "cell_type": "code",
      "metadata": {
        "id": "BRWT3EEgnt-2"
      },
      "source": [
        "def face_cropping_without_forehead(image):  \n",
        "\n",
        " \n",
        "  rects = detector(image ,1)           \n",
        "  if len(rects) > 0:\n",
        "    images = []\n",
        "    for (i, rect) in enumerate(rects):\n",
        "\t\n",
        "      shape = predictor(image, rect)\n",
        "      shape = shape_to_normal(shape)\n",
        "   \n",
        "      # [i.e., (x, y, w, h)], then draw the face bounding box\n",
        "      #(x1, y1, w1, h1) = func1(rect)\n",
        "\n",
        "      d =(np.sum(shape[42:47,1]) - np.sum(shape[36:41,1]))/ 6\n",
        "      top_y = int(np.sum(shape[42 : 47, 1]) / 6 - 0.6 * d)\n",
        "      left_x, left_y = shape[0]\n",
        "      bottom_x, bottom_y = shape[8]\n",
        "      right_x, right_y = shape[16]\n",
        "      cropped_image = image[int(top_y) : int(bottom_y), int(left_x) : int(right_x)]\n",
        "     # print(image.shape[1])\n",
        "     # print(shape.shape)\n",
        "      if cropped_image.shape[0] == 0: \n",
        "        cropped_image = image[0:-1,int(left_x) : int(right_x)] \n",
        "      if cropped_image.shape[1] == 0:\n",
        "        cropped_image = image[int(top_y) : int(bottom_y),  0:-1]\n",
        "      images.append(cropped_image)\n",
        "    if len(rects) == 1 :\n",
        "      return cropped_image\n",
        "    else:\n",
        "      return images\n",
        "\n",
        "  \n",
        "  else:\n",
        "    #print(\"Error : number of detected face is zero, so we just return original image\")\n",
        "    return image"
      ],
      "execution_count": null,
      "outputs": []
    },
    {
      "cell_type": "code",
      "metadata": {
        "colab": {
          "base_uri": "https://localhost:8080/"
        },
        "id": "BDhzCtjZoqxC",
        "outputId": "8f90adc8-ebc4-464d-b02d-38489f61e2fe"
      },
      "source": [
        "ans2=face_cropping_without_forehead(ans)"
      ],
      "execution_count": null,
      "outputs": [
        {
          "output_type": "stream",
          "text": [
            "500\n",
            "(68, 2)\n"
          ],
          "name": "stdout"
        }
      ]
    },
    {
      "cell_type": "code",
      "metadata": {
        "colab": {
          "base_uri": "https://localhost:8080/",
          "height": 232
        },
        "id": "33AHgKeqppOP",
        "outputId": "311d2c37-9dbe-4ed1-e6c3-dbf757b503e0"
      },
      "source": [
        "cv2_imshow(ans2)"
      ],
      "execution_count": null,
      "outputs": [
        {
          "output_type": "display_data",
          "data": {
            "image/png": "[encoded data removed]",
            "text/plain": [
              "<PIL.Image.Image image mode=L size=219x215 at 0x7F71B1BE5710>"
            ]
          },
          "metadata": {
            "tags": []
          }
        }
      ]
    },
    {
      "cell_type": "code",
      "metadata": {
        "id": "tuLKiA2fpsGD"
      },
      "source": [
        "def face_cropping_without_background(image):         # implementing face cropping without background\n",
        "  #gray_image = cv2.cvtColor(image,cv2.COLOR_BGR2GRAY)  # convert color image to grayscale image\n",
        "  rects = detector(image ,1)             # detect faces in the grayscale image\n",
        "  if len(rects) > 0:\n",
        "    images = []\n",
        "    for (i, rect) in enumerate(rects):\n",
        "\t\n",
        "      shape = predictor(image, rect)\n",
        "      shape = shape_to_normal(shape)\n",
        "    \n",
        "      # convert dlib's rectangle to a OpenCV-style bounding box\n",
        "      # [i.e., (x, y, w, h)], then draw the face bounding box\n",
        "      (x1, y1, w1, h1) = func1(rect)\n",
        "\n",
        "      top_x, top_y = shape[19]\n",
        "      left_x, left_y = shape[0]\n",
        "      bottom_x, bottom_y = shape[8]\n",
        "      right_x, right_y = shape[16]\n",
        "      cropped_image = image[ min(int(top_y), abs(y1)) : max(int(bottom_y), abs(y1) + w1), min(int(left_x), abs(x1)) : max(int(right_x), abs(x1) + w1)]\n",
        "      if cropped_image.shape[0] == 0: \n",
        "        cropped_image = image[:,min(left_x, abs(x1)) : max(right_x, abs(x1) + w1)] \n",
        "      if cropped_image.shape[1] == 0:\n",
        "        cropped_image = image[min(top_y, abs(y1)) : max(bottom_y, abs(y1) + w1), :]\n",
        "      images.append(cropped_image)\n",
        "    if len(rects) == 1 :\n",
        "      return cropped_image\n",
        "    else:\n",
        "      return images\n",
        "  else:\n",
        "    print(\"Error : number of detected face is zero, so we just return original image\")\n",
        "    return image"
      ],
      "execution_count": null,
      "outputs": []
    },
    {
      "cell_type": "code",
      "metadata": {
        "colab": {
          "base_uri": "https://localhost:8080/",
          "height": 265
        },
        "id": "ZptVxBy8xL9v",
        "outputId": "8461b212-6af1-446f-ad94-6230b6f090aa"
      },
      "source": [
        "plt.hist(ans2.ravel(),256,[0,256]); plt.show()"
      ],
      "execution_count": null,
      "outputs": [
        {
          "output_type": "display_data",
          "data": {
            "image/png": "[encoded data removed]",
            "text/plain": [
              "<Figure size 432x288 with 1 Axes>"
            ]
          },
          "metadata": {
            "tags": []
          }
        }
      ]
    },
    {
      "cell_type": "code",
      "metadata": {
        "colab": {
          "base_uri": "https://localhost:8080/",
          "height": 761
        },
        "id": "YafnbiTR0mY-",
        "outputId": "984511ea-3be0-4c0e-a39e-182dfca7dc65"
      },
      "source": [
        "color = ('b','g','r')\n",
        " # When you want to traverse an index and traverse an element for a list or array\n",
        " # Using the built-in enumerrate function will have a more direct and beautiful approach\n",
        " #enumerate will make an array or list into an index sequence.\n",
        " # Make it easier for us to get the index and index content again\n",
        "for i,col in enumerate(color):\n",
        " histr = cv2.calcHist([image],[i],None,[256],[0,256])\n",
        " plt.plot(histr,color = col)\n",
        " plt.xlim([0,256])\n",
        " plt.show()"
      ],
      "execution_count": null,
      "outputs": [
        {
          "output_type": "display_data",
          "data": {
            "image/png": "[encoded data removed]",
            "text/plain": [
              "<Figure size 432x288 with 1 Axes>"
            ]
          },
          "metadata": {
            "tags": []
          }
        },
        {
          "output_type": "display_data",
          "data": {
            "image/png": "[encoded data removed]",
            "text/plain": [
              "<Figure size 432x288 with 1 Axes>"
            ]
          },
          "metadata": {
            "tags": []
          }
        },
        {
          "output_type": "display_data",
          "data": {
            "image/png": "[encoded data removed]",
            "text/plain": [
              "<Figure size 432x288 with 1 Axes>"
            ]
          },
          "metadata": {
            "tags": []
          }
        }
      ]
    },
    {
      "cell_type": "code",
      "metadata": {
        "colab": {
          "base_uri": "https://localhost:8080/",
          "height": 239
        },
        "id": "qO_YVkb21POj",
        "outputId": "ed22717e-1f6d-44ac-f7c6-516879b08515"
      },
      "source": [
        "\n",
        " #flatten() Turn an array into a dimension\n",
        "hist,bins = np.histogram(image.flatten(),256,[0,256])\n",
        " # Calculate the cumulative distribution map\n",
        "cdf = hist.cumsum()\n",
        "cdf_normalized = cdf * hist.max()/ cdf.max()\n",
        "plt.plot(cdf_normalized, color = 'b')\n",
        "plt.hist(image.flatten(),256,[0,256], color = 'r')\n",
        "plt.xlim([0,256])\n",
        "plt.legend(('cdf','histogram'), loc = 'upper left')\n",
        "plt.show()"
      ],
      "execution_count": null,
      "outputs": [
        {
          "output_type": "error",
          "ename": "AttributeError",
          "evalue": "ignored",
          "traceback": [
            "\u001b[0;31m---------------------------------------------------------------------------\u001b[0m",
            "\u001b[0;31mAttributeError\u001b[0m                            Traceback (most recent call last)",
            "\u001b[0;32m<ipython-input-70-3e1425362728>\u001b[0m in \u001b[0;36m<module>\u001b[0;34m()\u001b[0m\n\u001b[1;32m      1\u001b[0m \u001b[0;34m\u001b[0m\u001b[0m\n\u001b[1;32m      2\u001b[0m  \u001b[0;31m#flatten() Turn an array into a dimension\u001b[0m\u001b[0;34m\u001b[0m\u001b[0;34m\u001b[0m\u001b[0;34m\u001b[0m\u001b[0m\n\u001b[0;32m----> 3\u001b[0;31m \u001b[0mhist\u001b[0m\u001b[0;34m,\u001b[0m\u001b[0mbins\u001b[0m \u001b[0;34m=\u001b[0m \u001b[0mnp\u001b[0m\u001b[0;34m.\u001b[0m\u001b[0mhistogram\u001b[0m\u001b[0;34m(\u001b[0m\u001b[0mi\u001b[0m\u001b[0;34m.\u001b[0m\u001b[0mflatten\u001b[0m\u001b[0;34m(\u001b[0m\u001b[0;34m)\u001b[0m\u001b[0;34m,\u001b[0m\u001b[0;36m256\u001b[0m\u001b[0;34m,\u001b[0m\u001b[0;34m[\u001b[0m\u001b[0;36m0\u001b[0m\u001b[0;34m,\u001b[0m\u001b[0;36m256\u001b[0m\u001b[0;34m]\u001b[0m\u001b[0;34m)\u001b[0m\u001b[0;34m\u001b[0m\u001b[0;34m\u001b[0m\u001b[0m\n\u001b[0m\u001b[1;32m      4\u001b[0m  \u001b[0;31m# Calculate the cumulative distribution map\u001b[0m\u001b[0;34m\u001b[0m\u001b[0;34m\u001b[0m\u001b[0;34m\u001b[0m\u001b[0m\n\u001b[1;32m      5\u001b[0m \u001b[0mcdf\u001b[0m \u001b[0;34m=\u001b[0m \u001b[0mhist\u001b[0m\u001b[0;34m.\u001b[0m\u001b[0mcumsum\u001b[0m\u001b[0;34m(\u001b[0m\u001b[0;34m)\u001b[0m\u001b[0;34m\u001b[0m\u001b[0;34m\u001b[0m\u001b[0m\n",
            "\u001b[0;31mAttributeError\u001b[0m: 'int' object has no attribute 'flatten'"
          ]
        }
      ]
    },
    {
      "cell_type": "code",
      "metadata": {
        "id": "yr3Hh_rODVHj"
      },
      "source": [
        "def histogram_equilization(image):\n",
        "  hist,bins = np.histogram(image.flatten(),256,[0,256])\n",
        " # Calculate the cumulative distribution map\n",
        "  cdf = hist.cumsum()\n",
        "  cdf_normalized = cdf * hist.max()/ cdf.max()\n",
        "  cdf_m = np.ma.masked_equal(cdf,0)\n",
        "  cdf_m = (cdf_m - cdf_m.min())*255/(cdf_m.max()-cdf_m.min())\n",
        " # Assign a value to the masked element, where the assignment is 0\n",
        "  cdf = np.ma.filled(cdf_m,0).astype('uint8')\n",
        "  image= cdf[image]\n",
        "  return image"
      ],
      "execution_count": null,
      "outputs": []
    },
    {
      "cell_type": "code",
      "metadata": {
        "id": "Y_2aVB4d18pH"
      },
      "source": [
        "cdf_m = np.ma.masked_equal(cdf,0)\n",
        "cdf_m = (cdf_m - cdf_m.min())*255/(cdf_m.max()-cdf_m.min())\n",
        " # Assign a value to the masked element, where the assignment is 0\n",
        "cdf = np.ma.filled(cdf_m,0).astype('uint8')\n",
        "img2 = cdf[ans2]\n"
      ],
      "execution_count": null,
      "outputs": []
    },
    {
      "cell_type": "code",
      "metadata": {
        "colab": {
          "base_uri": "https://localhost:8080/",
          "height": 265
        },
        "id": "GPjmSb562M9E",
        "outputId": "27f96551-a742-4eef-f150-405ab96bf271"
      },
      "source": [
        "\n",
        " # Calculate the cumulative distribution map\n",
        "cdf = hist.cumsum()\n",
        "cdf_normalized = cdf * hist.max()/ cdf.max()\n",
        "plt.plot(cdf_normalized, color = 'b')\n",
        "\n",
        "plt.plot(cdf_normalized, color = 'b')\n",
        "plt.hist(img2.flatten(),256,[0,256], color = 'r')\n",
        "plt.xlim([0,256])\n",
        "plt.legend(('cdf','histogram'), loc = 'upper left')\n",
        "plt.show()"
      ],
      "execution_count": null,
      "outputs": [
        {
          "output_type": "display_data",
          "data": {
            "image/png": "[encoded data removed]",
            "text/plain": [
              "<Figure size 432x288 with 1 Axes>"
            ]
          },
          "metadata": {
            "tags": []
          }
        }
      ]
    },
    {
      "cell_type": "code",
      "metadata": {
        "colab": {
          "base_uri": "https://localhost:8080/",
          "height": 232
        },
        "id": "ebmvcGZ33VrA",
        "outputId": "295926c3-4827-40f1-f358-4d130ddeb375"
      },
      "source": [
        "cv2_imshow(img2)"
      ],
      "execution_count": null,
      "outputs": [
        {
          "output_type": "display_data",
          "data": {
            "image/png": "[encoded data removed]",
            "text/plain": [
              "<PIL.Image.Image image mode=L size=219x215 at 0x7F71B25A41D0>"
            ]
          },
          "metadata": {
            "tags": []
          }
        }
      ]
    },
    {
      "cell_type": "code",
      "metadata": {
        "colab": {
          "base_uri": "https://localhost:8080/"
        },
        "id": "ydnZsrXh0aGv",
        "outputId": "46050c04-40d5-4afe-b23d-2e482160c5ee"
      },
      "source": [
        "from google.colab import drive    # for importing dataset from google drive\n",
        "drive.mount('/content/drive')"
      ],
      "execution_count": null,
      "outputs": [
        {
          "output_type": "stream",
          "text": [
            "Mounted at /content/drive\n"
          ],
          "name": "stdout"
        }
      ]
    },
    {
      "cell_type": "code",
      "metadata": {
        "colab": {
          "base_uri": "https://localhost:8080/"
        },
        "id": "r673zE1-1mUP",
        "outputId": "1deea312-607d-47a7-8530-2c197ef053d0"
      },
      "source": [
        "!unzip \"/content/drive/My Drive/archive.zip\""
      ],
      "execution_count": null,
      "outputs": [
        {
          "output_type": "stream",
          "text": [
            "Archive:  /content/drive/My Drive/archive.zip\n",
            "  inflating: CK+48/anger/S010_004_00000017.png  \n",
            "  inflating: CK+48/anger/S010_004_00000018.png  \n",
            "  inflating: CK+48/anger/S010_004_00000019.png  \n",
            "  inflating: CK+48/anger/S011_004_00000019.png  \n",
            "  inflating: CK+48/anger/S011_004_00000020.png  \n",
            "  inflating: CK+48/anger/S011_004_00000021.png  \n",
            "  inflating: CK+48/anger/S014_003_00000028.png  \n",
            "  inflating: CK+48/anger/S014_003_00000029.png  \n",
            "  inflating: CK+48/anger/S014_003_00000030.png  \n",
            "  inflating: CK+48/anger/S022_005_00000030.png  \n",
            "  inflating: CK+48/anger/S022_005_00000031.png  \n",
            "  inflating: CK+48/anger/S022_005_00000032.png  \n",
            "  inflating: CK+48/anger/S026_003_00000013.png  \n",
            "  inflating: CK+48/anger/S026_003_00000014.png  \n",
            "  inflating: CK+48/anger/S026_003_00000015.png  \n",
            "  inflating: CK+48/anger/S028_001_00000022.png  \n",
            "  inflating: CK+48/anger/S028_001_00000023.png  \n",
            "  inflating: CK+48/anger/S028_001_00000024.png  \n",
            "  inflating: CK+48/anger/S029_001_00000017.png  \n",
            "  inflating: CK+48/anger/S029_001_00000018.png  \n",
            "  inflating: CK+48/anger/S029_001_00000019.png  \n",
            "  inflating: CK+48/anger/S032_003_00000015.png  \n",
            "  inflating: CK+48/anger/S032_003_00000016.png  \n",
            "  inflating: CK+48/anger/S032_003_00000017.png  \n",
            "  inflating: CK+48/anger/S034_003_00000025.png  \n",
            "  inflating: CK+48/anger/S034_003_00000026.png  \n",
            "  inflating: CK+48/anger/S034_003_00000027.png  \n",
            "  inflating: CK+48/anger/S037_003_00000020.png  \n",
            "  inflating: CK+48/anger/S037_003_00000021.png  \n",
            "  inflating: CK+48/anger/S037_003_00000022.png  \n",
            "  inflating: CK+48/anger/S042_004_00000018.png  \n",
            "  inflating: CK+48/anger/S042_004_00000019.png  \n",
            "  inflating: CK+48/anger/S042_004_00000020.png  \n",
            "  inflating: CK+48/anger/S045_005_00000028.png  \n",
            "  inflating: CK+48/anger/S045_005_00000029.png  \n",
            "  inflating: CK+48/anger/S045_005_00000030.png  \n",
            "  inflating: CK+48/anger/S050_004_00000019.png  \n",
            "  inflating: CK+48/anger/S050_004_00000020.png  \n",
            "  inflating: CK+48/anger/S050_004_00000021.png  \n",
            "  inflating: CK+48/anger/S055_004_00000026.png  \n",
            "  inflating: CK+48/anger/S055_004_00000027.png  \n",
            "  inflating: CK+48/anger/S055_004_00000028.png  \n",
            "  inflating: CK+48/anger/S058_005_00000008.png  \n",
            "  inflating: CK+48/anger/S058_005_00000009.png  \n",
            "  inflating: CK+48/anger/S058_005_00000010.png  \n",
            "  inflating: CK+48/anger/S066_005_00000009.png  \n",
            "  inflating: CK+48/anger/S066_005_00000010.png  \n",
            "  inflating: CK+48/anger/S066_005_00000011.png  \n",
            "  inflating: CK+48/anger/S067_004_00000021.png  \n",
            "  inflating: CK+48/anger/S067_004_00000022.png  \n",
            "  inflating: CK+48/anger/S067_004_00000023.png  \n",
            "  inflating: CK+48/anger/S071_004_00000026.png  \n",
            "  inflating: CK+48/anger/S071_004_00000027.png  \n",
            "  inflating: CK+48/anger/S071_004_00000028.png  \n",
            "  inflating: CK+48/anger/S072_005_00000017.png  \n",
            "  inflating: CK+48/anger/S072_005_00000018.png  \n",
            "  inflating: CK+48/anger/S072_005_00000019.png  \n",
            "  inflating: CK+48/anger/S075_008_00000010.png  \n",
            "  inflating: CK+48/anger/S075_008_00000011.png  \n",
            "  inflating: CK+48/anger/S075_008_00000012.png  \n",
            "  inflating: CK+48/anger/S082_005_00000015.png  \n",
            "  inflating: CK+48/anger/S082_005_00000016.png  \n",
            "  inflating: CK+48/anger/S082_005_00000017.png  \n",
            "  inflating: CK+48/anger/S087_007_00000014.png  \n",
            "  inflating: CK+48/anger/S087_007_00000015.png  \n",
            "  inflating: CK+48/anger/S087_007_00000016.png  \n",
            "  inflating: CK+48/anger/S089_003_00000034.png  \n",
            "  inflating: CK+48/anger/S089_003_00000035.png  \n",
            "  inflating: CK+48/anger/S089_003_00000036.png  \n",
            "  inflating: CK+48/anger/S090_007_00000012.png  \n",
            "  inflating: CK+48/anger/S090_007_00000013.png  \n",
            "  inflating: CK+48/anger/S090_007_00000014.png  \n",
            "  inflating: CK+48/anger/S092_003_00000012.png  \n",
            "  inflating: CK+48/anger/S092_003_00000013.png  \n",
            "  inflating: CK+48/anger/S092_003_00000014.png  \n",
            "  inflating: CK+48/anger/S100_005_00000021.png  \n",
            "  inflating: CK+48/anger/S100_005_00000022.png  \n",
            "  inflating: CK+48/anger/S100_005_00000023.png  \n",
            "  inflating: CK+48/anger/S109_003_00000015.png  \n",
            "  inflating: CK+48/anger/S109_003_00000016.png  \n",
            "  inflating: CK+48/anger/S109_003_00000017.png  \n",
            "  inflating: CK+48/anger/S111_006_00000008.png  \n",
            "  inflating: CK+48/anger/S111_006_00000009.png  \n",
            "  inflating: CK+48/anger/S111_006_00000010.png  \n",
            "  inflating: CK+48/anger/S112_005_00000015.png  \n",
            "  inflating: CK+48/anger/S112_005_00000016.png  \n",
            "  inflating: CK+48/anger/S112_005_00000017.png  \n",
            "  inflating: CK+48/anger/S113_008_00000021.png  \n",
            "  inflating: CK+48/anger/S113_008_00000022.png  \n",
            "  inflating: CK+48/anger/S113_008_00000023.png  \n",
            "  inflating: CK+48/anger/S117_006_00000008.png  \n",
            "  inflating: CK+48/anger/S117_006_00000009.png  \n",
            "  inflating: CK+48/anger/S117_006_00000010.png  \n",
            "  inflating: CK+48/anger/S119_008_00000016.png  \n",
            "  inflating: CK+48/anger/S119_008_00000017.png  \n",
            "  inflating: CK+48/anger/S119_008_00000018.png  \n",
            "  inflating: CK+48/anger/S126_008_00000027.png  \n",
            "  inflating: CK+48/anger/S126_008_00000028.png  \n",
            "  inflating: CK+48/anger/S126_008_00000029.png  \n",
            "  inflating: CK+48/anger/S127_010_00000016.png  \n",
            "  inflating: CK+48/anger/S127_010_00000017.png  \n",
            "  inflating: CK+48/anger/S127_010_00000018.png  \n",
            "  inflating: CK+48/anger/S129_006_00000008.png  \n",
            "  inflating: CK+48/anger/S129_006_00000009.png  \n",
            "  inflating: CK+48/anger/S129_006_00000010.png  \n",
            "  inflating: CK+48/anger/S130_007_00000018.png  \n",
            "  inflating: CK+48/anger/S130_007_00000019.png  \n",
            "  inflating: CK+48/anger/S130_007_00000020.png  \n",
            "  inflating: CK+48/anger/S133_003_00000045.png  \n",
            "  inflating: CK+48/anger/S133_003_00000046.png  \n",
            "  inflating: CK+48/anger/S133_003_00000047.png  \n",
            "  inflating: CK+48/anger/S134_003_00000009.png  \n",
            "  inflating: CK+48/anger/S134_003_00000010.png  \n",
            "  inflating: CK+48/anger/S134_003_00000011.png  \n",
            "  inflating: CK+48/anger/S136_005_00000008.png  \n",
            "  inflating: CK+48/anger/S136_005_00000009.png  \n",
            "  inflating: CK+48/anger/S136_005_00000010.png  \n",
            "  inflating: CK+48/anger/S501_001_00000065.png  \n",
            "  inflating: CK+48/anger/S501_001_00000066.png  \n",
            "  inflating: CK+48/anger/S501_001_00000067.png  \n",
            "  inflating: CK+48/anger/S502_001_00000014.png  \n",
            "  inflating: CK+48/anger/S502_001_00000015.png  \n",
            "  inflating: CK+48/anger/S502_001_00000016.png  \n",
            "  inflating: CK+48/anger/S503_001_00000069.png  \n",
            "  inflating: CK+48/anger/S503_001_00000070.png  \n",
            "  inflating: CK+48/anger/S503_001_00000071.png  \n",
            "  inflating: CK+48/anger/S504_001_00000020.png  \n",
            "  inflating: CK+48/anger/S504_001_00000021.png  \n",
            "  inflating: CK+48/anger/S504_001_00000022.png  \n",
            "  inflating: CK+48/anger/S506_001_00000038.png  \n",
            "  inflating: CK+48/anger/S506_001_00000039.png  \n",
            "  inflating: CK+48/anger/S506_001_00000040.png  \n",
            "  inflating: CK+48/anger/S999_001_00000016.png  \n",
            "  inflating: CK+48/anger/S999_001_00000017.png  \n",
            "  inflating: CK+48/anger/S999_001_00000018.png  \n",
            "  inflating: CK+48/contempt/S138_008_00000007.png  \n",
            "  inflating: CK+48/contempt/S138_008_00000008.png  \n",
            "  inflating: CK+48/contempt/S138_008_00000009.png  \n",
            "  inflating: CK+48/contempt/S139_002_00000011.png  \n",
            "  inflating: CK+48/contempt/S139_002_00000012.png  \n",
            "  inflating: CK+48/contempt/S139_002_00000013.png  \n",
            "  inflating: CK+48/contempt/S147_002_00000011.png  \n",
            "  inflating: CK+48/contempt/S147_002_00000012.png  \n",
            "  inflating: CK+48/contempt/S147_002_00000013.png  \n",
            "  inflating: CK+48/contempt/S148_002_00000013.png  \n",
            "  inflating: CK+48/contempt/S148_002_00000014.png  \n",
            "  inflating: CK+48/contempt/S148_002_00000015.png  \n",
            "  inflating: CK+48/contempt/S149_002_00000011.png  \n",
            "  inflating: CK+48/contempt/S149_002_00000012.png  \n",
            "  inflating: CK+48/contempt/S149_002_00000013.png  \n",
            "  inflating: CK+48/contempt/S151_002_00000027.png  \n",
            "  inflating: CK+48/contempt/S151_002_00000028.png  \n",
            "  inflating: CK+48/contempt/S151_002_00000029.png  \n",
            "  inflating: CK+48/contempt/S154_002_00000011.png  \n",
            "  inflating: CK+48/contempt/S154_002_00000012.png  \n",
            "  inflating: CK+48/contempt/S154_002_00000013.png  \n",
            "  inflating: CK+48/contempt/S155_002_00000010.png  \n",
            "  inflating: CK+48/contempt/S155_002_00000011.png  \n",
            "  inflating: CK+48/contempt/S155_002_00000012.png  \n",
            "  inflating: CK+48/contempt/S156_002_00000019.png  \n",
            "  inflating: CK+48/contempt/S156_002_00000020.png  \n",
            "  inflating: CK+48/contempt/S156_002_00000021.png  \n",
            "  inflating: CK+48/contempt/S157_002_00000009.png  \n",
            "  inflating: CK+48/contempt/S157_002_00000010.png  \n",
            "  inflating: CK+48/contempt/S157_002_00000011.png  \n",
            "  inflating: CK+48/contempt/S158_002_00000009.png  \n",
            "  inflating: CK+48/contempt/S158_002_00000010.png  \n",
            "  inflating: CK+48/contempt/S158_002_00000011.png  \n",
            "  inflating: CK+48/contempt/S160_006_00000008.png  \n",
            "  inflating: CK+48/contempt/S160_006_00000009.png  \n",
            "  inflating: CK+48/contempt/S160_006_00000010.png  \n",
            "  inflating: CK+48/contempt/S502_002_00000007.png  \n",
            "  inflating: CK+48/contempt/S502_002_00000008.png  \n",
            "  inflating: CK+48/contempt/S502_002_00000009.png  \n",
            "  inflating: CK+48/contempt/S503_002_00000006.png  \n",
            "  inflating: CK+48/contempt/S503_002_00000007.png  \n",
            "  inflating: CK+48/contempt/S503_002_00000008.png  \n",
            "  inflating: CK+48/contempt/S504_002_00000007.png  \n",
            "  inflating: CK+48/contempt/S504_002_00000008.png  \n",
            "  inflating: CK+48/contempt/S504_002_00000009.png  \n",
            "  inflating: CK+48/contempt/S505_002_00000019.png  \n",
            "  inflating: CK+48/contempt/S505_002_00000020.png  \n",
            "  inflating: CK+48/contempt/S505_002_00000021.png  \n",
            "  inflating: CK+48/contempt/S506_002_00000007.png  \n",
            "  inflating: CK+48/contempt/S506_002_00000008.png  \n",
            "  inflating: CK+48/contempt/S506_002_00000009.png  \n",
            "  inflating: CK+48/contempt/S895_002_00000005.png  \n",
            "  inflating: CK+48/contempt/S895_002_00000006.png  \n",
            "  inflating: CK+48/contempt/S895_002_00000007.png  \n",
            "  inflating: CK+48/disgust/S005_001_00000009.png  \n",
            "  inflating: CK+48/disgust/S005_001_00000010.png  \n",
            "  inflating: CK+48/disgust/S005_001_00000011.png  \n",
            "  inflating: CK+48/disgust/S011_005_00000018.png  \n",
            "  inflating: CK+48/disgust/S011_005_00000019.png  \n",
            "  inflating: CK+48/disgust/S011_005_00000020.png  \n",
            "  inflating: CK+48/disgust/S022_006_00000015.png  \n",
            "  inflating: CK+48/disgust/S022_006_00000016.png  \n",
            "  inflating: CK+48/disgust/S022_006_00000017.png  \n",
            "  inflating: CK+48/disgust/S032_005_00000014.png  \n",
            "  inflating: CK+48/disgust/S032_005_00000015.png  \n",
            "  inflating: CK+48/disgust/S032_005_00000016.png  \n",
            "  inflating: CK+48/disgust/S035_005_00000017.png  \n",
            "  inflating: CK+48/disgust/S035_005_00000018.png  \n",
            "  inflating: CK+48/disgust/S035_005_00000019.png  \n",
            "  inflating: CK+48/disgust/S044_006_00000017.png  \n",
            "  inflating: CK+48/disgust/S044_006_00000018.png  \n",
            "  inflating: CK+48/disgust/S044_006_00000019.png  \n",
            "  inflating: CK+48/disgust/S045_004_00000013.png  \n",
            "  inflating: CK+48/disgust/S045_004_00000014.png  \n",
            "  inflating: CK+48/disgust/S045_004_00000015.png  \n",
            "  inflating: CK+48/disgust/S046_004_00000015.png  \n",
            "  inflating: CK+48/disgust/S046_004_00000016.png  \n",
            "  inflating: CK+48/disgust/S046_004_00000017.png  \n",
            "  inflating: CK+48/disgust/S051_003_00000016.png  \n",
            "  inflating: CK+48/disgust/S051_003_00000017.png  \n",
            "  inflating: CK+48/disgust/S051_003_00000018.png  \n",
            "  inflating: CK+48/disgust/S052_006_00000011.png  \n",
            "  inflating: CK+48/disgust/S052_006_00000012.png  \n",
            "  inflating: CK+48/disgust/S052_006_00000013.png  \n",
            "  inflating: CK+48/disgust/S054_004_00000022.png  \n",
            "  inflating: CK+48/disgust/S054_004_00000023.png  \n",
            "  inflating: CK+48/disgust/S054_004_00000024.png  \n",
            "  inflating: CK+48/disgust/S055_003_00000007.png  \n",
            "  inflating: CK+48/disgust/S055_003_00000008.png  \n",
            "  inflating: CK+48/disgust/S055_003_00000009.png  \n",
            "  inflating: CK+48/disgust/S056_002_00000008.png  \n",
            "  inflating: CK+48/disgust/S056_002_00000009.png  \n",
            "  inflating: CK+48/disgust/S056_002_00000010.png  \n",
            "  inflating: CK+48/disgust/S057_003_00000013.png  \n",
            "  inflating: CK+48/disgust/S057_003_00000014.png  \n",
            "  inflating: CK+48/disgust/S057_003_00000015.png  \n",
            "  inflating: CK+48/disgust/S058_006_00000016.png  \n",
            "  inflating: CK+48/disgust/S058_006_00000017.png  \n",
            "  inflating: CK+48/disgust/S058_006_00000018.png  \n",
            "  inflating: CK+48/disgust/S060_005_00000019.png  \n",
            "  inflating: CK+48/disgust/S060_005_00000020.png  \n",
            "  inflating: CK+48/disgust/S060_005_00000021.png  \n",
            "  inflating: CK+48/disgust/S061_004_00000020.png  \n",
            "  inflating: CK+48/disgust/S061_004_00000021.png  \n",
            "  inflating: CK+48/disgust/S061_004_00000022.png  \n",
            "  inflating: CK+48/disgust/S062_005_00000027.png  \n",
            "  inflating: CK+48/disgust/S062_005_00000028.png  \n",
            "  inflating: CK+48/disgust/S062_005_00000029.png  \n",
            "  inflating: CK+48/disgust/S065_005_00000006.png  \n",
            "  inflating: CK+48/disgust/S065_005_00000007.png  \n",
            "  inflating: CK+48/disgust/S065_005_00000008.png  \n",
            "  inflating: CK+48/disgust/S067_006_00000009.png  \n",
            "  inflating: CK+48/disgust/S067_006_00000010.png  \n",
            "  inflating: CK+48/disgust/S067_006_00000011.png  \n",
            "  inflating: CK+48/disgust/S068_005_00000019.png  \n",
            "  inflating: CK+48/disgust/S068_005_00000020.png  \n",
            "  inflating: CK+48/disgust/S068_005_00000021.png  \n",
            "  inflating: CK+48/disgust/S069_003_00000009.png  \n",
            "  inflating: CK+48/disgust/S069_003_00000010.png  \n",
            "  inflating: CK+48/disgust/S069_003_00000011.png  \n",
            "  inflating: CK+48/disgust/S070_005_00000014.png  \n",
            "  inflating: CK+48/disgust/S070_005_00000015.png  \n",
            "  inflating: CK+48/disgust/S070_005_00000016.png  \n",
            "  inflating: CK+48/disgust/S071_006_00000012.png  \n",
            "  inflating: CK+48/disgust/S071_006_00000013.png  \n",
            "  inflating: CK+48/disgust/S071_006_00000014.png  \n",
            "  inflating: CK+48/disgust/S073_006_00000012.png  \n",
            "  inflating: CK+48/disgust/S073_006_00000013.png  \n",
            "  inflating: CK+48/disgust/S073_006_00000014.png  \n",
            "  inflating: CK+48/disgust/S074_004_00000016.png  \n",
            "  inflating: CK+48/disgust/S074_004_00000017.png  \n",
            "  inflating: CK+48/disgust/S074_004_00000018.png  \n",
            "  inflating: CK+48/disgust/S075_005_00000010.png  \n",
            "  inflating: CK+48/disgust/S075_005_00000011.png  \n",
            "  inflating: CK+48/disgust/S075_005_00000012.png  \n",
            "  inflating: CK+48/disgust/S076_005_00000010.png  \n",
            "  inflating: CK+48/disgust/S076_005_00000011.png  \n",
            "  inflating: CK+48/disgust/S076_005_00000012.png  \n",
            "  inflating: CK+48/disgust/S077_006_00000012.png  \n",
            "  inflating: CK+48/disgust/S077_006_00000013.png  \n",
            "  inflating: CK+48/disgust/S077_006_00000014.png  \n",
            "  inflating: CK+48/disgust/S078_007_00000011.png  \n",
            "  inflating: CK+48/disgust/S078_007_00000012.png  \n",
            "  inflating: CK+48/disgust/S078_007_00000013.png  \n",
            "  inflating: CK+48/disgust/S079_002_00000010.png  \n",
            "  inflating: CK+48/disgust/S079_002_00000011.png  \n",
            "  inflating: CK+48/disgust/S079_002_00000012.png  \n",
            "  inflating: CK+48/disgust/S080_008_00000007.png  \n",
            "  inflating: CK+48/disgust/S080_008_00000008.png  \n",
            "  inflating: CK+48/disgust/S080_008_00000009.png  \n",
            "  inflating: CK+48/disgust/S081_008_00000009.png  \n",
            "  inflating: CK+48/disgust/S081_008_00000010.png  \n",
            "  inflating: CK+48/disgust/S081_008_00000011.png  \n",
            "  inflating: CK+48/disgust/S082_007_00000008.png  \n",
            "  inflating: CK+48/disgust/S082_007_00000009.png  \n",
            "  inflating: CK+48/disgust/S082_007_00000010.png  \n",
            "  inflating: CK+48/disgust/S085_004_00000015.png  \n",
            "  inflating: CK+48/disgust/S085_004_00000016.png  \n",
            "  inflating: CK+48/disgust/S085_004_00000017.png  \n",
            "  inflating: CK+48/disgust/S087_004_00000010.png  \n",
            "  inflating: CK+48/disgust/S087_004_00000011.png  \n",
            "  inflating: CK+48/disgust/S087_004_00000012.png  \n",
            "  inflating: CK+48/disgust/S088_004_00000018.png  \n",
            "  inflating: CK+48/disgust/S088_004_00000019.png  \n",
            "  inflating: CK+48/disgust/S088_004_00000020.png  \n",
            "  inflating: CK+48/disgust/S090_006_00000009.png  \n",
            "  inflating: CK+48/disgust/S090_006_00000010.png  \n",
            "  inflating: CK+48/disgust/S090_006_00000011.png  \n",
            "  inflating: CK+48/disgust/S095_006_00000011.png  \n",
            "  inflating: CK+48/disgust/S095_006_00000012.png  \n",
            "  inflating: CK+48/disgust/S095_006_00000013.png  \n",
            "  inflating: CK+48/disgust/S096_003_00000010.png  \n",
            "  inflating: CK+48/disgust/S096_003_00000011.png  \n",
            "  inflating: CK+48/disgust/S096_003_00000012.png  \n",
            "  inflating: CK+48/disgust/S097_004_00000028.png  \n",
            "  inflating: CK+48/disgust/S097_004_00000029.png  \n",
            "  inflating: CK+48/disgust/S097_004_00000030.png  \n",
            "  inflating: CK+48/disgust/S098_003_00000011.png  \n",
            "  inflating: CK+48/disgust/S098_003_00000012.png  \n",
            "  inflating: CK+48/disgust/S098_003_00000013.png  \n",
            "  inflating: CK+48/disgust/S099_007_00000010.png  \n",
            "  inflating: CK+48/disgust/S099_007_00000011.png  \n",
            "  inflating: CK+48/disgust/S099_007_00000012.png  \n",
            "  inflating: CK+48/disgust/S102_009_00000013.png  \n",
            "  inflating: CK+48/disgust/S102_009_00000014.png  \n",
            "  inflating: CK+48/disgust/S102_009_00000015.png  \n",
            "  inflating: CK+48/disgust/S105_008_00000008.png  \n",
            "  inflating: CK+48/disgust/S105_008_00000009.png  \n",
            "  inflating: CK+48/disgust/S105_008_00000010.png  \n",
            "  inflating: CK+48/disgust/S106_004_00000006.png  \n",
            "  inflating: CK+48/disgust/S106_004_00000007.png  \n",
            "  inflating: CK+48/disgust/S106_004_00000008.png  \n",
            "  inflating: CK+48/disgust/S107_005_00000009.png  \n",
            "  inflating: CK+48/disgust/S107_005_00000010.png  \n",
            "  inflating: CK+48/disgust/S107_005_00000011.png  \n",
            "  inflating: CK+48/disgust/S108_006_00000018.png  \n",
            "  inflating: CK+48/disgust/S108_006_00000019.png  \n",
            "  inflating: CK+48/disgust/S108_006_00000020.png  \n",
            "  inflating: CK+48/disgust/S109_005_00000012.png  \n",
            "  inflating: CK+48/disgust/S109_005_00000013.png  \n",
            "  inflating: CK+48/disgust/S109_005_00000014.png  \n",
            "  inflating: CK+48/disgust/S111_007_00000012.png  \n",
            "  inflating: CK+48/disgust/S111_007_00000013.png  \n",
            "  inflating: CK+48/disgust/S111_007_00000014.png  \n",
            "  inflating: CK+48/disgust/S116_006_00000005.png  \n",
            "  inflating: CK+48/disgust/S116_006_00000006.png  \n",
            "  inflating: CK+48/disgust/S116_006_00000007.png  \n",
            "  inflating: CK+48/disgust/S124_006_00000009.png  \n",
            "  inflating: CK+48/disgust/S124_006_00000010.png  \n",
            "  inflating: CK+48/disgust/S124_006_00000011.png  \n",
            "  inflating: CK+48/disgust/S125_008_00000008.png  \n",
            "  inflating: CK+48/disgust/S125_008_00000009.png  \n",
            "  inflating: CK+48/disgust/S125_008_00000010.png  \n",
            "  inflating: CK+48/disgust/S128_004_00000011.png  \n",
            "  inflating: CK+48/disgust/S128_004_00000012.png  \n",
            "  inflating: CK+48/disgust/S128_004_00000013.png  \n",
            "  inflating: CK+48/disgust/S129_011_00000016.png  \n",
            "  inflating: CK+48/disgust/S129_011_00000017.png  \n",
            "  inflating: CK+48/disgust/S129_011_00000018.png  \n",
            "  inflating: CK+48/disgust/S130_012_00000009.png  \n",
            "  inflating: CK+48/disgust/S130_012_00000010.png  \n",
            "  inflating: CK+48/disgust/S130_012_00000011.png  \n",
            "  inflating: CK+48/disgust/S131_010_00000016.png  \n",
            "  inflating: CK+48/disgust/S131_010_00000017.png  \n",
            "  inflating: CK+48/disgust/S131_010_00000018.png  \n",
            "  inflating: CK+48/disgust/S132_005_00000014.png  \n",
            "  inflating: CK+48/disgust/S132_005_00000015.png  \n",
            "  inflating: CK+48/disgust/S132_005_00000016.png  \n",
            "  inflating: CK+48/disgust/S134_008_00000011.png  \n",
            "  inflating: CK+48/disgust/S134_008_00000012.png  \n",
            "  inflating: CK+48/disgust/S134_008_00000013.png  \n",
            "  inflating: CK+48/fear/S011_003_00000012.png  \n",
            "  inflating: CK+48/fear/S011_003_00000013.png  \n",
            "  inflating: CK+48/fear/S011_003_00000014.png  \n",
            "  inflating: CK+48/fear/S032_004_00000012.png  \n",
            "  inflating: CK+48/fear/S032_004_00000013.png  \n",
            "  inflating: CK+48/fear/S032_004_00000014.png  \n",
            "  inflating: CK+48/fear/S046_003_00000014.png  \n",
            "  inflating: CK+48/fear/S046_003_00000015.png  \n",
            "  inflating: CK+48/fear/S046_003_00000016.png  \n",
            "  inflating: CK+48/fear/S050_001_00000015.png  \n",
            "  inflating: CK+48/fear/S050_001_00000016.png  \n",
            "  inflating: CK+48/fear/S050_001_00000017.png  \n",
            "  inflating: CK+48/fear/S054_002_00000013.png  \n",
            "  inflating: CK+48/fear/S054_002_00000014.png  \n",
            "  inflating: CK+48/fear/S054_002_00000015.png  \n",
            "  inflating: CK+48/fear/S055_006_00000006.png  \n",
            "  inflating: CK+48/fear/S055_006_00000007.png  \n",
            "  inflating: CK+48/fear/S055_006_00000008.png  \n",
            "  inflating: CK+48/fear/S059_002_00000015.png  \n",
            "  inflating: CK+48/fear/S059_002_00000016.png  \n",
            "  inflating: CK+48/fear/S059_002_00000017.png  \n",
            "  inflating: CK+48/fear/S062_001_00000015.png  \n",
            "  inflating: CK+48/fear/S062_001_00000016.png  \n",
            "  inflating: CK+48/fear/S062_001_00000017.png  \n",
            "  inflating: CK+48/fear/S065_002_00000020.png  \n",
            "  inflating: CK+48/fear/S065_002_00000021.png  \n",
            "  inflating: CK+48/fear/S065_002_00000022.png  \n",
            "  inflating: CK+48/fear/S068_004_00000008.png  \n",
            "  inflating: CK+48/fear/S068_004_00000009.png  \n",
            "  inflating: CK+48/fear/S068_004_00000010.png  \n",
            "  inflating: CK+48/fear/S074_001_00000018.png  \n",
            "  inflating: CK+48/fear/S074_001_00000019.png  \n",
            "  inflating: CK+48/fear/S074_001_00000020.png  \n",
            "  inflating: CK+48/fear/S084_002_00000021.png  \n",
            "  inflating: CK+48/fear/S084_002_00000022.png  \n",
            "  inflating: CK+48/fear/S084_002_00000023.png  \n",
            "  inflating: CK+48/fear/S091_001_00000013.png  \n",
            "  inflating: CK+48/fear/S091_001_00000014.png  \n",
            "  inflating: CK+48/fear/S091_001_00000015.png  \n",
            "  inflating: CK+48/fear/S102_003_00000014.png  \n",
            "  inflating: CK+48/fear/S102_003_00000015.png  \n",
            "  inflating: CK+48/fear/S102_003_00000016.png  \n",
            "  inflating: CK+48/fear/S117_003_00000012.png  \n",
            "  inflating: CK+48/fear/S117_003_00000013.png  \n",
            "  inflating: CK+48/fear/S117_003_00000014.png  \n",
            "  inflating: CK+48/fear/S119_003_00000022.png  \n",
            "  inflating: CK+48/fear/S119_003_00000023.png  \n",
            "  inflating: CK+48/fear/S119_003_00000024.png  \n",
            "  inflating: CK+48/fear/S124_003_00000009.png  \n",
            "  inflating: CK+48/fear/S124_003_00000010.png  \n",
            "  inflating: CK+48/fear/S124_003_00000011.png  \n",
            "  inflating: CK+48/fear/S125_006_00000020.png  \n",
            "  inflating: CK+48/fear/S125_006_00000021.png  \n",
            "  inflating: CK+48/fear/S125_006_00000022.png  \n",
            "  inflating: CK+48/fear/S132_003_00000021.png  \n",
            "  inflating: CK+48/fear/S132_003_00000022.png  \n",
            "  inflating: CK+48/fear/S132_003_00000023.png  \n",
            "  inflating: CK+48/fear/S138_001_00000010.png  \n",
            "  inflating: CK+48/fear/S138_001_00000011.png  \n",
            "  inflating: CK+48/fear/S138_001_00000012.png  \n",
            "  inflating: CK+48/fear/S501_004_00000054.png  \n",
            "  inflating: CK+48/fear/S501_004_00000055.png  \n",
            "  inflating: CK+48/fear/S501_004_00000056.png  \n",
            "  inflating: CK+48/fear/S502_004_00000050.png  \n",
            "  inflating: CK+48/fear/S502_004_00000051.png  \n",
            "  inflating: CK+48/fear/S502_004_00000052.png  \n",
            "  inflating: CK+48/fear/S504_004_00000013.png  \n",
            "  inflating: CK+48/fear/S504_004_00000014.png  \n",
            "  inflating: CK+48/fear/S504_004_00000015.png  \n",
            "  inflating: CK+48/fear/S506_004_00000036.png  \n",
            "  inflating: CK+48/fear/S506_004_00000037.png  \n",
            "  inflating: CK+48/fear/S506_004_00000038.png  \n",
            "  inflating: CK+48/fear/S999_003_00000053.png  \n",
            "  inflating: CK+48/fear/S999_003_00000054.png  \n",
            "  inflating: CK+48/fear/S999_003_00000055.png  \n",
            "  inflating: CK+48/happy/S010_006_00000013.png  \n",
            "  inflating: CK+48/happy/S010_006_00000014.png  \n",
            "  inflating: CK+48/happy/S010_006_00000015.png  \n",
            "  inflating: CK+48/happy/S011_006_00000011.png  \n",
            "  inflating: CK+48/happy/S011_006_00000012.png  \n",
            "  inflating: CK+48/happy/S011_006_00000013.png  \n",
            "  inflating: CK+48/happy/S014_005_00000015.png  \n",
            "  inflating: CK+48/happy/S014_005_00000016.png  \n",
            "  inflating: CK+48/happy/S014_005_00000017.png  \n",
            "  inflating: CK+48/happy/S026_006_00000011.png  \n",
            "  inflating: CK+48/happy/S026_006_00000012.png  \n",
            "  inflating: CK+48/happy/S026_006_00000013.png  \n",
            "  inflating: CK+48/happy/S032_006_00000014.png  \n",
            "  inflating: CK+48/happy/S032_006_00000015.png  \n",
            "  inflating: CK+48/happy/S032_006_00000016.png  \n",
            "  inflating: CK+48/happy/S034_005_00000008.png  \n",
            "  inflating: CK+48/happy/S034_005_00000009.png  \n",
            "  inflating: CK+48/happy/S034_005_00000010.png  \n",
            "  inflating: CK+48/happy/S035_006_00000016.png  \n",
            "  inflating: CK+48/happy/S035_006_00000017.png  \n",
            "  inflating: CK+48/happy/S035_006_00000018.png  \n",
            "  inflating: CK+48/happy/S037_006_00000019.png  \n",
            "  inflating: CK+48/happy/S037_006_00000020.png  \n",
            "  inflating: CK+48/happy/S037_006_00000021.png  \n",
            "  inflating: CK+48/happy/S042_006_00000015.png  \n",
            "  inflating: CK+48/happy/S042_006_00000016.png  \n",
            "  inflating: CK+48/happy/S042_006_00000017.png  \n",
            "  inflating: CK+48/happy/S044_003_00000012.png  \n",
            "  inflating: CK+48/happy/S044_003_00000013.png  \n",
            "  inflating: CK+48/happy/S044_003_00000014.png  \n",
            "  inflating: CK+48/happy/S050_006_00000021.png  \n",
            "  inflating: CK+48/happy/S050_006_00000022.png  \n",
            "  inflating: CK+48/happy/S050_006_00000023.png  \n",
            "  inflating: CK+48/happy/S052_004_00000031.png  \n",
            "  inflating: CK+48/happy/S052_004_00000032.png  \n",
            "  inflating: CK+48/happy/S052_004_00000033.png  \n",
            "  inflating: CK+48/happy/S053_004_00000022.png  \n",
            "  inflating: CK+48/happy/S053_004_00000023.png  \n",
            "  inflating: CK+48/happy/S053_004_00000024.png  \n",
            "  inflating: CK+48/happy/S055_005_00000043.png  \n",
            "  inflating: CK+48/happy/S055_005_00000044.png  \n",
            "  inflating: CK+48/happy/S055_005_00000045.png  \n",
            "  inflating: CK+48/happy/S056_004_00000018.png  \n",
            "  inflating: CK+48/happy/S056_004_00000019.png  \n",
            "  inflating: CK+48/happy/S056_004_00000020.png  \n",
            "  inflating: CK+48/happy/S057_006_00000031.png  \n",
            "  inflating: CK+48/happy/S057_006_00000032.png  \n",
            "  inflating: CK+48/happy/S057_006_00000033.png  \n",
            "  inflating: CK+48/happy/S060_002_00000024.png  \n",
            "  inflating: CK+48/happy/S060_002_00000025.png  \n",
            "  inflating: CK+48/happy/S060_002_00000026.png  \n",
            "  inflating: CK+48/happy/S061_002_00000013.png  \n",
            "  inflating: CK+48/happy/S061_002_00000014.png  \n",
            "  inflating: CK+48/happy/S061_002_00000015.png  \n",
            "  inflating: CK+48/happy/S062_004_00000022.png  \n",
            "  inflating: CK+48/happy/S062_004_00000023.png  \n",
            "  inflating: CK+48/happy/S062_004_00000024.png  \n",
            "  inflating: CK+48/happy/S063_002_00000021.png  \n",
            "  inflating: CK+48/happy/S063_002_00000022.png  \n",
            "  inflating: CK+48/happy/S063_002_00000023.png  \n",
            "  inflating: CK+48/happy/S064_003_00000023.png  \n",
            "  inflating: CK+48/happy/S064_003_00000024.png  \n",
            "  inflating: CK+48/happy/S064_003_00000025.png  \n",
            "  inflating: CK+48/happy/S065_004_00000026.png  \n",
            "  inflating: CK+48/happy/S065_004_00000027.png  \n",
            "  inflating: CK+48/happy/S065_004_00000028.png  \n",
            "  inflating: CK+48/happy/S066_003_00000010.png  \n",
            "  inflating: CK+48/happy/S066_003_00000011.png  \n",
            "  inflating: CK+48/happy/S066_003_00000012.png  \n",
            "  inflating: CK+48/happy/S067_005_00000020.png  \n",
            "  inflating: CK+48/happy/S067_005_00000021.png  \n",
            "  inflating: CK+48/happy/S067_005_00000022.png  \n",
            "  inflating: CK+48/happy/S068_002_00000013.png  \n",
            "  inflating: CK+48/happy/S068_002_00000014.png  \n",
            "  inflating: CK+48/happy/S068_002_00000015.png  \n",
            "  inflating: CK+48/happy/S069_004_00000015.png  \n",
            "  inflating: CK+48/happy/S069_004_00000016.png  \n",
            "  inflating: CK+48/happy/S069_004_00000017.png  \n",
            "  inflating: CK+48/happy/S070_003_00000015.png  \n",
            "  inflating: CK+48/happy/S070_003_00000016.png  \n",
            "  inflating: CK+48/happy/S070_003_00000017.png  \n",
            "  inflating: CK+48/happy/S071_005_00000019.png  \n",
            "  inflating: CK+48/happy/S071_005_00000020.png  \n",
            "  inflating: CK+48/happy/S071_005_00000021.png  \n",
            "  inflating: CK+48/happy/S072_006_00000020.png  \n",
            "  inflating: CK+48/happy/S072_006_00000021.png  \n",
            "  inflating: CK+48/happy/S072_006_00000022.png  \n",
            "  inflating: CK+48/happy/S074_005_00000041.png  \n",
            "  inflating: CK+48/happy/S074_005_00000042.png  \n",
            "  inflating: CK+48/happy/S074_005_00000043.png  \n",
            "  inflating: CK+48/happy/S075_006_00000023.png  \n",
            "  inflating: CK+48/happy/S075_006_00000024.png  \n",
            "  inflating: CK+48/happy/S075_006_00000025.png  \n",
            "  inflating: CK+48/happy/S076_006_00000017.png  \n",
            "  inflating: CK+48/happy/S076_006_00000018.png  \n",
            "  inflating: CK+48/happy/S076_006_00000019.png  \n",
            "  inflating: CK+48/happy/S078_004_00000025.png  \n",
            "  inflating: CK+48/happy/S078_004_00000026.png  \n",
            "  inflating: CK+48/happy/S078_004_00000027.png  \n",
            "  inflating: CK+48/happy/S079_004_00000024.png  \n",
            "  inflating: CK+48/happy/S079_004_00000025.png  \n",
            "  inflating: CK+48/happy/S079_004_00000026.png  \n",
            "  inflating: CK+48/happy/S083_003_00000017.png  \n",
            "  inflating: CK+48/happy/S083_003_00000018.png  \n",
            "  inflating: CK+48/happy/S083_003_00000019.png  \n",
            "  inflating: CK+48/happy/S085_002_00000012.png  \n",
            "  inflating: CK+48/happy/S085_002_00000013.png  \n",
            "  inflating: CK+48/happy/S085_002_00000014.png  \n",
            "  inflating: CK+48/happy/S086_002_00000013.png  \n",
            "  inflating: CK+48/happy/S086_002_00000014.png  \n",
            "  inflating: CK+48/happy/S086_002_00000015.png  \n",
            "  inflating: CK+48/happy/S087_005_00000010.png  \n",
            "  inflating: CK+48/happy/S087_005_00000011.png  \n",
            "  inflating: CK+48/happy/S087_005_00000012.png  \n",
            "  inflating: CK+48/happy/S089_002_00000019.png  \n",
            "  inflating: CK+48/happy/S089_002_00000020.png  \n",
            "  inflating: CK+48/happy/S089_002_00000021.png  \n",
            "  inflating: CK+48/happy/S091_003_00000019.png  \n",
            "  inflating: CK+48/happy/S091_003_00000020.png  \n",
            "  inflating: CK+48/happy/S091_003_00000021.png  \n",
            "  inflating: CK+48/happy/S092_004_00000022.png  \n",
            "  inflating: CK+48/happy/S092_004_00000023.png  \n",
            "  inflating: CK+48/happy/S092_004_00000024.png  \n",
            "  inflating: CK+48/happy/S093_004_00000014.png  \n",
            "  inflating: CK+48/happy/S093_004_00000015.png  \n",
            "  inflating: CK+48/happy/S093_004_00000016.png  \n",
            "  inflating: CK+48/happy/S094_004_00000010.png  \n",
            "  inflating: CK+48/happy/S094_004_00000011.png  \n",
            "  inflating: CK+48/happy/S094_004_00000012.png  \n",
            "  inflating: CK+48/happy/S095_007_00000019.png  \n",
            "  inflating: CK+48/happy/S095_007_00000020.png  \n",
            "  inflating: CK+48/happy/S095_007_00000021.png  \n",
            "  inflating: CK+48/happy/S096_004_00000009.png  \n",
            "  inflating: CK+48/happy/S096_004_00000010.png  \n",
            "  inflating: CK+48/happy/S096_004_00000011.png  \n",
            "  inflating: CK+48/happy/S097_006_00000017.png  \n",
            "  inflating: CK+48/happy/S097_006_00000018.png  \n",
            "  inflating: CK+48/happy/S097_006_00000019.png  \n",
            "  inflating: CK+48/happy/S098_004_00000013.png  \n",
            "  inflating: CK+48/happy/S098_004_00000014.png  \n",
            "  inflating: CK+48/happy/S098_004_00000015.png  \n",
            "  inflating: CK+48/happy/S099_004_00000013.png  \n",
            "  inflating: CK+48/happy/S099_004_00000014.png  \n",
            "  inflating: CK+48/happy/S099_004_00000015.png  \n",
            "  inflating: CK+48/happy/S100_006_00000014.png  \n",
            "  inflating: CK+48/happy/S100_006_00000015.png  \n",
            "  inflating: CK+48/happy/S100_006_00000016.png  \n",
            "  inflating: CK+48/happy/S106_006_00000009.png  \n",
            "  inflating: CK+48/happy/S106_006_00000010.png  \n",
            "  inflating: CK+48/happy/S106_006_00000011.png  \n",
            "  inflating: CK+48/happy/S108_008_00000011.png  \n",
            "  inflating: CK+48/happy/S108_008_00000012.png  \n",
            "  inflating: CK+48/happy/S108_008_00000013.png  \n",
            "  inflating: CK+48/happy/S109_006_00000013.png  \n",
            "  inflating: CK+48/happy/S109_006_00000014.png  \n",
            "  inflating: CK+48/happy/S109_006_00000015.png  \n",
            "  inflating: CK+48/happy/S114_006_00000021.png  \n",
            "  inflating: CK+48/happy/S114_006_00000022.png  \n",
            "  inflating: CK+48/happy/S114_006_00000023.png  \n",
            "  inflating: CK+48/happy/S115_008_00000015.png  \n",
            "  inflating: CK+48/happy/S115_008_00000016.png  \n",
            "  inflating: CK+48/happy/S115_008_00000017.png  \n",
            "  inflating: CK+48/happy/S116_007_00000015.png  \n",
            "  inflating: CK+48/happy/S116_007_00000016.png  \n",
            "  inflating: CK+48/happy/S116_007_00000017.png  \n",
            "  inflating: CK+48/happy/S124_007_00000022.png  \n",
            "  inflating: CK+48/happy/S124_007_00000023.png  \n",
            "  inflating: CK+48/happy/S124_007_00000024.png  \n",
            "  inflating: CK+48/happy/S125_005_00000011.png  \n",
            "  inflating: CK+48/happy/S125_005_00000012.png  \n",
            "  inflating: CK+48/happy/S125_005_00000013.png  \n",
            "  inflating: CK+48/happy/S127_004_00000014.png  \n",
            "  inflating: CK+48/happy/S127_004_00000015.png  \n",
            "  inflating: CK+48/happy/S127_004_00000016.png  \n",
            "  inflating: CK+48/happy/S128_011_00000014.png  \n",
            "  inflating: CK+48/happy/S128_011_00000015.png  \n",
            "  inflating: CK+48/happy/S128_011_00000016.png  \n",
            "  inflating: CK+48/happy/S129_012_00000009.png  \n",
            "  inflating: CK+48/happy/S129_012_00000010.png  \n",
            "  inflating: CK+48/happy/S129_012_00000011.png  \n",
            "  inflating: CK+48/happy/S130_013_00000013.png  \n",
            "  inflating: CK+48/happy/S130_013_00000014.png  \n",
            "  inflating: CK+48/happy/S130_013_00000015.png  \n",
            "  inflating: CK+48/happy/S131_006_00000020.png  \n",
            "  inflating: CK+48/happy/S131_006_00000021.png  \n",
            "  inflating: CK+48/happy/S131_006_00000022.png  \n",
            "  inflating: CK+48/happy/S132_006_00000021.png  \n",
            "  inflating: CK+48/happy/S132_006_00000022.png  \n",
            "  inflating: CK+48/happy/S132_006_00000023.png  \n",
            "  inflating: CK+48/happy/S133_010_00000012.png  \n",
            "  inflating: CK+48/happy/S133_010_00000013.png  \n",
            "  inflating: CK+48/happy/S133_010_00000014.png  \n",
            "  inflating: CK+48/happy/S134_004_00000013.png  \n",
            "  inflating: CK+48/happy/S134_004_00000014.png  \n",
            "  inflating: CK+48/happy/S134_004_00000015.png  \n",
            "  inflating: CK+48/happy/S135_012_00000018.png  \n",
            "  inflating: CK+48/happy/S135_012_00000019.png  \n",
            "  inflating: CK+48/happy/S135_012_00000020.png  \n",
            "  inflating: CK+48/happy/S136_006_00000018.png  \n",
            "  inflating: CK+48/happy/S136_006_00000019.png  \n",
            "  inflating: CK+48/happy/S136_006_00000020.png  \n",
            "  inflating: CK+48/happy/S137_011_00000018.png  \n",
            "  inflating: CK+48/happy/S137_011_00000019.png  \n",
            "  inflating: CK+48/happy/S137_011_00000020.png  \n",
            "  inflating: CK+48/happy/S138_005_00000014.png  \n",
            "  inflating: CK+48/happy/S138_005_00000015.png  \n",
            "  inflating: CK+48/happy/S138_005_00000016.png  \n",
            "  inflating: CK+48/sadness/S011_002_00000020.png  \n",
            "  inflating: CK+48/sadness/S011_002_00000021.png  \n",
            "  inflating: CK+48/sadness/S011_002_00000022.png  \n",
            "  inflating: CK+48/sadness/S014_002_00000014.png  \n",
            "  inflating: CK+48/sadness/S014_002_00000015.png  \n",
            "  inflating: CK+48/sadness/S014_002_00000016.png  \n",
            "  inflating: CK+48/sadness/S026_002_00000014.png  \n",
            "  inflating: CK+48/sadness/S026_002_00000015.png  \n",
            "  inflating: CK+48/sadness/S026_002_00000016.png  \n",
            "  inflating: CK+48/sadness/S042_002_00000014.png  \n",
            "  inflating: CK+48/sadness/S042_002_00000015.png  \n",
            "  inflating: CK+48/sadness/S042_002_00000016.png  \n",
            "  inflating: CK+48/sadness/S046_001_00000023.png  \n",
            "  inflating: CK+48/sadness/S046_001_00000024.png  \n",
            "  inflating: CK+48/sadness/S046_001_00000025.png  \n",
            "  inflating: CK+48/sadness/S064_004_00000012.png  \n",
            "  inflating: CK+48/sadness/S064_004_00000013.png  \n",
            "  inflating: CK+48/sadness/S064_004_00000014.png  \n",
            "  inflating: CK+48/sadness/S066_004_00000008.png  \n",
            "  inflating: CK+48/sadness/S066_004_00000009.png  \n",
            "  inflating: CK+48/sadness/S066_004_00000010.png  \n",
            "  inflating: CK+48/sadness/S071_002_00000018.png  \n",
            "  inflating: CK+48/sadness/S071_002_00000019.png  \n",
            "  inflating: CK+48/sadness/S071_002_00000020.png  \n",
            "  inflating: CK+48/sadness/S080_005_00000011.png  \n",
            "  inflating: CK+48/sadness/S080_005_00000012.png  \n",
            "  inflating: CK+48/sadness/S080_005_00000013.png  \n",
            "  inflating: CK+48/sadness/S081_002_00000022.png  \n",
            "  inflating: CK+48/sadness/S081_002_00000023.png  \n",
            "  inflating: CK+48/sadness/S081_002_00000024.png  \n",
            "  inflating: CK+48/sadness/S093_001_00000018.png  \n",
            "  inflating: CK+48/sadness/S093_001_00000019.png  \n",
            "  inflating: CK+48/sadness/S093_001_00000020.png  \n",
            "  inflating: CK+48/sadness/S095_010_00000012.png  \n",
            "  inflating: CK+48/sadness/S095_010_00000013.png  \n",
            "  inflating: CK+48/sadness/S095_010_00000014.png  \n",
            "  inflating: CK+48/sadness/S106_002_00000014.png  \n",
            "  inflating: CK+48/sadness/S106_002_00000015.png  \n",
            "  inflating: CK+48/sadness/S106_002_00000016.png  \n",
            "  inflating: CK+48/sadness/S108_005_00000020.png  \n",
            "  inflating: CK+48/sadness/S108_005_00000021.png  \n",
            "  inflating: CK+48/sadness/S108_005_00000022.png  \n",
            "  inflating: CK+48/sadness/S113_003_00000013.png  \n",
            "  inflating: CK+48/sadness/S113_003_00000014.png  \n",
            "  inflating: CK+48/sadness/S113_003_00000015.png  \n",
            "  inflating: CK+48/sadness/S115_004_00000015.png  \n",
            "  inflating: CK+48/sadness/S115_004_00000016.png  \n",
            "  inflating: CK+48/sadness/S115_004_00000017.png  \n",
            "  inflating: CK+48/sadness/S125_001_00000012.png  \n",
            "  inflating: CK+48/sadness/S125_001_00000013.png  \n",
            "  inflating: CK+48/sadness/S125_001_00000014.png  \n",
            "  inflating: CK+48/sadness/S130_009_00000017.png  \n",
            "  inflating: CK+48/sadness/S130_009_00000018.png  \n",
            "  inflating: CK+48/sadness/S130_009_00000019.png  \n",
            "  inflating: CK+48/sadness/S131_003_00000022.png  \n",
            "  inflating: CK+48/sadness/S131_003_00000023.png  \n",
            "  inflating: CK+48/sadness/S131_003_00000024.png  \n",
            "  inflating: CK+48/sadness/S132_002_00000016.png  \n",
            "  inflating: CK+48/sadness/S132_002_00000017.png  \n",
            "  inflating: CK+48/sadness/S132_002_00000018.png  \n",
            "  inflating: CK+48/sadness/S136_003_00000012.png  \n",
            "  inflating: CK+48/sadness/S136_003_00000013.png  \n",
            "  inflating: CK+48/sadness/S136_003_00000014.png  \n",
            "  inflating: CK+48/sadness/S137_005_00000025.png  \n",
            "  inflating: CK+48/sadness/S137_005_00000026.png  \n",
            "  inflating: CK+48/sadness/S137_005_00000027.png  \n",
            "  inflating: CK+48/sadness/S138_007_00000009.png  \n",
            "  inflating: CK+48/sadness/S138_007_00000010.png  \n",
            "  inflating: CK+48/sadness/S138_007_00000011.png  \n",
            "  inflating: CK+48/sadness/S501_006_00000039.png  \n",
            "  inflating: CK+48/sadness/S501_006_00000040.png  \n",
            "  inflating: CK+48/sadness/S501_006_00000041.png  \n",
            "  inflating: CK+48/sadness/S503_006_00000018.png  \n",
            "  inflating: CK+48/sadness/S503_006_00000019.png  \n",
            "  inflating: CK+48/sadness/S503_006_00000020.png  \n",
            "  inflating: CK+48/sadness/S504_006_00000016.png  \n",
            "  inflating: CK+48/sadness/S504_006_00000017.png  \n",
            "  inflating: CK+48/sadness/S504_006_00000018.png  \n",
            "  inflating: CK+48/sadness/S505_006_00000017.png  \n",
            "  inflating: CK+48/sadness/S505_006_00000018.png  \n",
            "  inflating: CK+48/sadness/S505_006_00000019.png  \n",
            "  inflating: CK+48/sadness/S506_006_00000040.png  \n",
            "  inflating: CK+48/sadness/S506_006_00000041.png  \n",
            "  inflating: CK+48/sadness/S506_006_00000042.png  \n",
            "  inflating: CK+48/surprise/S010_002_00000012.png  \n",
            "  inflating: CK+48/surprise/S010_002_00000013.png  \n",
            "  inflating: CK+48/surprise/S010_002_00000014.png  \n",
            "  inflating: CK+48/surprise/S011_001_00000014.png  \n",
            "  inflating: CK+48/surprise/S011_001_00000015.png  \n",
            "  inflating: CK+48/surprise/S011_001_00000016.png  \n",
            "  inflating: CK+48/surprise/S014_001_00000027.png  \n",
            "  inflating: CK+48/surprise/S014_001_00000028.png  \n",
            "  inflating: CK+48/surprise/S014_001_00000029.png  \n",
            "  inflating: CK+48/surprise/S022_001_00000028.png  \n",
            "  inflating: CK+48/surprise/S022_001_00000029.png  \n",
            "  inflating: CK+48/surprise/S022_001_00000030.png  \n",
            "  inflating: CK+48/surprise/S026_001_00000013.png  \n",
            "  inflating: CK+48/surprise/S026_001_00000014.png  \n",
            "  inflating: CK+48/surprise/S026_001_00000015.png  \n",
            "  inflating: CK+48/surprise/S032_001_00000020.png  \n",
            "  inflating: CK+48/surprise/S032_001_00000021.png  \n",
            "  inflating: CK+48/surprise/S032_001_00000022.png  \n",
            "  inflating: CK+48/surprise/S034_001_00000027.png  \n",
            "  inflating: CK+48/surprise/S034_001_00000028.png  \n",
            "  inflating: CK+48/surprise/S034_001_00000029.png  \n",
            "  inflating: CK+48/surprise/S035_001_00000013.png  \n",
            "  inflating: CK+48/surprise/S035_001_00000014.png  \n",
            "  inflating: CK+48/surprise/S035_001_00000015.png  \n",
            "  inflating: CK+48/surprise/S037_001_00000018.png  \n",
            "  inflating: CK+48/surprise/S037_001_00000019.png  \n",
            "  inflating: CK+48/surprise/S037_001_00000020.png  \n",
            "  inflating: CK+48/surprise/S042_001_00000017.png  \n",
            "  inflating: CK+48/surprise/S042_001_00000018.png  \n",
            "  inflating: CK+48/surprise/S042_001_00000019.png  \n",
            "  inflating: CK+48/surprise/S044_001_00000022.png  \n",
            "  inflating: CK+48/surprise/S044_001_00000023.png  \n",
            "  inflating: CK+48/surprise/S044_001_00000024.png  \n",
            "  inflating: CK+48/surprise/S046_002_00000004.png  \n",
            "  inflating: CK+48/surprise/S046_002_00000005.png  \n",
            "  inflating: CK+48/surprise/S046_002_00000006.png  \n",
            "  inflating: CK+48/surprise/S050_002_00000016.png  \n",
            "  inflating: CK+48/surprise/S050_002_00000017.png  \n",
            "  inflating: CK+48/surprise/S050_002_00000018.png  \n",
            "  inflating: CK+48/surprise/S051_002_00000017.png  \n",
            "  inflating: CK+48/surprise/S051_002_00000018.png  \n",
            "  inflating: CK+48/surprise/S051_002_00000019.png  \n",
            "  inflating: CK+48/surprise/S052_001_00000013.png  \n",
            "  inflating: CK+48/surprise/S052_001_00000014.png  \n",
            "  inflating: CK+48/surprise/S052_001_00000015.png  \n",
            "  inflating: CK+48/surprise/S053_001_00000021.png  \n",
            "  inflating: CK+48/surprise/S053_001_00000022.png  \n",
            "  inflating: CK+48/surprise/S053_001_00000023.png  \n",
            "  inflating: CK+48/surprise/S054_003_00000005.png  \n",
            "  inflating: CK+48/surprise/S054_003_00000006.png  \n",
            "  inflating: CK+48/surprise/S054_003_00000007.png  \n",
            "  inflating: CK+48/surprise/S055_001_00000010.png  \n",
            "  inflating: CK+48/surprise/S055_001_00000011.png  \n",
            "  inflating: CK+48/surprise/S055_001_00000012.png  \n",
            "  inflating: CK+48/surprise/S056_003_00000008.png  \n",
            "  inflating: CK+48/surprise/S056_003_00000009.png  \n",
            "  inflating: CK+48/surprise/S056_003_00000010.png  \n",
            "  inflating: CK+48/surprise/S057_001_00000017.png  \n",
            "  inflating: CK+48/surprise/S057_001_00000018.png  \n",
            "  inflating: CK+48/surprise/S057_001_00000019.png  \n",
            "  inflating: CK+48/surprise/S058_001_00000018.png  \n",
            "  inflating: CK+48/surprise/S058_001_00000019.png  \n",
            "  inflating: CK+48/surprise/S058_001_00000020.png  \n",
            "  inflating: CK+48/surprise/S059_001_00000016.png  \n",
            "  inflating: CK+48/surprise/S059_001_00000017.png  \n",
            "  inflating: CK+48/surprise/S059_001_00000018.png  \n",
            "  inflating: CK+48/surprise/S060_003_00000016.png  \n",
            "  inflating: CK+48/surprise/S060_003_00000017.png  \n",
            "  inflating: CK+48/surprise/S060_003_00000018.png  \n",
            "  inflating: CK+48/surprise/S061_001_00000010.png  \n",
            "  inflating: CK+48/surprise/S061_001_00000011.png  \n",
            "  inflating: CK+48/surprise/S061_001_00000012.png  \n",
            "  inflating: CK+48/surprise/S062_002_00000014.png  \n",
            "  inflating: CK+48/surprise/S062_002_00000015.png  \n",
            "  inflating: CK+48/surprise/S062_002_00000016.png  \n",
            "  inflating: CK+48/surprise/S063_001_00000011.png  \n",
            "  inflating: CK+48/surprise/S063_001_00000012.png  \n",
            "  inflating: CK+48/surprise/S063_001_00000013.png  \n",
            "  inflating: CK+48/surprise/S064_001_00000010.png  \n",
            "  inflating: CK+48/surprise/S064_001_00000011.png  \n",
            "  inflating: CK+48/surprise/S064_001_00000012.png  \n",
            "  inflating: CK+48/surprise/S065_003_00000020.png  \n",
            "  inflating: CK+48/surprise/S065_003_00000021.png  \n",
            "  inflating: CK+48/surprise/S065_003_00000022.png  \n",
            "  inflating: CK+48/surprise/S066_002_00000020.png  \n",
            "  inflating: CK+48/surprise/S066_002_00000021.png  \n",
            "  inflating: CK+48/surprise/S066_002_00000022.png  \n",
            "  inflating: CK+48/surprise/S067_002_00000012.png  \n",
            "  inflating: CK+48/surprise/S067_002_00000013.png  \n",
            "  inflating: CK+48/surprise/S067_002_00000014.png  \n",
            "  inflating: CK+48/surprise/S068_003_00000012.png  \n",
            "  inflating: CK+48/surprise/S068_003_00000013.png  \n",
            "  inflating: CK+48/surprise/S068_003_00000014.png  \n",
            "  inflating: CK+48/surprise/S069_002_00000012.png  \n",
            "  inflating: CK+48/surprise/S069_002_00000013.png  \n",
            "  inflating: CK+48/surprise/S069_002_00000014.png  \n",
            "  inflating: CK+48/surprise/S070_002_00000014.png  \n",
            "  inflating: CK+48/surprise/S070_002_00000015.png  \n",
            "  inflating: CK+48/surprise/S070_002_00000016.png  \n",
            "  inflating: CK+48/surprise/S071_001_00000011.png  \n",
            "  inflating: CK+48/surprise/S071_001_00000012.png  \n",
            "  inflating: CK+48/surprise/S071_001_00000013.png  \n",
            "  inflating: CK+48/surprise/S073_001_00000011.png  \n",
            "  inflating: CK+48/surprise/S073_001_00000012.png  \n",
            "  inflating: CK+48/surprise/S073_001_00000013.png  \n",
            "  inflating: CK+48/surprise/S074_002_00000014.png  \n",
            "  inflating: CK+48/surprise/S074_002_00000015.png  \n",
            "  inflating: CK+48/surprise/S074_002_00000016.png  \n",
            "  inflating: CK+48/surprise/S075_002_00000012.png  \n",
            "  inflating: CK+48/surprise/S075_002_00000013.png  \n",
            "  inflating: CK+48/surprise/S075_002_00000014.png  \n",
            "  inflating: CK+48/surprise/S076_001_00000015.png  \n",
            "  inflating: CK+48/surprise/S076_001_00000016.png  \n",
            "  inflating: CK+48/surprise/S076_001_00000017.png  \n",
            "  inflating: CK+48/surprise/S077_001_00000026.png  \n",
            "  inflating: CK+48/surprise/S077_001_00000027.png  \n",
            "  inflating: CK+48/surprise/S077_001_00000028.png  \n",
            "  inflating: CK+48/surprise/S078_001_00000031.png  \n",
            "  inflating: CK+48/surprise/S078_001_00000032.png  \n",
            "  inflating: CK+48/surprise/S078_001_00000033.png  \n",
            "  inflating: CK+48/surprise/S079_001_00000010.png  \n",
            "  inflating: CK+48/surprise/S079_001_00000011.png  \n",
            "  inflating: CK+48/surprise/S079_001_00000012.png  \n",
            "  inflating: CK+48/surprise/S080_001_00000016.png  \n",
            "  inflating: CK+48/surprise/S080_001_00000017.png  \n",
            "  inflating: CK+48/surprise/S080_001_00000018.png  \n",
            "  inflating: CK+48/surprise/S081_001_00000017.png  \n",
            "  inflating: CK+48/surprise/S081_001_00000018.png  \n",
            "  inflating: CK+48/surprise/S081_001_00000019.png  \n",
            "  inflating: CK+48/surprise/S082_001_00000013.png  \n",
            "  inflating: CK+48/surprise/S082_001_00000014.png  \n",
            "  inflating: CK+48/surprise/S082_001_00000015.png  \n",
            "  inflating: CK+48/surprise/S084_001_00000008.png  \n",
            "  inflating: CK+48/surprise/S084_001_00000009.png  \n",
            "  inflating: CK+48/surprise/S084_001_00000010.png  \n",
            "  inflating: CK+48/surprise/S085_003_00000011.png  \n",
            "  inflating: CK+48/surprise/S085_003_00000012.png  \n",
            "  inflating: CK+48/surprise/S085_003_00000013.png  \n",
            "  inflating: CK+48/surprise/S086_001_00000017.png  \n",
            "  inflating: CK+48/surprise/S086_001_00000018.png  \n",
            "  inflating: CK+48/surprise/S086_001_00000019.png  \n",
            "  inflating: CK+48/surprise/S087_001_00000009.png  \n",
            "  inflating: CK+48/surprise/S087_001_00000010.png  \n",
            "  inflating: CK+48/surprise/S087_001_00000011.png  \n",
            "  inflating: CK+48/surprise/S088_001_00000015.png  \n",
            "  inflating: CK+48/surprise/S088_001_00000016.png  \n",
            "  inflating: CK+48/surprise/S088_001_00000017.png  \n",
            "  inflating: CK+48/surprise/S089_001_00000014.png  \n",
            "  inflating: CK+48/surprise/S089_001_00000015.png  \n",
            "  inflating: CK+48/surprise/S089_001_00000016.png  \n",
            "  inflating: CK+48/surprise/S090_002_00000009.png  \n",
            "  inflating: CK+48/surprise/S090_002_00000010.png  \n",
            "  inflating: CK+48/surprise/S090_002_00000011.png  \n",
            "  inflating: CK+48/surprise/S092_001_00000015.png  \n",
            "  inflating: CK+48/surprise/S092_001_00000016.png  \n",
            "  inflating: CK+48/surprise/S092_001_00000017.png  \n",
            "  inflating: CK+48/surprise/S094_001_00000008.png  \n",
            "  inflating: CK+48/surprise/S094_001_00000009.png  \n",
            "  inflating: CK+48/surprise/S094_001_00000010.png  \n",
            "  inflating: CK+48/surprise/S095_001_00000014.png  \n",
            "  inflating: CK+48/surprise/S095_001_00000015.png  \n",
            "  inflating: CK+48/surprise/S095_001_00000016.png  \n",
            "  inflating: CK+48/surprise/S096_001_00000005.png  \n",
            "  inflating: CK+48/surprise/S096_001_00000006.png  \n",
            "  inflating: CK+48/surprise/S096_001_00000007.png  \n",
            "  inflating: CK+48/surprise/S097_001_00000019.png  \n",
            "  inflating: CK+48/surprise/S097_001_00000020.png  \n",
            "  inflating: CK+48/surprise/S097_001_00000021.png  \n",
            "  inflating: CK+48/surprise/S099_001_00000012.png  \n",
            "  inflating: CK+48/surprise/S099_001_00000013.png  \n",
            "  inflating: CK+48/surprise/S099_001_00000014.png  \n",
            "  inflating: CK+48/surprise/S100_002_00000013.png  \n",
            "  inflating: CK+48/surprise/S100_002_00000014.png  \n",
            "  inflating: CK+48/surprise/S100_002_00000015.png  \n",
            "  inflating: CK+48/surprise/S101_002_00000017.png  \n",
            "  inflating: CK+48/surprise/S101_002_00000018.png  \n",
            "  inflating: CK+48/surprise/S101_002_00000019.png  \n",
            "  inflating: CK+48/surprise/S102_002_00000016.png  \n",
            "  inflating: CK+48/surprise/S102_002_00000017.png  \n",
            "  inflating: CK+48/surprise/S102_002_00000018.png  \n",
            "  inflating: CK+48/surprise/S107_001_00000008.png  \n",
            "  inflating: CK+48/surprise/S107_001_00000009.png  \n",
            "  inflating: CK+48/surprise/S107_001_00000010.png  \n",
            "  inflating: CK+48/surprise/S110_001_00000011.png  \n",
            "  inflating: CK+48/surprise/S110_001_00000012.png  \n",
            "  inflating: CK+48/surprise/S110_001_00000013.png  \n",
            "  inflating: CK+48/surprise/S111_001_00000012.png  \n",
            "  inflating: CK+48/surprise/S111_001_00000013.png  \n",
            "  inflating: CK+48/surprise/S111_001_00000014.png  \n",
            "  inflating: CK+48/surprise/S113_001_00000010.png  \n",
            "  inflating: CK+48/surprise/S113_001_00000011.png  \n",
            "  inflating: CK+48/surprise/S113_001_00000012.png  \n",
            "  inflating: CK+48/surprise/S114_001_00000016.png  \n",
            "  inflating: CK+48/surprise/S114_001_00000017.png  \n",
            "  inflating: CK+48/surprise/S114_001_00000018.png  \n",
            "  inflating: CK+48/surprise/S115_001_00000006.png  \n",
            "  inflating: CK+48/surprise/S115_001_00000007.png  \n",
            "  inflating: CK+48/surprise/S115_001_00000008.png  \n",
            "  inflating: CK+48/surprise/S116_001_00000012.png  \n",
            "  inflating: CK+48/surprise/S116_001_00000013.png  \n",
            "  inflating: CK+48/surprise/S116_001_00000014.png  \n",
            "  inflating: CK+48/surprise/S117_001_00000012.png  \n",
            "  inflating: CK+48/surprise/S117_001_00000013.png  \n",
            "  inflating: CK+48/surprise/S117_001_00000014.png  \n",
            "  inflating: CK+48/surprise/S119_001_00000009.png  \n",
            "  inflating: CK+48/surprise/S119_001_00000010.png  \n",
            "  inflating: CK+48/surprise/S119_001_00000011.png  \n",
            "  inflating: CK+48/surprise/S122_001_00000010.png  \n",
            "  inflating: CK+48/surprise/S122_001_00000011.png  \n",
            "  inflating: CK+48/surprise/S122_001_00000012.png  \n",
            "  inflating: CK+48/surprise/S124_001_00000012.png  \n",
            "  inflating: CK+48/surprise/S124_001_00000013.png  \n",
            "  inflating: CK+48/surprise/S124_001_00000014.png  \n",
            "  inflating: CK+48/surprise/S125_007_00000007.png  \n",
            "  inflating: CK+48/surprise/S125_007_00000008.png  \n",
            "  inflating: CK+48/surprise/S125_007_00000009.png  \n",
            "  inflating: CK+48/surprise/S126_004_00000010.png  \n",
            "  inflating: CK+48/surprise/S126_004_00000011.png  \n",
            "  inflating: CK+48/surprise/S126_004_00000012.png  \n",
            "  inflating: CK+48/surprise/S127_001_00000015.png  \n",
            "  inflating: CK+48/surprise/S127_001_00000016.png  \n",
            "  inflating: CK+48/surprise/S127_001_00000017.png  \n",
            "  inflating: CK+48/surprise/S129_002_00000009.png  \n",
            "  inflating: CK+48/surprise/S129_002_00000010.png  \n",
            "  inflating: CK+48/surprise/S129_002_00000011.png  \n",
            "  inflating: CK+48/surprise/S130_001_00000016.png  \n",
            "  inflating: CK+48/surprise/S130_001_00000017.png  \n",
            "  inflating: CK+48/surprise/S130_001_00000018.png  \n",
            "  inflating: CK+48/surprise/S131_001_00000014.png  \n",
            "  inflating: CK+48/surprise/S131_001_00000015.png  \n",
            "  inflating: CK+48/surprise/S131_001_00000016.png  \n",
            "  inflating: CK+48/surprise/S132_008_00000008.png  \n",
            "  inflating: CK+48/surprise/S132_008_00000009.png  \n",
            "  inflating: CK+48/surprise/S132_008_00000010.png  \n",
            "  inflating: CK+48/surprise/S133_009_00000004.png  \n",
            "  inflating: CK+48/surprise/S133_009_00000005.png  \n",
            "  inflating: CK+48/surprise/S133_009_00000006.png  \n",
            "  inflating: CK+48/surprise/S135_001_00000037.png  \n",
            "  inflating: CK+48/surprise/S135_001_00000038.png  \n",
            "  inflating: CK+48/surprise/S135_001_00000039.png  \n",
            "  inflating: CK+48/surprise/S136_001_00000017.png  \n",
            "  inflating: CK+48/surprise/S136_001_00000018.png  \n",
            "  inflating: CK+48/surprise/S136_001_00000019.png  \n",
            "  inflating: CK+48/surprise/S137_001_00000012.png  \n",
            "  inflating: CK+48/surprise/S137_001_00000013.png  \n",
            "  inflating: CK+48/surprise/S137_001_00000014.png  \n",
            "  inflating: CK+48/surprise/S138_004_00000011.png  \n",
            "  inflating: CK+48/surprise/S138_004_00000012.png  \n",
            "  inflating: CK+48/surprise/S138_004_00000013.png  \n",
            "  inflating: ck/CK+48/anger/S010_004_00000017.png  \n",
            "  inflating: ck/CK+48/anger/S010_004_00000018.png  \n",
            "  inflating: ck/CK+48/anger/S010_004_00000019.png  \n",
            "  inflating: ck/CK+48/anger/S011_004_00000019.png  \n",
            "  inflating: ck/CK+48/anger/S011_004_00000020.png  \n",
            "  inflating: ck/CK+48/anger/S011_004_00000021.png  \n",
            "  inflating: ck/CK+48/anger/S014_003_00000028.png  \n",
            "  inflating: ck/CK+48/anger/S014_003_00000029.png  \n",
            "  inflating: ck/CK+48/anger/S014_003_00000030.png  \n",
            "  inflating: ck/CK+48/anger/S022_005_00000030.png  \n",
            "  inflating: ck/CK+48/anger/S022_005_00000031.png  \n",
            "  inflating: ck/CK+48/anger/S022_005_00000032.png  \n",
            "  inflating: ck/CK+48/anger/S026_003_00000013.png  \n",
            "  inflating: ck/CK+48/anger/S026_003_00000014.png  \n",
            "  inflating: ck/CK+48/anger/S026_003_00000015.png  \n",
            "  inflating: ck/CK+48/anger/S028_001_00000022.png  \n",
            "  inflating: ck/CK+48/anger/S028_001_00000023.png  \n",
            "  inflating: ck/CK+48/anger/S028_001_00000024.png  \n",
            "  inflating: ck/CK+48/anger/S029_001_00000017.png  \n",
            "  inflating: ck/CK+48/anger/S029_001_00000018.png  \n",
            "  inflating: ck/CK+48/anger/S029_001_00000019.png  \n",
            "  inflating: ck/CK+48/anger/S032_003_00000015.png  \n",
            "  inflating: ck/CK+48/anger/S032_003_00000016.png  \n",
            "  inflating: ck/CK+48/anger/S032_003_00000017.png  \n",
            "  inflating: ck/CK+48/anger/S034_003_00000025.png  \n",
            "  inflating: ck/CK+48/anger/S034_003_00000026.png  \n",
            "  inflating: ck/CK+48/anger/S034_003_00000027.png  \n",
            "  inflating: ck/CK+48/anger/S037_003_00000020.png  \n",
            "  inflating: ck/CK+48/anger/S037_003_00000021.png  \n",
            "  inflating: ck/CK+48/anger/S037_003_00000022.png  \n",
            "  inflating: ck/CK+48/anger/S042_004_00000018.png  \n",
            "  inflating: ck/CK+48/anger/S042_004_00000019.png  \n",
            "  inflating: ck/CK+48/anger/S042_004_00000020.png  \n",
            "  inflating: ck/CK+48/anger/S045_005_00000028.png  \n",
            "  inflating: ck/CK+48/anger/S045_005_00000029.png  \n",
            "  inflating: ck/CK+48/anger/S045_005_00000030.png  \n",
            "  inflating: ck/CK+48/anger/S050_004_00000019.png  \n",
            "  inflating: ck/CK+48/anger/S050_004_00000020.png  \n",
            "  inflating: ck/CK+48/anger/S050_004_00000021.png  \n",
            "  inflating: ck/CK+48/anger/S055_004_00000026.png  \n",
            "  inflating: ck/CK+48/anger/S055_004_00000027.png  \n",
            "  inflating: ck/CK+48/anger/S055_004_00000028.png  \n",
            "  inflating: ck/CK+48/anger/S058_005_00000008.png  \n",
            "  inflating: ck/CK+48/anger/S058_005_00000009.png  \n",
            "  inflating: ck/CK+48/anger/S058_005_00000010.png  \n",
            "  inflating: ck/CK+48/anger/S066_005_00000009.png  \n",
            "  inflating: ck/CK+48/anger/S066_005_00000010.png  \n",
            "  inflating: ck/CK+48/anger/S066_005_00000011.png  \n",
            "  inflating: ck/CK+48/anger/S067_004_00000021.png  \n",
            "  inflating: ck/CK+48/anger/S067_004_00000022.png  \n",
            "  inflating: ck/CK+48/anger/S067_004_00000023.png  \n",
            "  inflating: ck/CK+48/anger/S071_004_00000026.png  \n",
            "  inflating: ck/CK+48/anger/S071_004_00000027.png  \n",
            "  inflating: ck/CK+48/anger/S071_004_00000028.png  \n",
            "  inflating: ck/CK+48/anger/S072_005_00000017.png  \n",
            "  inflating: ck/CK+48/anger/S072_005_00000018.png  \n",
            "  inflating: ck/CK+48/anger/S072_005_00000019.png  \n",
            "  inflating: ck/CK+48/anger/S075_008_00000010.png  \n",
            "  inflating: ck/CK+48/anger/S075_008_00000011.png  \n",
            "  inflating: ck/CK+48/anger/S075_008_00000012.png  \n",
            "  inflating: ck/CK+48/anger/S082_005_00000015.png  \n",
            "  inflating: ck/CK+48/anger/S082_005_00000016.png  \n",
            "  inflating: ck/CK+48/anger/S082_005_00000017.png  \n",
            "  inflating: ck/CK+48/anger/S087_007_00000014.png  \n",
            "  inflating: ck/CK+48/anger/S087_007_00000015.png  \n",
            "  inflating: ck/CK+48/anger/S087_007_00000016.png  \n",
            "  inflating: ck/CK+48/anger/S089_003_00000034.png  \n",
            "  inflating: ck/CK+48/anger/S089_003_00000035.png  \n",
            "  inflating: ck/CK+48/anger/S089_003_00000036.png  \n",
            "  inflating: ck/CK+48/anger/S090_007_00000012.png  \n",
            "  inflating: ck/CK+48/anger/S090_007_00000013.png  \n",
            "  inflating: ck/CK+48/anger/S090_007_00000014.png  \n",
            "  inflating: ck/CK+48/anger/S092_003_00000012.png  \n",
            "  inflating: ck/CK+48/anger/S092_003_00000013.png  \n",
            "  inflating: ck/CK+48/anger/S092_003_00000014.png  \n",
            "  inflating: ck/CK+48/anger/S100_005_00000021.png  \n",
            "  inflating: ck/CK+48/anger/S100_005_00000022.png  \n",
            "  inflating: ck/CK+48/anger/S100_005_00000023.png  \n",
            "  inflating: ck/CK+48/anger/S109_003_00000015.png  \n",
            "  inflating: ck/CK+48/anger/S109_003_00000016.png  \n",
            "  inflating: ck/CK+48/anger/S109_003_00000017.png  \n",
            "  inflating: ck/CK+48/anger/S111_006_00000008.png  \n",
            "  inflating: ck/CK+48/anger/S111_006_00000009.png  \n",
            "  inflating: ck/CK+48/anger/S111_006_00000010.png  \n",
            "  inflating: ck/CK+48/anger/S112_005_00000015.png  \n",
            "  inflating: ck/CK+48/anger/S112_005_00000016.png  \n",
            "  inflating: ck/CK+48/anger/S112_005_00000017.png  \n",
            "  inflating: ck/CK+48/anger/S113_008_00000021.png  \n",
            "  inflating: ck/CK+48/anger/S113_008_00000022.png  \n",
            "  inflating: ck/CK+48/anger/S113_008_00000023.png  \n",
            "  inflating: ck/CK+48/anger/S117_006_00000008.png  \n",
            "  inflating: ck/CK+48/anger/S117_006_00000009.png  \n",
            "  inflating: ck/CK+48/anger/S117_006_00000010.png  \n",
            "  inflating: ck/CK+48/anger/S119_008_00000016.png  \n",
            "  inflating: ck/CK+48/anger/S119_008_00000017.png  \n",
            "  inflating: ck/CK+48/anger/S119_008_00000018.png  \n",
            "  inflating: ck/CK+48/anger/S126_008_00000027.png  \n",
            "  inflating: ck/CK+48/anger/S126_008_00000028.png  \n",
            "  inflating: ck/CK+48/anger/S126_008_00000029.png  \n",
            "  inflating: ck/CK+48/anger/S127_010_00000016.png  \n",
            "  inflating: ck/CK+48/anger/S127_010_00000017.png  \n",
            "  inflating: ck/CK+48/anger/S127_010_00000018.png  \n",
            "  inflating: ck/CK+48/anger/S129_006_00000008.png  \n",
            "  inflating: ck/CK+48/anger/S129_006_00000009.png  \n",
            "  inflating: ck/CK+48/anger/S129_006_00000010.png  \n",
            "  inflating: ck/CK+48/anger/S130_007_00000018.png  \n",
            "  inflating: ck/CK+48/anger/S130_007_00000019.png  \n",
            "  inflating: ck/CK+48/anger/S130_007_00000020.png  \n",
            "  inflating: ck/CK+48/anger/S133_003_00000045.png  \n",
            "  inflating: ck/CK+48/anger/S133_003_00000046.png  \n",
            "  inflating: ck/CK+48/anger/S133_003_00000047.png  \n",
            "  inflating: ck/CK+48/anger/S134_003_00000009.png  \n",
            "  inflating: ck/CK+48/anger/S134_003_00000010.png  \n",
            "  inflating: ck/CK+48/anger/S134_003_00000011.png  \n",
            "  inflating: ck/CK+48/anger/S136_005_00000008.png  \n",
            "  inflating: ck/CK+48/anger/S136_005_00000009.png  \n",
            "  inflating: ck/CK+48/anger/S136_005_00000010.png  \n",
            "  inflating: ck/CK+48/anger/S501_001_00000065.png  \n",
            "  inflating: ck/CK+48/anger/S501_001_00000066.png  \n",
            "  inflating: ck/CK+48/anger/S501_001_00000067.png  \n",
            "  inflating: ck/CK+48/anger/S502_001_00000014.png  \n",
            "  inflating: ck/CK+48/anger/S502_001_00000015.png  \n",
            "  inflating: ck/CK+48/anger/S502_001_00000016.png  \n",
            "  inflating: ck/CK+48/anger/S503_001_00000069.png  \n",
            "  inflating: ck/CK+48/anger/S503_001_00000070.png  \n",
            "  inflating: ck/CK+48/anger/S503_001_00000071.png  \n",
            "  inflating: ck/CK+48/anger/S504_001_00000020.png  \n",
            "  inflating: ck/CK+48/anger/S504_001_00000021.png  \n",
            "  inflating: ck/CK+48/anger/S504_001_00000022.png  \n",
            "  inflating: ck/CK+48/anger/S506_001_00000038.png  \n",
            "  inflating: ck/CK+48/anger/S506_001_00000039.png  \n",
            "  inflating: ck/CK+48/anger/S506_001_00000040.png  \n",
            "  inflating: ck/CK+48/anger/S999_001_00000016.png  \n",
            "  inflating: ck/CK+48/anger/S999_001_00000017.png  \n",
            "  inflating: ck/CK+48/anger/S999_001_00000018.png  \n",
            "  inflating: ck/CK+48/contempt/S138_008_00000007.png  \n",
            "  inflating: ck/CK+48/contempt/S138_008_00000008.png  \n",
            "  inflating: ck/CK+48/contempt/S138_008_00000009.png  \n",
            "  inflating: ck/CK+48/contempt/S139_002_00000011.png  \n",
            "  inflating: ck/CK+48/contempt/S139_002_00000012.png  \n",
            "  inflating: ck/CK+48/contempt/S139_002_00000013.png  \n",
            "  inflating: ck/CK+48/contempt/S147_002_00000011.png  \n",
            "  inflating: ck/CK+48/contempt/S147_002_00000012.png  \n",
            "  inflating: ck/CK+48/contempt/S147_002_00000013.png  \n",
            "  inflating: ck/CK+48/contempt/S148_002_00000013.png  \n",
            "  inflating: ck/CK+48/contempt/S148_002_00000014.png  \n",
            "  inflating: ck/CK+48/contempt/S148_002_00000015.png  \n",
            "  inflating: ck/CK+48/contempt/S149_002_00000011.png  \n",
            "  inflating: ck/CK+48/contempt/S149_002_00000012.png  \n",
            "  inflating: ck/CK+48/contempt/S149_002_00000013.png  \n",
            "  inflating: ck/CK+48/contempt/S151_002_00000027.png  \n",
            "  inflating: ck/CK+48/contempt/S151_002_00000028.png  \n",
            "  inflating: ck/CK+48/contempt/S151_002_00000029.png  \n",
            "  inflating: ck/CK+48/contempt/S154_002_00000011.png  \n",
            "  inflating: ck/CK+48/contempt/S154_002_00000012.png  \n",
            "  inflating: ck/CK+48/contempt/S154_002_00000013.png  \n",
            "  inflating: ck/CK+48/contempt/S155_002_00000010.png  \n",
            "  inflating: ck/CK+48/contempt/S155_002_00000011.png  \n",
            "  inflating: ck/CK+48/contempt/S155_002_00000012.png  \n",
            "  inflating: ck/CK+48/contempt/S156_002_00000019.png  \n",
            "  inflating: ck/CK+48/contempt/S156_002_00000020.png  \n",
            "  inflating: ck/CK+48/contempt/S156_002_00000021.png  \n",
            "  inflating: ck/CK+48/contempt/S157_002_00000009.png  \n",
            "  inflating: ck/CK+48/contempt/S157_002_00000010.png  \n",
            "  inflating: ck/CK+48/contempt/S157_002_00000011.png  \n",
            "  inflating: ck/CK+48/contempt/S158_002_00000009.png  \n",
            "  inflating: ck/CK+48/contempt/S158_002_00000010.png  \n",
            "  inflating: ck/CK+48/contempt/S158_002_00000011.png  \n",
            "  inflating: ck/CK+48/contempt/S160_006_00000008.png  \n",
            "  inflating: ck/CK+48/contempt/S160_006_00000009.png  \n",
            "  inflating: ck/CK+48/contempt/S160_006_00000010.png  \n",
            "  inflating: ck/CK+48/contempt/S502_002_00000007.png  \n",
            "  inflating: ck/CK+48/contempt/S502_002_00000008.png  \n",
            "  inflating: ck/CK+48/contempt/S502_002_00000009.png  \n",
            "  inflating: ck/CK+48/contempt/S503_002_00000006.png  \n",
            "  inflating: ck/CK+48/contempt/S503_002_00000007.png  \n",
            "  inflating: ck/CK+48/contempt/S503_002_00000008.png  \n",
            "  inflating: ck/CK+48/contempt/S504_002_00000007.png  \n",
            "  inflating: ck/CK+48/contempt/S504_002_00000008.png  \n",
            "  inflating: ck/CK+48/contempt/S504_002_00000009.png  \n",
            "  inflating: ck/CK+48/contempt/S505_002_00000019.png  \n",
            "  inflating: ck/CK+48/contempt/S505_002_00000020.png  \n",
            "  inflating: ck/CK+48/contempt/S505_002_00000021.png  \n",
            "  inflating: ck/CK+48/contempt/S506_002_00000007.png  \n",
            "  inflating: ck/CK+48/contempt/S506_002_00000008.png  \n",
            "  inflating: ck/CK+48/contempt/S506_002_00000009.png  \n",
            "  inflating: ck/CK+48/contempt/S895_002_00000005.png  \n",
            "  inflating: ck/CK+48/contempt/S895_002_00000006.png  \n",
            "  inflating: ck/CK+48/contempt/S895_002_00000007.png  \n",
            "  inflating: ck/CK+48/disgust/S005_001_00000009.png  \n",
            "  inflating: ck/CK+48/disgust/S005_001_00000010.png  \n",
            "  inflating: ck/CK+48/disgust/S005_001_00000011.png  \n",
            "  inflating: ck/CK+48/disgust/S011_005_00000018.png  \n",
            "  inflating: ck/CK+48/disgust/S011_005_00000019.png  \n",
            "  inflating: ck/CK+48/disgust/S011_005_00000020.png  \n",
            "  inflating: ck/CK+48/disgust/S022_006_00000015.png  \n",
            "  inflating: ck/CK+48/disgust/S022_006_00000016.png  \n",
            "  inflating: ck/CK+48/disgust/S022_006_00000017.png  \n",
            "  inflating: ck/CK+48/disgust/S032_005_00000014.png  \n",
            "  inflating: ck/CK+48/disgust/S032_005_00000015.png  \n",
            "  inflating: ck/CK+48/disgust/S032_005_00000016.png  \n",
            "  inflating: ck/CK+48/disgust/S035_005_00000017.png  \n",
            "  inflating: ck/CK+48/disgust/S035_005_00000018.png  \n",
            "  inflating: ck/CK+48/disgust/S035_005_00000019.png  \n",
            "  inflating: ck/CK+48/disgust/S044_006_00000017.png  \n",
            "  inflating: ck/CK+48/disgust/S044_006_00000018.png  \n",
            "  inflating: ck/CK+48/disgust/S044_006_00000019.png  \n",
            "  inflating: ck/CK+48/disgust/S045_004_00000013.png  \n",
            "  inflating: ck/CK+48/disgust/S045_004_00000014.png  \n",
            "  inflating: ck/CK+48/disgust/S045_004_00000015.png  \n",
            "  inflating: ck/CK+48/disgust/S046_004_00000015.png  \n",
            "  inflating: ck/CK+48/disgust/S046_004_00000016.png  \n",
            "  inflating: ck/CK+48/disgust/S046_004_00000017.png  \n",
            "  inflating: ck/CK+48/disgust/S051_003_00000016.png  \n",
            "  inflating: ck/CK+48/disgust/S051_003_00000017.png  \n",
            "  inflating: ck/CK+48/disgust/S051_003_00000018.png  \n",
            "  inflating: ck/CK+48/disgust/S052_006_00000011.png  \n",
            "  inflating: ck/CK+48/disgust/S052_006_00000012.png  \n",
            "  inflating: ck/CK+48/disgust/S052_006_00000013.png  \n",
            "  inflating: ck/CK+48/disgust/S054_004_00000022.png  \n",
            "  inflating: ck/CK+48/disgust/S054_004_00000023.png  \n",
            "  inflating: ck/CK+48/disgust/S054_004_00000024.png  \n",
            "  inflating: ck/CK+48/disgust/S055_003_00000007.png  \n",
            "  inflating: ck/CK+48/disgust/S055_003_00000008.png  \n",
            "  inflating: ck/CK+48/disgust/S055_003_00000009.png  \n",
            "  inflating: ck/CK+48/disgust/S056_002_00000008.png  \n",
            "  inflating: ck/CK+48/disgust/S056_002_00000009.png  \n",
            "  inflating: ck/CK+48/disgust/S056_002_00000010.png  \n",
            "  inflating: ck/CK+48/disgust/S057_003_00000013.png  \n",
            "  inflating: ck/CK+48/disgust/S057_003_00000014.png  \n",
            "  inflating: ck/CK+48/disgust/S057_003_00000015.png  \n",
            "  inflating: ck/CK+48/disgust/S058_006_00000016.png  \n",
            "  inflating: ck/CK+48/disgust/S058_006_00000017.png  \n",
            "  inflating: ck/CK+48/disgust/S058_006_00000018.png  \n",
            "  inflating: ck/CK+48/disgust/S060_005_00000019.png  \n",
            "  inflating: ck/CK+48/disgust/S060_005_00000020.png  \n",
            "  inflating: ck/CK+48/disgust/S060_005_00000021.png  \n",
            "  inflating: ck/CK+48/disgust/S061_004_00000020.png  \n",
            "  inflating: ck/CK+48/disgust/S061_004_00000021.png  \n",
            "  inflating: ck/CK+48/disgust/S061_004_00000022.png  \n",
            "  inflating: ck/CK+48/disgust/S062_005_00000027.png  \n",
            "  inflating: ck/CK+48/disgust/S062_005_00000028.png  \n",
            "  inflating: ck/CK+48/disgust/S062_005_00000029.png  \n",
            "  inflating: ck/CK+48/disgust/S065_005_00000006.png  \n",
            "  inflating: ck/CK+48/disgust/S065_005_00000007.png  \n",
            "  inflating: ck/CK+48/disgust/S065_005_00000008.png  \n",
            "  inflating: ck/CK+48/disgust/S067_006_00000009.png  \n",
            "  inflating: ck/CK+48/disgust/S067_006_00000010.png  \n",
            "  inflating: ck/CK+48/disgust/S067_006_00000011.png  \n",
            "  inflating: ck/CK+48/disgust/S068_005_00000019.png  \n",
            "  inflating: ck/CK+48/disgust/S068_005_00000020.png  \n",
            "  inflating: ck/CK+48/disgust/S068_005_00000021.png  \n",
            "  inflating: ck/CK+48/disgust/S069_003_00000009.png  \n",
            "  inflating: ck/CK+48/disgust/S069_003_00000010.png  \n",
            "  inflating: ck/CK+48/disgust/S069_003_00000011.png  \n",
            "  inflating: ck/CK+48/disgust/S070_005_00000014.png  \n",
            "  inflating: ck/CK+48/disgust/S070_005_00000015.png  \n",
            "  inflating: ck/CK+48/disgust/S070_005_00000016.png  \n",
            "  inflating: ck/CK+48/disgust/S071_006_00000012.png  \n",
            "  inflating: ck/CK+48/disgust/S071_006_00000013.png  \n",
            "  inflating: ck/CK+48/disgust/S071_006_00000014.png  \n",
            "  inflating: ck/CK+48/disgust/S073_006_00000012.png  \n",
            "  inflating: ck/CK+48/disgust/S073_006_00000013.png  \n",
            "  inflating: ck/CK+48/disgust/S073_006_00000014.png  \n",
            "  inflating: ck/CK+48/disgust/S074_004_00000016.png  \n",
            "  inflating: ck/CK+48/disgust/S074_004_00000017.png  \n",
            "  inflating: ck/CK+48/disgust/S074_004_00000018.png  \n",
            "  inflating: ck/CK+48/disgust/S075_005_00000010.png  \n",
            "  inflating: ck/CK+48/disgust/S075_005_00000011.png  \n",
            "  inflating: ck/CK+48/disgust/S075_005_00000012.png  \n",
            "  inflating: ck/CK+48/disgust/S076_005_00000010.png  \n",
            "  inflating: ck/CK+48/disgust/S076_005_00000011.png  \n",
            "  inflating: ck/CK+48/disgust/S076_005_00000012.png  \n",
            "  inflating: ck/CK+48/disgust/S077_006_00000012.png  \n",
            "  inflating: ck/CK+48/disgust/S077_006_00000013.png  \n",
            "  inflating: ck/CK+48/disgust/S077_006_00000014.png  \n",
            "  inflating: ck/CK+48/disgust/S078_007_00000011.png  \n",
            "  inflating: ck/CK+48/disgust/S078_007_00000012.png  \n",
            "  inflating: ck/CK+48/disgust/S078_007_00000013.png  \n",
            "  inflating: ck/CK+48/disgust/S079_002_00000010.png  \n",
            "  inflating: ck/CK+48/disgust/S079_002_00000011.png  \n",
            "  inflating: ck/CK+48/disgust/S079_002_00000012.png  \n",
            "  inflating: ck/CK+48/disgust/S080_008_00000007.png  \n",
            "  inflating: ck/CK+48/disgust/S080_008_00000008.png  \n",
            "  inflating: ck/CK+48/disgust/S080_008_00000009.png  \n",
            "  inflating: ck/CK+48/disgust/S081_008_00000009.png  \n",
            "  inflating: ck/CK+48/disgust/S081_008_00000010.png  \n",
            "  inflating: ck/CK+48/disgust/S081_008_00000011.png  \n",
            "  inflating: ck/CK+48/disgust/S082_007_00000008.png  \n",
            "  inflating: ck/CK+48/disgust/S082_007_00000009.png  \n",
            "  inflating: ck/CK+48/disgust/S082_007_00000010.png  \n",
            "  inflating: ck/CK+48/disgust/S085_004_00000015.png  \n",
            "  inflating: ck/CK+48/disgust/S085_004_00000016.png  \n",
            "  inflating: ck/CK+48/disgust/S085_004_00000017.png  \n",
            "  inflating: ck/CK+48/disgust/S087_004_00000010.png  \n",
            "  inflating: ck/CK+48/disgust/S087_004_00000011.png  \n",
            "  inflating: ck/CK+48/disgust/S087_004_00000012.png  \n",
            "  inflating: ck/CK+48/disgust/S088_004_00000018.png  \n",
            "  inflating: ck/CK+48/disgust/S088_004_00000019.png  \n",
            "  inflating: ck/CK+48/disgust/S088_004_00000020.png  \n",
            "  inflating: ck/CK+48/disgust/S090_006_00000009.png  \n",
            "  inflating: ck/CK+48/disgust/S090_006_00000010.png  \n",
            "  inflating: ck/CK+48/disgust/S090_006_00000011.png  \n",
            "  inflating: ck/CK+48/disgust/S095_006_00000011.png  \n",
            "  inflating: ck/CK+48/disgust/S095_006_00000012.png  \n",
            "  inflating: ck/CK+48/disgust/S095_006_00000013.png  \n",
            "  inflating: ck/CK+48/disgust/S096_003_00000010.png  \n",
            "  inflating: ck/CK+48/disgust/S096_003_00000011.png  \n",
            "  inflating: ck/CK+48/disgust/S096_003_00000012.png  \n",
            "  inflating: ck/CK+48/disgust/S097_004_00000028.png  \n",
            "  inflating: ck/CK+48/disgust/S097_004_00000029.png  \n",
            "  inflating: ck/CK+48/disgust/S097_004_00000030.png  \n",
            "  inflating: ck/CK+48/disgust/S098_003_00000011.png  \n",
            "  inflating: ck/CK+48/disgust/S098_003_00000012.png  \n",
            "  inflating: ck/CK+48/disgust/S098_003_00000013.png  \n",
            "  inflating: ck/CK+48/disgust/S099_007_00000010.png  \n",
            "  inflating: ck/CK+48/disgust/S099_007_00000011.png  \n",
            "  inflating: ck/CK+48/disgust/S099_007_00000012.png  \n",
            "  inflating: ck/CK+48/disgust/S102_009_00000013.png  \n",
            "  inflating: ck/CK+48/disgust/S102_009_00000014.png  \n",
            "  inflating: ck/CK+48/disgust/S102_009_00000015.png  \n",
            "  inflating: ck/CK+48/disgust/S105_008_00000008.png  \n",
            "  inflating: ck/CK+48/disgust/S105_008_00000009.png  \n",
            "  inflating: ck/CK+48/disgust/S105_008_00000010.png  \n",
            "  inflating: ck/CK+48/disgust/S106_004_00000006.png  \n",
            "  inflating: ck/CK+48/disgust/S106_004_00000007.png  \n",
            "  inflating: ck/CK+48/disgust/S106_004_00000008.png  \n",
            "  inflating: ck/CK+48/disgust/S107_005_00000009.png  \n",
            "  inflating: ck/CK+48/disgust/S107_005_00000010.png  \n",
            "  inflating: ck/CK+48/disgust/S107_005_00000011.png  \n",
            "  inflating: ck/CK+48/disgust/S108_006_00000018.png  \n",
            "  inflating: ck/CK+48/disgust/S108_006_00000019.png  \n",
            "  inflating: ck/CK+48/disgust/S108_006_00000020.png  \n",
            "  inflating: ck/CK+48/disgust/S109_005_00000012.png  \n",
            "  inflating: ck/CK+48/disgust/S109_005_00000013.png  \n",
            "  inflating: ck/CK+48/disgust/S109_005_00000014.png  \n",
            "  inflating: ck/CK+48/disgust/S111_007_00000012.png  \n",
            "  inflating: ck/CK+48/disgust/S111_007_00000013.png  \n",
            "  inflating: ck/CK+48/disgust/S111_007_00000014.png  \n",
            "  inflating: ck/CK+48/disgust/S116_006_00000005.png  \n",
            "  inflating: ck/CK+48/disgust/S116_006_00000006.png  \n",
            "  inflating: ck/CK+48/disgust/S116_006_00000007.png  \n",
            "  inflating: ck/CK+48/disgust/S124_006_00000009.png  \n",
            "  inflating: ck/CK+48/disgust/S124_006_00000010.png  \n",
            "  inflating: ck/CK+48/disgust/S124_006_00000011.png  \n",
            "  inflating: ck/CK+48/disgust/S125_008_00000008.png  \n",
            "  inflating: ck/CK+48/disgust/S125_008_00000009.png  \n",
            "  inflating: ck/CK+48/disgust/S125_008_00000010.png  \n",
            "  inflating: ck/CK+48/disgust/S128_004_00000011.png  \n",
            "  inflating: ck/CK+48/disgust/S128_004_00000012.png  \n",
            "  inflating: ck/CK+48/disgust/S128_004_00000013.png  \n",
            "  inflating: ck/CK+48/disgust/S129_011_00000016.png  \n",
            "  inflating: ck/CK+48/disgust/S129_011_00000017.png  \n",
            "  inflating: ck/CK+48/disgust/S129_011_00000018.png  \n",
            "  inflating: ck/CK+48/disgust/S130_012_00000009.png  \n",
            "  inflating: ck/CK+48/disgust/S130_012_00000010.png  \n",
            "  inflating: ck/CK+48/disgust/S130_012_00000011.png  \n",
            "  inflating: ck/CK+48/disgust/S131_010_00000016.png  \n",
            "  inflating: ck/CK+48/disgust/S131_010_00000017.png  \n",
            "  inflating: ck/CK+48/disgust/S131_010_00000018.png  \n",
            "  inflating: ck/CK+48/disgust/S132_005_00000014.png  \n",
            "  inflating: ck/CK+48/disgust/S132_005_00000015.png  \n",
            "  inflating: ck/CK+48/disgust/S132_005_00000016.png  \n",
            "  inflating: ck/CK+48/disgust/S134_008_00000011.png  \n",
            "  inflating: ck/CK+48/disgust/S134_008_00000012.png  \n",
            "  inflating: ck/CK+48/disgust/S134_008_00000013.png  \n",
            "  inflating: ck/CK+48/fear/S011_003_00000012.png  \n",
            "  inflating: ck/CK+48/fear/S011_003_00000013.png  \n",
            "  inflating: ck/CK+48/fear/S011_003_00000014.png  \n",
            "  inflating: ck/CK+48/fear/S032_004_00000012.png  \n",
            "  inflating: ck/CK+48/fear/S032_004_00000013.png  \n",
            "  inflating: ck/CK+48/fear/S032_004_00000014.png  \n",
            "  inflating: ck/CK+48/fear/S046_003_00000014.png  \n",
            "  inflating: ck/CK+48/fear/S046_003_00000015.png  \n",
            "  inflating: ck/CK+48/fear/S046_003_00000016.png  \n",
            "  inflating: ck/CK+48/fear/S050_001_00000015.png  \n",
            "  inflating: ck/CK+48/fear/S050_001_00000016.png  \n",
            "  inflating: ck/CK+48/fear/S050_001_00000017.png  \n",
            "  inflating: ck/CK+48/fear/S054_002_00000013.png  \n",
            "  inflating: ck/CK+48/fear/S054_002_00000014.png  \n",
            "  inflating: ck/CK+48/fear/S054_002_00000015.png  \n",
            "  inflating: ck/CK+48/fear/S055_006_00000006.png  \n",
            "  inflating: ck/CK+48/fear/S055_006_00000007.png  \n",
            "  inflating: ck/CK+48/fear/S055_006_00000008.png  \n",
            "  inflating: ck/CK+48/fear/S059_002_00000015.png  \n",
            "  inflating: ck/CK+48/fear/S059_002_00000016.png  \n",
            "  inflating: ck/CK+48/fear/S059_002_00000017.png  \n",
            "  inflating: ck/CK+48/fear/S062_001_00000015.png  \n",
            "  inflating: ck/CK+48/fear/S062_001_00000016.png  \n",
            "  inflating: ck/CK+48/fear/S062_001_00000017.png  \n",
            "  inflating: ck/CK+48/fear/S065_002_00000020.png  \n",
            "  inflating: ck/CK+48/fear/S065_002_00000021.png  \n",
            "  inflating: ck/CK+48/fear/S065_002_00000022.png  \n",
            "  inflating: ck/CK+48/fear/S068_004_00000008.png  \n",
            "  inflating: ck/CK+48/fear/S068_004_00000009.png  \n",
            "  inflating: ck/CK+48/fear/S068_004_00000010.png  \n",
            "  inflating: ck/CK+48/fear/S074_001_00000018.png  \n",
            "  inflating: ck/CK+48/fear/S074_001_00000019.png  \n",
            "  inflating: ck/CK+48/fear/S074_001_00000020.png  \n",
            "  inflating: ck/CK+48/fear/S084_002_00000021.png  \n",
            "  inflating: ck/CK+48/fear/S084_002_00000022.png  \n",
            "  inflating: ck/CK+48/fear/S084_002_00000023.png  \n",
            "  inflating: ck/CK+48/fear/S091_001_00000013.png  \n",
            "  inflating: ck/CK+48/fear/S091_001_00000014.png  \n",
            "  inflating: ck/CK+48/fear/S091_001_00000015.png  \n",
            "  inflating: ck/CK+48/fear/S102_003_00000014.png  \n",
            "  inflating: ck/CK+48/fear/S102_003_00000015.png  \n",
            "  inflating: ck/CK+48/fear/S102_003_00000016.png  \n",
            "  inflating: ck/CK+48/fear/S117_003_00000012.png  \n",
            "  inflating: ck/CK+48/fear/S117_003_00000013.png  \n",
            "  inflating: ck/CK+48/fear/S117_003_00000014.png  \n",
            "  inflating: ck/CK+48/fear/S119_003_00000022.png  \n",
            "  inflating: ck/CK+48/fear/S119_003_00000023.png  \n",
            "  inflating: ck/CK+48/fear/S119_003_00000024.png  \n",
            "  inflating: ck/CK+48/fear/S124_003_00000009.png  \n",
            "  inflating: ck/CK+48/fear/S124_003_00000010.png  \n",
            "  inflating: ck/CK+48/fear/S124_003_00000011.png  \n",
            "  inflating: ck/CK+48/fear/S125_006_00000020.png  \n",
            "  inflating: ck/CK+48/fear/S125_006_00000021.png  \n",
            "  inflating: ck/CK+48/fear/S125_006_00000022.png  \n",
            "  inflating: ck/CK+48/fear/S132_003_00000021.png  \n",
            "  inflating: ck/CK+48/fear/S132_003_00000022.png  \n",
            "  inflating: ck/CK+48/fear/S132_003_00000023.png  \n",
            "  inflating: ck/CK+48/fear/S138_001_00000010.png  \n",
            "  inflating: ck/CK+48/fear/S138_001_00000011.png  \n",
            "  inflating: ck/CK+48/fear/S138_001_00000012.png  \n",
            "  inflating: ck/CK+48/fear/S501_004_00000054.png  \n",
            "  inflating: ck/CK+48/fear/S501_004_00000055.png  \n",
            "  inflating: ck/CK+48/fear/S501_004_00000056.png  \n",
            "  inflating: ck/CK+48/fear/S502_004_00000050.png  \n",
            "  inflating: ck/CK+48/fear/S502_004_00000051.png  \n",
            "  inflating: ck/CK+48/fear/S502_004_00000052.png  \n",
            "  inflating: ck/CK+48/fear/S504_004_00000013.png  \n",
            "  inflating: ck/CK+48/fear/S504_004_00000014.png  \n",
            "  inflating: ck/CK+48/fear/S504_004_00000015.png  \n",
            "  inflating: ck/CK+48/fear/S506_004_00000036.png  \n",
            "  inflating: ck/CK+48/fear/S506_004_00000037.png  \n",
            "  inflating: ck/CK+48/fear/S506_004_00000038.png  \n",
            "  inflating: ck/CK+48/fear/S999_003_00000053.png  \n",
            "  inflating: ck/CK+48/fear/S999_003_00000054.png  \n",
            "  inflating: ck/CK+48/fear/S999_003_00000055.png  \n",
            "  inflating: ck/CK+48/happy/S010_006_00000013.png  \n",
            "  inflating: ck/CK+48/happy/S010_006_00000014.png  \n",
            "  inflating: ck/CK+48/happy/S010_006_00000015.png  \n",
            "  inflating: ck/CK+48/happy/S011_006_00000011.png  \n",
            "  inflating: ck/CK+48/happy/S011_006_00000012.png  \n",
            "  inflating: ck/CK+48/happy/S011_006_00000013.png  \n",
            "  inflating: ck/CK+48/happy/S014_005_00000015.png  \n",
            "  inflating: ck/CK+48/happy/S014_005_00000016.png  \n",
            "  inflating: ck/CK+48/happy/S014_005_00000017.png  \n",
            "  inflating: ck/CK+48/happy/S026_006_00000011.png  \n",
            "  inflating: ck/CK+48/happy/S026_006_00000012.png  \n",
            "  inflating: ck/CK+48/happy/S026_006_00000013.png  \n",
            "  inflating: ck/CK+48/happy/S032_006_00000014.png  \n",
            "  inflating: ck/CK+48/happy/S032_006_00000015.png  \n",
            "  inflating: ck/CK+48/happy/S032_006_00000016.png  \n",
            "  inflating: ck/CK+48/happy/S034_005_00000008.png  \n",
            "  inflating: ck/CK+48/happy/S034_005_00000009.png  \n",
            "  inflating: ck/CK+48/happy/S034_005_00000010.png  \n",
            "  inflating: ck/CK+48/happy/S035_006_00000016.png  \n",
            "  inflating: ck/CK+48/happy/S035_006_00000017.png  \n",
            "  inflating: ck/CK+48/happy/S035_006_00000018.png  \n",
            "  inflating: ck/CK+48/happy/S037_006_00000019.png  \n",
            "  inflating: ck/CK+48/happy/S037_006_00000020.png  \n",
            "  inflating: ck/CK+48/happy/S037_006_00000021.png  \n",
            "  inflating: ck/CK+48/happy/S042_006_00000015.png  \n",
            "  inflating: ck/CK+48/happy/S042_006_00000016.png  \n",
            "  inflating: ck/CK+48/happy/S042_006_00000017.png  \n",
            "  inflating: ck/CK+48/happy/S044_003_00000012.png  \n",
            "  inflating: ck/CK+48/happy/S044_003_00000013.png  \n",
            "  inflating: ck/CK+48/happy/S044_003_00000014.png  \n",
            "  inflating: ck/CK+48/happy/S050_006_00000021.png  \n",
            "  inflating: ck/CK+48/happy/S050_006_00000022.png  \n",
            "  inflating: ck/CK+48/happy/S050_006_00000023.png  \n",
            "  inflating: ck/CK+48/happy/S052_004_00000031.png  \n",
            "  inflating: ck/CK+48/happy/S052_004_00000032.png  \n",
            "  inflating: ck/CK+48/happy/S052_004_00000033.png  \n",
            "  inflating: ck/CK+48/happy/S053_004_00000022.png  \n",
            "  inflating: ck/CK+48/happy/S053_004_00000023.png  \n",
            "  inflating: ck/CK+48/happy/S053_004_00000024.png  \n",
            "  inflating: ck/CK+48/happy/S055_005_00000043.png  \n",
            "  inflating: ck/CK+48/happy/S055_005_00000044.png  \n",
            "  inflating: ck/CK+48/happy/S055_005_00000045.png  \n",
            "  inflating: ck/CK+48/happy/S056_004_00000018.png  \n",
            "  inflating: ck/CK+48/happy/S056_004_00000019.png  \n",
            "  inflating: ck/CK+48/happy/S056_004_00000020.png  \n",
            "  inflating: ck/CK+48/happy/S057_006_00000031.png  \n",
            "  inflating: ck/CK+48/happy/S057_006_00000032.png  \n",
            "  inflating: ck/CK+48/happy/S057_006_00000033.png  \n",
            "  inflating: ck/CK+48/happy/S060_002_00000024.png  \n",
            "  inflating: ck/CK+48/happy/S060_002_00000025.png  \n",
            "  inflating: ck/CK+48/happy/S060_002_00000026.png  \n",
            "  inflating: ck/CK+48/happy/S061_002_00000013.png  \n",
            "  inflating: ck/CK+48/happy/S061_002_00000014.png  \n",
            "  inflating: ck/CK+48/happy/S061_002_00000015.png  \n",
            "  inflating: ck/CK+48/happy/S062_004_00000022.png  \n",
            "  inflating: ck/CK+48/happy/S062_004_00000023.png  \n",
            "  inflating: ck/CK+48/happy/S062_004_00000024.png  \n",
            "  inflating: ck/CK+48/happy/S063_002_00000021.png  \n",
            "  inflating: ck/CK+48/happy/S063_002_00000022.png  \n",
            "  inflating: ck/CK+48/happy/S063_002_00000023.png  \n",
            "  inflating: ck/CK+48/happy/S064_003_00000023.png  \n",
            "  inflating: ck/CK+48/happy/S064_003_00000024.png  \n",
            "  inflating: ck/CK+48/happy/S064_003_00000025.png  \n",
            "  inflating: ck/CK+48/happy/S065_004_00000026.png  \n",
            "  inflating: ck/CK+48/happy/S065_004_00000027.png  \n",
            "  inflating: ck/CK+48/happy/S065_004_00000028.png  \n",
            "  inflating: ck/CK+48/happy/S066_003_00000010.png  \n",
            "  inflating: ck/CK+48/happy/S066_003_00000011.png  \n",
            "  inflating: ck/CK+48/happy/S066_003_00000012.png  \n",
            "  inflating: ck/CK+48/happy/S067_005_00000020.png  \n",
            "  inflating: ck/CK+48/happy/S067_005_00000021.png  \n",
            "  inflating: ck/CK+48/happy/S067_005_00000022.png  \n",
            "  inflating: ck/CK+48/happy/S068_002_00000013.png  \n",
            "  inflating: ck/CK+48/happy/S068_002_00000014.png  \n",
            "  inflating: ck/CK+48/happy/S068_002_00000015.png  \n",
            "  inflating: ck/CK+48/happy/S069_004_00000015.png  \n",
            "  inflating: ck/CK+48/happy/S069_004_00000016.png  \n",
            "  inflating: ck/CK+48/happy/S069_004_00000017.png  \n",
            "  inflating: ck/CK+48/happy/S070_003_00000015.png  \n",
            "  inflating: ck/CK+48/happy/S070_003_00000016.png  \n",
            "  inflating: ck/CK+48/happy/S070_003_00000017.png  \n",
            "  inflating: ck/CK+48/happy/S071_005_00000019.png  \n",
            "  inflating: ck/CK+48/happy/S071_005_00000020.png  \n",
            "  inflating: ck/CK+48/happy/S071_005_00000021.png  \n",
            "  inflating: ck/CK+48/happy/S072_006_00000020.png  \n",
            "  inflating: ck/CK+48/happy/S072_006_00000021.png  \n",
            "  inflating: ck/CK+48/happy/S072_006_00000022.png  \n",
            "  inflating: ck/CK+48/happy/S074_005_00000041.png  \n",
            "  inflating: ck/CK+48/happy/S074_005_00000042.png  \n",
            "  inflating: ck/CK+48/happy/S074_005_00000043.png  \n",
            "  inflating: ck/CK+48/happy/S075_006_00000023.png  \n",
            "  inflating: ck/CK+48/happy/S075_006_00000024.png  \n",
            "  inflating: ck/CK+48/happy/S075_006_00000025.png  \n",
            "  inflating: ck/CK+48/happy/S076_006_00000017.png  \n",
            "  inflating: ck/CK+48/happy/S076_006_00000018.png  \n",
            "  inflating: ck/CK+48/happy/S076_006_00000019.png  \n",
            "  inflating: ck/CK+48/happy/S078_004_00000025.png  \n",
            "  inflating: ck/CK+48/happy/S078_004_00000026.png  \n",
            "  inflating: ck/CK+48/happy/S078_004_00000027.png  \n",
            "  inflating: ck/CK+48/happy/S079_004_00000024.png  \n",
            "  inflating: ck/CK+48/happy/S079_004_00000025.png  \n",
            "  inflating: ck/CK+48/happy/S079_004_00000026.png  \n",
            "  inflating: ck/CK+48/happy/S083_003_00000017.png  \n",
            "  inflating: ck/CK+48/happy/S083_003_00000018.png  \n",
            "  inflating: ck/CK+48/happy/S083_003_00000019.png  \n",
            "  inflating: ck/CK+48/happy/S085_002_00000012.png  \n",
            "  inflating: ck/CK+48/happy/S085_002_00000013.png  \n",
            "  inflating: ck/CK+48/happy/S085_002_00000014.png  \n",
            "  inflating: ck/CK+48/happy/S086_002_00000013.png  \n",
            "  inflating: ck/CK+48/happy/S086_002_00000014.png  \n",
            "  inflating: ck/CK+48/happy/S086_002_00000015.png  \n",
            "  inflating: ck/CK+48/happy/S087_005_00000010.png  \n",
            "  inflating: ck/CK+48/happy/S087_005_00000011.png  \n",
            "  inflating: ck/CK+48/happy/S087_005_00000012.png  \n",
            "  inflating: ck/CK+48/happy/S089_002_00000019.png  \n",
            "  inflating: ck/CK+48/happy/S089_002_00000020.png  \n",
            "  inflating: ck/CK+48/happy/S089_002_00000021.png  \n",
            "  inflating: ck/CK+48/happy/S091_003_00000019.png  \n",
            "  inflating: ck/CK+48/happy/S091_003_00000020.png  \n",
            "  inflating: ck/CK+48/happy/S091_003_00000021.png  \n",
            "  inflating: ck/CK+48/happy/S092_004_00000022.png  \n",
            "  inflating: ck/CK+48/happy/S092_004_00000023.png  \n",
            "  inflating: ck/CK+48/happy/S092_004_00000024.png  \n",
            "  inflating: ck/CK+48/happy/S093_004_00000014.png  \n",
            "  inflating: ck/CK+48/happy/S093_004_00000015.png  \n",
            "  inflating: ck/CK+48/happy/S093_004_00000016.png  \n",
            "  inflating: ck/CK+48/happy/S094_004_00000010.png  \n",
            "  inflating: ck/CK+48/happy/S094_004_00000011.png  \n",
            "  inflating: ck/CK+48/happy/S094_004_00000012.png  \n",
            "  inflating: ck/CK+48/happy/S095_007_00000019.png  \n",
            "  inflating: ck/CK+48/happy/S095_007_00000020.png  \n",
            "  inflating: ck/CK+48/happy/S095_007_00000021.png  \n",
            "  inflating: ck/CK+48/happy/S096_004_00000009.png  \n",
            "  inflating: ck/CK+48/happy/S096_004_00000010.png  \n",
            "  inflating: ck/CK+48/happy/S096_004_00000011.png  \n",
            "  inflating: ck/CK+48/happy/S097_006_00000017.png  \n",
            "  inflating: ck/CK+48/happy/S097_006_00000018.png  \n",
            "  inflating: ck/CK+48/happy/S097_006_00000019.png  \n",
            "  inflating: ck/CK+48/happy/S098_004_00000013.png  \n",
            "  inflating: ck/CK+48/happy/S098_004_00000014.png  \n",
            "  inflating: ck/CK+48/happy/S098_004_00000015.png  \n",
            "  inflating: ck/CK+48/happy/S099_004_00000013.png  \n",
            "  inflating: ck/CK+48/happy/S099_004_00000014.png  \n",
            "  inflating: ck/CK+48/happy/S099_004_00000015.png  \n",
            "  inflating: ck/CK+48/happy/S100_006_00000014.png  \n",
            "  inflating: ck/CK+48/happy/S100_006_00000015.png  \n",
            "  inflating: ck/CK+48/happy/S100_006_00000016.png  \n",
            "  inflating: ck/CK+48/happy/S106_006_00000009.png  \n",
            "  inflating: ck/CK+48/happy/S106_006_00000010.png  \n",
            "  inflating: ck/CK+48/happy/S106_006_00000011.png  \n",
            "  inflating: ck/CK+48/happy/S108_008_00000011.png  \n",
            "  inflating: ck/CK+48/happy/S108_008_00000012.png  \n",
            "  inflating: ck/CK+48/happy/S108_008_00000013.png  \n",
            "  inflating: ck/CK+48/happy/S109_006_00000013.png  \n",
            "  inflating: ck/CK+48/happy/S109_006_00000014.png  \n",
            "  inflating: ck/CK+48/happy/S109_006_00000015.png  \n",
            "  inflating: ck/CK+48/happy/S114_006_00000021.png  \n",
            "  inflating: ck/CK+48/happy/S114_006_00000022.png  \n",
            "  inflating: ck/CK+48/happy/S114_006_00000023.png  \n",
            "  inflating: ck/CK+48/happy/S115_008_00000015.png  \n",
            "  inflating: ck/CK+48/happy/S115_008_00000016.png  \n",
            "  inflating: ck/CK+48/happy/S115_008_00000017.png  \n",
            "  inflating: ck/CK+48/happy/S116_007_00000015.png  \n",
            "  inflating: ck/CK+48/happy/S116_007_00000016.png  \n",
            "  inflating: ck/CK+48/happy/S116_007_00000017.png  \n",
            "  inflating: ck/CK+48/happy/S124_007_00000022.png  \n",
            "  inflating: ck/CK+48/happy/S124_007_00000023.png  \n",
            "  inflating: ck/CK+48/happy/S124_007_00000024.png  \n",
            "  inflating: ck/CK+48/happy/S125_005_00000011.png  \n",
            "  inflating: ck/CK+48/happy/S125_005_00000012.png  \n",
            "  inflating: ck/CK+48/happy/S125_005_00000013.png  \n",
            "  inflating: ck/CK+48/happy/S127_004_00000014.png  \n",
            "  inflating: ck/CK+48/happy/S127_004_00000015.png  \n",
            "  inflating: ck/CK+48/happy/S127_004_00000016.png  \n",
            "  inflating: ck/CK+48/happy/S128_011_00000014.png  \n",
            "  inflating: ck/CK+48/happy/S128_011_00000015.png  \n",
            "  inflating: ck/CK+48/happy/S128_011_00000016.png  \n",
            "  inflating: ck/CK+48/happy/S129_012_00000009.png  \n",
            "  inflating: ck/CK+48/happy/S129_012_00000010.png  \n",
            "  inflating: ck/CK+48/happy/S129_012_00000011.png  \n",
            "  inflating: ck/CK+48/happy/S130_013_00000013.png  \n",
            "  inflating: ck/CK+48/happy/S130_013_00000014.png  \n",
            "  inflating: ck/CK+48/happy/S130_013_00000015.png  \n",
            "  inflating: ck/CK+48/happy/S131_006_00000020.png  \n",
            "  inflating: ck/CK+48/happy/S131_006_00000021.png  \n",
            "  inflating: ck/CK+48/happy/S131_006_00000022.png  \n",
            "  inflating: ck/CK+48/happy/S132_006_00000021.png  \n",
            "  inflating: ck/CK+48/happy/S132_006_00000022.png  \n",
            "  inflating: ck/CK+48/happy/S132_006_00000023.png  \n",
            "  inflating: ck/CK+48/happy/S133_010_00000012.png  \n",
            "  inflating: ck/CK+48/happy/S133_010_00000013.png  \n",
            "  inflating: ck/CK+48/happy/S133_010_00000014.png  \n",
            "  inflating: ck/CK+48/happy/S134_004_00000013.png  \n",
            "  inflating: ck/CK+48/happy/S134_004_00000014.png  \n",
            "  inflating: ck/CK+48/happy/S134_004_00000015.png  \n",
            "  inflating: ck/CK+48/happy/S135_012_00000018.png  \n",
            "  inflating: ck/CK+48/happy/S135_012_00000019.png  \n",
            "  inflating: ck/CK+48/happy/S135_012_00000020.png  \n",
            "  inflating: ck/CK+48/happy/S136_006_00000018.png  \n",
            "  inflating: ck/CK+48/happy/S136_006_00000019.png  \n",
            "  inflating: ck/CK+48/happy/S136_006_00000020.png  \n",
            "  inflating: ck/CK+48/happy/S137_011_00000018.png  \n",
            "  inflating: ck/CK+48/happy/S137_011_00000019.png  \n",
            "  inflating: ck/CK+48/happy/S137_011_00000020.png  \n",
            "  inflating: ck/CK+48/happy/S138_005_00000014.png  \n",
            "  inflating: ck/CK+48/happy/S138_005_00000015.png  \n",
            "  inflating: ck/CK+48/happy/S138_005_00000016.png  \n",
            "  inflating: ck/CK+48/sadness/S011_002_00000020.png  \n",
            "  inflating: ck/CK+48/sadness/S011_002_00000021.png  \n",
            "  inflating: ck/CK+48/sadness/S011_002_00000022.png  \n",
            "  inflating: ck/CK+48/sadness/S014_002_00000014.png  \n",
            "  inflating: ck/CK+48/sadness/S014_002_00000015.png  \n",
            "  inflating: ck/CK+48/sadness/S014_002_00000016.png  \n",
            "  inflating: ck/CK+48/sadness/S026_002_00000014.png  \n",
            "  inflating: ck/CK+48/sadness/S026_002_00000015.png  \n",
            "  inflating: ck/CK+48/sadness/S026_002_00000016.png  \n",
            "  inflating: ck/CK+48/sadness/S042_002_00000014.png  \n",
            "  inflating: ck/CK+48/sadness/S042_002_00000015.png  \n",
            "  inflating: ck/CK+48/sadness/S042_002_00000016.png  \n",
            "  inflating: ck/CK+48/sadness/S046_001_00000023.png  \n",
            "  inflating: ck/CK+48/sadness/S046_001_00000024.png  \n",
            "  inflating: ck/CK+48/sadness/S046_001_00000025.png  \n",
            "  inflating: ck/CK+48/sadness/S064_004_00000012.png  \n",
            "  inflating: ck/CK+48/sadness/S064_004_00000013.png  \n",
            "  inflating: ck/CK+48/sadness/S064_004_00000014.png  \n",
            "  inflating: ck/CK+48/sadness/S066_004_00000008.png  \n",
            "  inflating: ck/CK+48/sadness/S066_004_00000009.png  \n",
            "  inflating: ck/CK+48/sadness/S066_004_00000010.png  \n",
            "  inflating: ck/CK+48/sadness/S071_002_00000018.png  \n",
            "  inflating: ck/CK+48/sadness/S071_002_00000019.png  \n",
            "  inflating: ck/CK+48/sadness/S071_002_00000020.png  \n",
            "  inflating: ck/CK+48/sadness/S080_005_00000011.png  \n",
            "  inflating: ck/CK+48/sadness/S080_005_00000012.png  \n",
            "  inflating: ck/CK+48/sadness/S080_005_00000013.png  \n",
            "  inflating: ck/CK+48/sadness/S081_002_00000022.png  \n",
            "  inflating: ck/CK+48/sadness/S081_002_00000023.png  \n",
            "  inflating: ck/CK+48/sadness/S081_002_00000024.png  \n",
            "  inflating: ck/CK+48/sadness/S093_001_00000018.png  \n",
            "  inflating: ck/CK+48/sadness/S093_001_00000019.png  \n",
            "  inflating: ck/CK+48/sadness/S093_001_00000020.png  \n",
            "  inflating: ck/CK+48/sadness/S095_010_00000012.png  \n",
            "  inflating: ck/CK+48/sadness/S095_010_00000013.png  \n",
            "  inflating: ck/CK+48/sadness/S095_010_00000014.png  \n",
            "  inflating: ck/CK+48/sadness/S106_002_00000014.png  \n",
            "  inflating: ck/CK+48/sadness/S106_002_00000015.png  \n",
            "  inflating: ck/CK+48/sadness/S106_002_00000016.png  \n",
            "  inflating: ck/CK+48/sadness/S108_005_00000020.png  \n",
            "  inflating: ck/CK+48/sadness/S108_005_00000021.png  \n",
            "  inflating: ck/CK+48/sadness/S108_005_00000022.png  \n",
            "  inflating: ck/CK+48/sadness/S113_003_00000013.png  \n",
            "  inflating: ck/CK+48/sadness/S113_003_00000014.png  \n",
            "  inflating: ck/CK+48/sadness/S113_003_00000015.png  \n",
            "  inflating: ck/CK+48/sadness/S115_004_00000015.png  \n",
            "  inflating: ck/CK+48/sadness/S115_004_00000016.png  \n",
            "  inflating: ck/CK+48/sadness/S115_004_00000017.png  \n",
            "  inflating: ck/CK+48/sadness/S125_001_00000012.png  \n",
            "  inflating: ck/CK+48/sadness/S125_001_00000013.png  \n",
            "  inflating: ck/CK+48/sadness/S125_001_00000014.png  \n",
            "  inflating: ck/CK+48/sadness/S130_009_00000017.png  \n",
            "  inflating: ck/CK+48/sadness/S130_009_00000018.png  \n",
            "  inflating: ck/CK+48/sadness/S130_009_00000019.png  \n",
            "  inflating: ck/CK+48/sadness/S131_003_00000022.png  \n",
            "  inflating: ck/CK+48/sadness/S131_003_00000023.png  \n",
            "  inflating: ck/CK+48/sadness/S131_003_00000024.png  \n",
            "  inflating: ck/CK+48/sadness/S132_002_00000016.png  \n",
            "  inflating: ck/CK+48/sadness/S132_002_00000017.png  \n",
            "  inflating: ck/CK+48/sadness/S132_002_00000018.png  \n",
            "  inflating: ck/CK+48/sadness/S136_003_00000012.png  \n",
            "  inflating: ck/CK+48/sadness/S136_003_00000013.png  \n",
            "  inflating: ck/CK+48/sadness/S136_003_00000014.png  \n",
            "  inflating: ck/CK+48/sadness/S137_005_00000025.png  \n",
            "  inflating: ck/CK+48/sadness/S137_005_00000026.png  \n",
            "  inflating: ck/CK+48/sadness/S137_005_00000027.png  \n",
            "  inflating: ck/CK+48/sadness/S138_007_00000009.png  \n",
            "  inflating: ck/CK+48/sadness/S138_007_00000010.png  \n",
            "  inflating: ck/CK+48/sadness/S138_007_00000011.png  \n",
            "  inflating: ck/CK+48/sadness/S501_006_00000039.png  \n",
            "  inflating: ck/CK+48/sadness/S501_006_00000040.png  \n",
            "  inflating: ck/CK+48/sadness/S501_006_00000041.png  \n",
            "  inflating: ck/CK+48/sadness/S503_006_00000018.png  \n",
            "  inflating: ck/CK+48/sadness/S503_006_00000019.png  \n",
            "  inflating: ck/CK+48/sadness/S503_006_00000020.png  \n",
            "  inflating: ck/CK+48/sadness/S504_006_00000016.png  \n",
            "  inflating: ck/CK+48/sadness/S504_006_00000017.png  \n",
            "  inflating: ck/CK+48/sadness/S504_006_00000018.png  \n",
            "  inflating: ck/CK+48/sadness/S505_006_00000017.png  \n",
            "  inflating: ck/CK+48/sadness/S505_006_00000018.png  \n",
            "  inflating: ck/CK+48/sadness/S505_006_00000019.png  \n",
            "  inflating: ck/CK+48/sadness/S506_006_00000040.png  \n",
            "  inflating: ck/CK+48/sadness/S506_006_00000041.png  \n",
            "  inflating: ck/CK+48/sadness/S506_006_00000042.png  \n",
            "  inflating: ck/CK+48/surprise/S010_002_00000012.png  \n",
            "  inflating: ck/CK+48/surprise/S010_002_00000013.png  \n",
            "  inflating: ck/CK+48/surprise/S010_002_00000014.png  \n",
            "  inflating: ck/CK+48/surprise/S011_001_00000014.png  \n",
            "  inflating: ck/CK+48/surprise/S011_001_00000015.png  \n",
            "  inflating: ck/CK+48/surprise/S011_001_00000016.png  \n",
            "  inflating: ck/CK+48/surprise/S014_001_00000027.png  \n",
            "  inflating: ck/CK+48/surprise/S014_001_00000028.png  \n",
            "  inflating: ck/CK+48/surprise/S014_001_00000029.png  \n",
            "  inflating: ck/CK+48/surprise/S022_001_00000028.png  \n",
            "  inflating: ck/CK+48/surprise/S022_001_00000029.png  \n",
            "  inflating: ck/CK+48/surprise/S022_001_00000030.png  \n",
            "  inflating: ck/CK+48/surprise/S026_001_00000013.png  \n",
            "  inflating: ck/CK+48/surprise/S026_001_00000014.png  \n",
            "  inflating: ck/CK+48/surprise/S026_001_00000015.png  \n",
            "  inflating: ck/CK+48/surprise/S032_001_00000020.png  \n",
            "  inflating: ck/CK+48/surprise/S032_001_00000021.png  \n",
            "  inflating: ck/CK+48/surprise/S032_001_00000022.png  \n",
            "  inflating: ck/CK+48/surprise/S034_001_00000027.png  \n",
            "  inflating: ck/CK+48/surprise/S034_001_00000028.png  \n",
            "  inflating: ck/CK+48/surprise/S034_001_00000029.png  \n",
            "  inflating: ck/CK+48/surprise/S035_001_00000013.png  \n",
            "  inflating: ck/CK+48/surprise/S035_001_00000014.png  \n",
            "  inflating: ck/CK+48/surprise/S035_001_00000015.png  \n",
            "  inflating: ck/CK+48/surprise/S037_001_00000018.png  \n",
            "  inflating: ck/CK+48/surprise/S037_001_00000019.png  \n",
            "  inflating: ck/CK+48/surprise/S037_001_00000020.png  \n",
            "  inflating: ck/CK+48/surprise/S042_001_00000017.png  \n",
            "  inflating: ck/CK+48/surprise/S042_001_00000018.png  \n",
            "  inflating: ck/CK+48/surprise/S042_001_00000019.png  \n",
            "  inflating: ck/CK+48/surprise/S044_001_00000022.png  \n",
            "  inflating: ck/CK+48/surprise/S044_001_00000023.png  \n",
            "  inflating: ck/CK+48/surprise/S044_001_00000024.png  \n",
            "  inflating: ck/CK+48/surprise/S046_002_00000004.png  \n",
            "  inflating: ck/CK+48/surprise/S046_002_00000005.png  \n",
            "  inflating: ck/CK+48/surprise/S046_002_00000006.png  \n",
            "  inflating: ck/CK+48/surprise/S050_002_00000016.png  \n",
            "  inflating: ck/CK+48/surprise/S050_002_00000017.png  \n",
            "  inflating: ck/CK+48/surprise/S050_002_00000018.png  \n",
            "  inflating: ck/CK+48/surprise/S051_002_00000017.png  \n",
            "  inflating: ck/CK+48/surprise/S051_002_00000018.png  \n",
            "  inflating: ck/CK+48/surprise/S051_002_00000019.png  \n",
            "  inflating: ck/CK+48/surprise/S052_001_00000013.png  \n",
            "  inflating: ck/CK+48/surprise/S052_001_00000014.png  \n",
            "  inflating: ck/CK+48/surprise/S052_001_00000015.png  \n",
            "  inflating: ck/CK+48/surprise/S053_001_00000021.png  \n",
            "  inflating: ck/CK+48/surprise/S053_001_00000022.png  \n",
            "  inflating: ck/CK+48/surprise/S053_001_00000023.png  \n",
            "  inflating: ck/CK+48/surprise/S054_003_00000005.png  \n",
            "  inflating: ck/CK+48/surprise/S054_003_00000006.png  \n",
            "  inflating: ck/CK+48/surprise/S054_003_00000007.png  \n",
            "  inflating: ck/CK+48/surprise/S055_001_00000010.png  \n",
            "  inflating: ck/CK+48/surprise/S055_001_00000011.png  \n",
            "  inflating: ck/CK+48/surprise/S055_001_00000012.png  \n",
            "  inflating: ck/CK+48/surprise/S056_003_00000008.png  \n",
            "  inflating: ck/CK+48/surprise/S056_003_00000009.png  \n",
            "  inflating: ck/CK+48/surprise/S056_003_00000010.png  \n",
            "  inflating: ck/CK+48/surprise/S057_001_00000017.png  \n",
            "  inflating: ck/CK+48/surprise/S057_001_00000018.png  \n",
            "  inflating: ck/CK+48/surprise/S057_001_00000019.png  \n",
            "  inflating: ck/CK+48/surprise/S058_001_00000018.png  \n",
            "  inflating: ck/CK+48/surprise/S058_001_00000019.png  \n",
            "  inflating: ck/CK+48/surprise/S058_001_00000020.png  \n",
            "  inflating: ck/CK+48/surprise/S059_001_00000016.png  \n",
            "  inflating: ck/CK+48/surprise/S059_001_00000017.png  \n",
            "  inflating: ck/CK+48/surprise/S059_001_00000018.png  \n",
            "  inflating: ck/CK+48/surprise/S060_003_00000016.png  \n",
            "  inflating: ck/CK+48/surprise/S060_003_00000017.png  \n",
            "  inflating: ck/CK+48/surprise/S060_003_00000018.png  \n",
            "  inflating: ck/CK+48/surprise/S061_001_00000010.png  \n",
            "  inflating: ck/CK+48/surprise/S061_001_00000011.png  \n",
            "  inflating: ck/CK+48/surprise/S061_001_00000012.png  \n",
            "  inflating: ck/CK+48/surprise/S062_002_00000014.png  \n",
            "  inflating: ck/CK+48/surprise/S062_002_00000015.png  \n",
            "  inflating: ck/CK+48/surprise/S062_002_00000016.png  \n",
            "  inflating: ck/CK+48/surprise/S063_001_00000011.png  \n",
            "  inflating: ck/CK+48/surprise/S063_001_00000012.png  \n",
            "  inflating: ck/CK+48/surprise/S063_001_00000013.png  \n",
            "  inflating: ck/CK+48/surprise/S064_001_00000010.png  \n",
            "  inflating: ck/CK+48/surprise/S064_001_00000011.png  \n",
            "  inflating: ck/CK+48/surprise/S064_001_00000012.png  \n",
            "  inflating: ck/CK+48/surprise/S065_003_00000020.png  \n",
            "  inflating: ck/CK+48/surprise/S065_003_00000021.png  \n",
            "  inflating: ck/CK+48/surprise/S065_003_00000022.png  \n",
            "  inflating: ck/CK+48/surprise/S066_002_00000020.png  \n",
            "  inflating: ck/CK+48/surprise/S066_002_00000021.png  \n",
            "  inflating: ck/CK+48/surprise/S066_002_00000022.png  \n",
            "  inflating: ck/CK+48/surprise/S067_002_00000012.png  \n",
            "  inflating: ck/CK+48/surprise/S067_002_00000013.png  \n",
            "  inflating: ck/CK+48/surprise/S067_002_00000014.png  \n",
            "  inflating: ck/CK+48/surprise/S068_003_00000012.png  \n",
            "  inflating: ck/CK+48/surprise/S068_003_00000013.png  \n",
            "  inflating: ck/CK+48/surprise/S068_003_00000014.png  \n",
            "  inflating: ck/CK+48/surprise/S069_002_00000012.png  \n",
            "  inflating: ck/CK+48/surprise/S069_002_00000013.png  \n",
            "  inflating: ck/CK+48/surprise/S069_002_00000014.png  \n",
            "  inflating: ck/CK+48/surprise/S070_002_00000014.png  \n",
            "  inflating: ck/CK+48/surprise/S070_002_00000015.png  \n",
            "  inflating: ck/CK+48/surprise/S070_002_00000016.png  \n",
            "  inflating: ck/CK+48/surprise/S071_001_00000011.png  \n",
            "  inflating: ck/CK+48/surprise/S071_001_00000012.png  \n",
            "  inflating: ck/CK+48/surprise/S071_001_00000013.png  \n",
            "  inflating: ck/CK+48/surprise/S073_001_00000011.png  \n",
            "  inflating: ck/CK+48/surprise/S073_001_00000012.png  \n",
            "  inflating: ck/CK+48/surprise/S073_001_00000013.png  \n",
            "  inflating: ck/CK+48/surprise/S074_002_00000014.png  \n",
            "  inflating: ck/CK+48/surprise/S074_002_00000015.png  \n",
            "  inflating: ck/CK+48/surprise/S074_002_00000016.png  \n",
            "  inflating: ck/CK+48/surprise/S075_002_00000012.png  \n",
            "  inflating: ck/CK+48/surprise/S075_002_00000013.png  \n",
            "  inflating: ck/CK+48/surprise/S075_002_00000014.png  \n",
            "  inflating: ck/CK+48/surprise/S076_001_00000015.png  \n",
            "  inflating: ck/CK+48/surprise/S076_001_00000016.png  \n",
            "  inflating: ck/CK+48/surprise/S076_001_00000017.png  \n",
            "  inflating: ck/CK+48/surprise/S077_001_00000026.png  \n",
            "  inflating: ck/CK+48/surprise/S077_001_00000027.png  \n",
            "  inflating: ck/CK+48/surprise/S077_001_00000028.png  \n",
            "  inflating: ck/CK+48/surprise/S078_001_00000031.png  \n",
            "  inflating: ck/CK+48/surprise/S078_001_00000032.png  \n",
            "  inflating: ck/CK+48/surprise/S078_001_00000033.png  \n",
            "  inflating: ck/CK+48/surprise/S079_001_00000010.png  \n",
            "  inflating: ck/CK+48/surprise/S079_001_00000011.png  \n",
            "  inflating: ck/CK+48/surprise/S079_001_00000012.png  \n",
            "  inflating: ck/CK+48/surprise/S080_001_00000016.png  \n",
            "  inflating: ck/CK+48/surprise/S080_001_00000017.png  \n",
            "  inflating: ck/CK+48/surprise/S080_001_00000018.png  \n",
            "  inflating: ck/CK+48/surprise/S081_001_00000017.png  \n",
            "  inflating: ck/CK+48/surprise/S081_001_00000018.png  \n",
            "  inflating: ck/CK+48/surprise/S081_001_00000019.png  \n",
            "  inflating: ck/CK+48/surprise/S082_001_00000013.png  \n",
            "  inflating: ck/CK+48/surprise/S082_001_00000014.png  \n",
            "  inflating: ck/CK+48/surprise/S082_001_00000015.png  \n",
            "  inflating: ck/CK+48/surprise/S084_001_00000008.png  \n",
            "  inflating: ck/CK+48/surprise/S084_001_00000009.png  \n",
            "  inflating: ck/CK+48/surprise/S084_001_00000010.png  \n",
            "  inflating: ck/CK+48/surprise/S085_003_00000011.png  \n",
            "  inflating: ck/CK+48/surprise/S085_003_00000012.png  \n",
            "  inflating: ck/CK+48/surprise/S085_003_00000013.png  \n",
            "  inflating: ck/CK+48/surprise/S086_001_00000017.png  \n",
            "  inflating: ck/CK+48/surprise/S086_001_00000018.png  \n",
            "  inflating: ck/CK+48/surprise/S086_001_00000019.png  \n",
            "  inflating: ck/CK+48/surprise/S087_001_00000009.png  \n",
            "  inflating: ck/CK+48/surprise/S087_001_00000010.png  \n",
            "  inflating: ck/CK+48/surprise/S087_001_00000011.png  \n",
            "  inflating: ck/CK+48/surprise/S088_001_00000015.png  \n",
            "  inflating: ck/CK+48/surprise/S088_001_00000016.png  \n",
            "  inflating: ck/CK+48/surprise/S088_001_00000017.png  \n",
            "  inflating: ck/CK+48/surprise/S089_001_00000014.png  \n",
            "  inflating: ck/CK+48/surprise/S089_001_00000015.png  \n",
            "  inflating: ck/CK+48/surprise/S089_001_00000016.png  \n",
            "  inflating: ck/CK+48/surprise/S090_002_00000009.png  \n",
            "  inflating: ck/CK+48/surprise/S090_002_00000010.png  \n",
            "  inflating: ck/CK+48/surprise/S090_002_00000011.png  \n",
            "  inflating: ck/CK+48/surprise/S092_001_00000015.png  \n",
            "  inflating: ck/CK+48/surprise/S092_001_00000016.png  \n",
            "  inflating: ck/CK+48/surprise/S092_001_00000017.png  \n",
            "  inflating: ck/CK+48/surprise/S094_001_00000008.png  \n",
            "  inflating: ck/CK+48/surprise/S094_001_00000009.png  \n",
            "  inflating: ck/CK+48/surprise/S094_001_00000010.png  \n",
            "  inflating: ck/CK+48/surprise/S095_001_00000014.png  \n",
            "  inflating: ck/CK+48/surprise/S095_001_00000015.png  \n",
            "  inflating: ck/CK+48/surprise/S095_001_00000016.png  \n",
            "  inflating: ck/CK+48/surprise/S096_001_00000005.png  \n",
            "  inflating: ck/CK+48/surprise/S096_001_00000006.png  \n",
            "  inflating: ck/CK+48/surprise/S096_001_00000007.png  \n",
            "  inflating: ck/CK+48/surprise/S097_001_00000019.png  \n",
            "  inflating: ck/CK+48/surprise/S097_001_00000020.png  \n",
            "  inflating: ck/CK+48/surprise/S097_001_00000021.png  \n",
            "  inflating: ck/CK+48/surprise/S099_001_00000012.png  \n",
            "  inflating: ck/CK+48/surprise/S099_001_00000013.png  \n",
            "  inflating: ck/CK+48/surprise/S099_001_00000014.png  \n",
            "  inflating: ck/CK+48/surprise/S100_002_00000013.png  \n",
            "  inflating: ck/CK+48/surprise/S100_002_00000014.png  \n",
            "  inflating: ck/CK+48/surprise/S100_002_00000015.png  \n",
            "  inflating: ck/CK+48/surprise/S101_002_00000017.png  \n",
            "  inflating: ck/CK+48/surprise/S101_002_00000018.png  \n",
            "  inflating: ck/CK+48/surprise/S101_002_00000019.png  \n",
            "  inflating: ck/CK+48/surprise/S102_002_00000016.png  \n",
            "  inflating: ck/CK+48/surprise/S102_002_00000017.png  \n",
            "  inflating: ck/CK+48/surprise/S102_002_00000018.png  \n",
            "  inflating: ck/CK+48/surprise/S107_001_00000008.png  \n",
            "  inflating: ck/CK+48/surprise/S107_001_00000009.png  \n",
            "  inflating: ck/CK+48/surprise/S107_001_00000010.png  \n",
            "  inflating: ck/CK+48/surprise/S110_001_00000011.png  \n",
            "  inflating: ck/CK+48/surprise/S110_001_00000012.png  \n",
            "  inflating: ck/CK+48/surprise/S110_001_00000013.png  \n",
            "  inflating: ck/CK+48/surprise/S111_001_00000012.png  \n",
            "  inflating: ck/CK+48/surprise/S111_001_00000013.png  \n",
            "  inflating: ck/CK+48/surprise/S111_001_00000014.png  \n",
            "  inflating: ck/CK+48/surprise/S113_001_00000010.png  \n",
            "  inflating: ck/CK+48/surprise/S113_001_00000011.png  \n",
            "  inflating: ck/CK+48/surprise/S113_001_00000012.png  \n",
            "  inflating: ck/CK+48/surprise/S114_001_00000016.png  \n",
            "  inflating: ck/CK+48/surprise/S114_001_00000017.png  \n",
            "  inflating: ck/CK+48/surprise/S114_001_00000018.png  \n",
            "  inflating: ck/CK+48/surprise/S115_001_00000006.png  \n",
            "  inflating: ck/CK+48/surprise/S115_001_00000007.png  \n",
            "  inflating: ck/CK+48/surprise/S115_001_00000008.png  \n",
            "  inflating: ck/CK+48/surprise/S116_001_00000012.png  \n",
            "  inflating: ck/CK+48/surprise/S116_001_00000013.png  \n",
            "  inflating: ck/CK+48/surprise/S116_001_00000014.png  \n",
            "  inflating: ck/CK+48/surprise/S117_001_00000012.png  \n",
            "  inflating: ck/CK+48/surprise/S117_001_00000013.png  \n",
            "  inflating: ck/CK+48/surprise/S117_001_00000014.png  \n",
            "  inflating: ck/CK+48/surprise/S119_001_00000009.png  \n",
            "  inflating: ck/CK+48/surprise/S119_001_00000010.png  \n",
            "  inflating: ck/CK+48/surprise/S119_001_00000011.png  \n",
            "  inflating: ck/CK+48/surprise/S122_001_00000010.png  \n",
            "  inflating: ck/CK+48/surprise/S122_001_00000011.png  \n",
            "  inflating: ck/CK+48/surprise/S122_001_00000012.png  \n",
            "  inflating: ck/CK+48/surprise/S124_001_00000012.png  \n",
            "  inflating: ck/CK+48/surprise/S124_001_00000013.png  \n",
            "  inflating: ck/CK+48/surprise/S124_001_00000014.png  \n",
            "  inflating: ck/CK+48/surprise/S125_007_00000007.png  \n",
            "  inflating: ck/CK+48/surprise/S125_007_00000008.png  \n",
            "  inflating: ck/CK+48/surprise/S125_007_00000009.png  \n",
            "  inflating: ck/CK+48/surprise/S126_004_00000010.png  \n",
            "  inflating: ck/CK+48/surprise/S126_004_00000011.png  \n",
            "  inflating: ck/CK+48/surprise/S126_004_00000012.png  \n",
            "  inflating: ck/CK+48/surprise/S127_001_00000015.png  \n",
            "  inflating: ck/CK+48/surprise/S127_001_00000016.png  \n",
            "  inflating: ck/CK+48/surprise/S127_001_00000017.png  \n",
            "  inflating: ck/CK+48/surprise/S129_002_00000009.png  \n",
            "  inflating: ck/CK+48/surprise/S129_002_00000010.png  \n",
            "  inflating: ck/CK+48/surprise/S129_002_00000011.png  \n",
            "  inflating: ck/CK+48/surprise/S130_001_00000016.png  \n",
            "  inflating: ck/CK+48/surprise/S130_001_00000017.png  \n",
            "  inflating: ck/CK+48/surprise/S130_001_00000018.png  \n",
            "  inflating: ck/CK+48/surprise/S131_001_00000014.png  \n",
            "  inflating: ck/CK+48/surprise/S131_001_00000015.png  \n",
            "  inflating: ck/CK+48/surprise/S131_001_00000016.png  \n",
            "  inflating: ck/CK+48/surprise/S132_008_00000008.png  \n",
            "  inflating: ck/CK+48/surprise/S132_008_00000009.png  \n",
            "  inflating: ck/CK+48/surprise/S132_008_00000010.png  \n",
            "  inflating: ck/CK+48/surprise/S133_009_00000004.png  \n",
            "  inflating: ck/CK+48/surprise/S133_009_00000005.png  \n",
            "  inflating: ck/CK+48/surprise/S133_009_00000006.png  \n",
            "  inflating: ck/CK+48/surprise/S135_001_00000037.png  \n",
            "  inflating: ck/CK+48/surprise/S135_001_00000038.png  \n",
            "  inflating: ck/CK+48/surprise/S135_001_00000039.png  \n",
            "  inflating: ck/CK+48/surprise/S136_001_00000017.png  \n",
            "  inflating: ck/CK+48/surprise/S136_001_00000018.png  \n",
            "  inflating: ck/CK+48/surprise/S136_001_00000019.png  \n",
            "  inflating: ck/CK+48/surprise/S137_001_00000012.png  \n",
            "  inflating: ck/CK+48/surprise/S137_001_00000013.png  \n",
            "  inflating: ck/CK+48/surprise/S137_001_00000014.png  \n",
            "  inflating: ck/CK+48/surprise/S138_004_00000011.png  \n",
            "  inflating: ck/CK+48/surprise/S138_004_00000012.png  \n",
            "  inflating: ck/CK+48/surprise/S138_004_00000013.png  \n"
          ],
          "name": "stdout"
        }
      ]
    },
    {
      "cell_type": "code",
      "metadata": {
        "id": "izuhhWqG13CD"
      },
      "source": [
        "SOURCE = '/content/drive/MyDrive/dataset/CK+48/'"
      ],
      "execution_count": null,
      "outputs": []
    },
    {
      "cell_type": "code",
      "metadata": {
        "colab": {
          "base_uri": "https://localhost:8080/"
        },
        "id": "bmkuyxsJ3bHu",
        "outputId": "934cdc98-02fd-4fe0-9745-e88b4721a269"
      },
      "source": [
        "!unzip -u \"/content/drive/My Drive/archive.zip\" -d \"/content/drive/My Drive/dataset\""
      ],
      "execution_count": null,
      "outputs": [
        {
          "output_type": "stream",
          "text": [
            "Archive:  /content/drive/My Drive/archive.zip\n"
          ],
          "name": "stdout"
        }
      ]
    },
    {
      "cell_type": "code",
      "metadata": {
        "colab": {
          "base_uri": "https://localhost:8080/"
        },
        "id": "X2_EyXtv1_Dw",
        "outputId": "c1e47f42-79ba-4c81-a2c9-64bff4a9d030"
      },
      "source": [
        "import os \n",
        "source=os.listdir(SOURCE)\n",
        "\n",
        "print(len(source))"
      ],
      "execution_count": null,
      "outputs": [
        {
          "output_type": "stream",
          "text": [
            "2\n"
          ],
          "name": "stdout"
        }
      ]
    },
    {
      "cell_type": "code",
      "metadata": {
        "id": "aQ4Qwy28IcR4"
      },
      "source": [
        "import random\n",
        "from shutil import copyfile\n",
        "import tensorflow as tf\n",
        "from tensorflow.keras.preprocessing.image import ImageDataGenerator\n",
        "from scipy import stats"
      ],
      "execution_count": null,
      "outputs": []
    },
    {
      "cell_type": "code",
      "metadata": {
        "id": "FQpa0n3zzlTg"
      },
      "source": [
        "def split_data(SOURCE, TRAINING, TESTING, SPLIT_SIZE):\n",
        "    all_files = []\n",
        "    \n",
        "    for file_name in os.listdir(SOURCE):\n",
        "        file_path = SOURCE + file_name\n",
        "\n",
        "        if os.path.getsize(file_path):\n",
        "            all_files.append(file_name)\n",
        "        else:\n",
        "            print('file is zero length, so ignoring')\n",
        "    \n",
        "    n_files = len(all_files)\n",
        "    training_len = int(n_files * SPLIT_SIZE)\n",
        "    testing_len = int(len(all_files) - training_len)\n",
        "    shuffled = random.sample(all_files, n_files)\n",
        "    \n",
        "    train_set = shuffled[0:training_len]\n",
        "    test_set = shuffled[:testing_len]\n",
        "    \n",
        "    for file_name in train_set:\n",
        "        copyfile(SOURCE + file_name, TRAINING + file_name)\n",
        "        \n",
        "    for file_name in test_set:\n",
        "        copyfile(SOURCE + file_name, TESTING + file_name)\n"
      ],
      "execution_count": null,
      "outputs": []
    },
    {
      "cell_type": "code",
      "metadata": {
        "id": "3_x0ZskeDxcl"
      },
      "source": [
        "split_size=0.8\n",
        "anger_train_dir = '/content/drive/MyDrive/traindataset/anger/'\n",
        "sadness_train_dir = '/content/drive/MyDrive/traindataset/sadness/'\n",
        "disgust_train_dir = '/content/drive/MyDrive/traindataset/disgust/'\n",
        "happy_train_dir = '/content/drive/MyDrive/traindataset/happy/'\n",
        "fear_train_dir = '/content/drive/MyDrive/traindataset/fear/'\n",
        "contempt_train_dir = '/content/drive/MyDrive/traindataset/contempt/'\n",
        "surprise_train_dir = '/content/drive/MyDrive/traindataset/surprise/'\n",
        "\n",
        "anger_test_dir = '/content/drive/MyDrive/testdataset/anger/'\n",
        "sadness_test_dir = '/content/drive/MyDrive/testdataset/sadness/'\n",
        "disgust_test_dir = '/content/drive/MyDrive/testdataset/disgust/'\n",
        "happy_test_dir = '/content/drive/MyDrive/testdataset/happy/'\n",
        "fear_test_dir = '/content/drive/MyDrive/testdataset/fear/'\n",
        "contempt_test_dir = '/content/drive/MyDrive/testdataset/contempt/'\n",
        "surprise_test_dir = '/content/drive/MyDrive/testdataset/surprise/'\n",
        "\n",
        "anger_source_dir = '/content/drive/My Drive/dataset/CK+48/anger/'\n",
        "sadness_source_dir = '/content/drive/My Drive/dataset/CK+48/sadness/'\n",
        "disgust_source_dir = '/content/drive/My Drive/dataset/CK+48/disgust/'\n",
        "happy_source_dir = '/content/drive/My Drive/dataset/CK+48/happy/'\n",
        "fear_source_dir = '/content/drive/My Drive/dataset/CK+48/fear/'\n",
        "contempt_source_dir = '/content/drive/My Drive/dataset/CK+48/contempt/'\n",
        "surprise_source_dir = '/content/drive/My Drive/dataset/CK+48/surprise/'"
      ],
      "execution_count": null,
      "outputs": []
    },
    {
      "cell_type": "code",
      "metadata": {
        "id": "lheg85j6FFli"
      },
      "source": [
        "split_data(anger_source_dir,anger_train_dir,anger_test_dir,split_size)\n",
        "split_data(sadness_source_dir,sadness_train_dir,sadness_test_dir,split_size)\n",
        "split_data(disgust_source_dir,disgust_train_dir,disgust_test_dir,split_size)\n",
        "split_data(happy_source_dir,happy_train_dir,happy_test_dir,split_size)\n",
        "split_data(fear_source_dir,fear_train_dir,fear_test_dir,split_size)\n",
        "split_data(contempt_source_dir,contempt_train_dir,contempt_test_dir,split_size)\n",
        "split_data(surprise_source_dir,surprise_train_dir,surprise_test_dir,split_size)"
      ],
      "execution_count": null,
      "outputs": []
    },
    {
      "cell_type": "code",
      "metadata": {
        "id": "dooXtmLRLB_W"
      },
      "source": [
        "def func1_no_neuron(classes):\n",
        "   model=tf.keras.models.Sequential([\n",
        "   tf.keras.layers.Conv2D(32,(5,5),activation='relu'),\n",
        "   tf.keras.layers.MaxPooling2D((2,2)),\n",
        "   tf.keras.layers.Conv2D(64,(5,5),activation='relu'),\n",
        "   tf.keras.layers.MaxPooling2D((2,2)),\n",
        "\n",
        "   tf.keras.layers.Flatten(),\n",
        "   tf.keras.layers.Dropout(0.5),\n",
        "   tf.keras.layers.Dense(classes,activation='softmax')\n",
        "                                   \n",
        "  ])\n",
        "   return model"
      ],
      "execution_count": null,
      "outputs": []
    },
    {
      "cell_type": "code",
      "metadata": {
        "id": "eLE_CVkNQEd6"
      },
      "source": [
        "def func1_256_neuron(classes):\n",
        "   model=tf.keras.models.Sequential([\n",
        "   tf.keras.layers.Conv2D(32,(5,5),activation='relu'),\n",
        "   tf.keras.layers.MaxPooling2D((2,2)),\n",
        "   tf.keras.layers.Conv2D(64,(5,5),activation='relu'),\n",
        "   tf.keras.layers.MaxPooling2D((2,2)),\n",
        "\n",
        "   tf.keras.layers.Flatten(),\n",
        "   tf.keras.layers.Dense(256, activation = 'relu', name = \"full_connected_1\"),\n",
        "   tf.keras.layers.Dropout(0.5),\n",
        "   tf.keras.layers.Dense(classes,activation='softmax')\n",
        "                                   \n",
        "  ])\n",
        "   return model"
      ],
      "execution_count": null,
      "outputs": []
    },
    {
      "cell_type": "code",
      "metadata": {
        "id": "bgkZxW85QNT5"
      },
      "source": [
        "def func1_512_neuron(classes):\n",
        "   model=tf.keras.models.Sequential([\n",
        "   tf.keras.layers.Conv2D(32,(5,5),activation='relu'),\n",
        "   tf.keras.layers.MaxPooling2D((2,2)),\n",
        "   tf.keras.layers.Conv2D(64,(5,5),activation='relu'),\n",
        "   tf.keras.layers.MaxPooling2D((2,2)),\n",
        "\n",
        "   tf.keras.layers.Flatten(),\n",
        "   tf.keras.layers.Dense(512, activation = 'relu', name = \"full_connected_1\"),\n",
        "   tf.keras.layers.Dropout(0.5),\n",
        "   tf.keras.layers.Dense(classes,activation='softmax')\n",
        "                                   \n",
        "  ])\n",
        "   return model"
      ],
      "execution_count": null,
      "outputs": []
    },
    {
      "cell_type": "code",
      "metadata": {
        "id": "mUMfyZTUQRYM"
      },
      "source": [
        "def func1_1024_neuron(classes):\n",
        "   model=tf.keras.models.Sequential([\n",
        "   tf.keras.layers.Conv2D(32,(5,5),activation='relu',input_shape=(100,100,1)),\n",
        "   tf.keras.layers.MaxPooling2D((2,2)),\n",
        "   tf.keras.layers.Conv2D(64,(5,5),activation='relu'),\n",
        "   tf.keras.layers.MaxPooling2D((2,2)),\n",
        "\n",
        "   tf.keras.layers.Flatten(),\n",
        "   tf.keras.layers.Dense(1024, activation = 'relu', name = \"full_connected_1\"),\n",
        "   tf.keras.layers.Dropout(0.5),\n",
        "   tf.keras.layers.Dense(classes,activation='softmax')\n",
        "                                   \n",
        "  ])\n",
        "   return model"
      ],
      "execution_count": null,
      "outputs": []
    },
    {
      "cell_type": "code",
      "metadata": {
        "id": "l5_0EZmoQxfF"
      },
      "source": [
        "model= func1_256_neuron(7)\n",
        "model.compile(optimizer='adam', loss='categorical_crossentropy', metrics=['accuracy'])\n"
      ],
      "execution_count": null,
      "outputs": []
    },
    {
      "cell_type": "code",
      "metadata": {
        "id": "_eNrd_kWxnzC"
      },
      "source": [
        "model1= func1_no_neuron(7)\n",
        "model1.compile(optimizer='adam', loss='categorical_crossentropy', metrics=['accuracy'])"
      ],
      "execution_count": null,
      "outputs": []
    },
    {
      "cell_type": "code",
      "metadata": {
        "id": "qdAw4fsZxtyY"
      },
      "source": [
        "model2= func1_512_neuron(7)\n",
        "model2.compile(optimizer='adam', loss='categorical_crossentropy', metrics=['accuracy'])"
      ],
      "execution_count": null,
      "outputs": []
    },
    {
      "cell_type": "code",
      "metadata": {
        "id": "koc5cKr4xuWe"
      },
      "source": [
        "model3= func1_1024_neuron(7)\n",
        "model3.compile(optimizer='adam', loss='categorical_crossentropy', metrics=['accuracy'])"
      ],
      "execution_count": null,
      "outputs": []
    },
    {
      "cell_type": "code",
      "metadata": {
        "colab": {
          "base_uri": "https://localhost:8080/"
        },
        "id": "bSOXAZgzTE5L",
        "outputId": "6cd18586-6173-4897-eb1b-1a6d5192d515"
      },
      "source": [
        "TRAINING_DIR = \"/content/drive/MyDrive/traindataset\"\n",
        "train_datagen = ImageDataGenerator(rescale=int(1/255),\n",
        "      horizontal_flip=True,\n",
        "      rotation_range=2,   \n",
        "                         \n",
        "      preprocessing_function=ppreprocessing\n",
        "      )\n",
        "train_generator = train_datagen.flow_from_directory(TRAINING_DIR,\n",
        "                                                    batch_size=50,\n",
        "                                                    class_mode='categorical',\n",
        "                                                    target_size=(100,100),\n",
        "                                                    shuffle=True,\n",
        "                                                    \n",
        "                                                    color_mode='grayscale')\n",
        "\n",
        "VALIDATION_DIR = \"/content/drive/MyDrive/testdataset\"\n",
        "validation_datagen = ImageDataGenerator(\n",
        "    rescale=int(1/255),\n",
        "      horizontal_flip=True,\n",
        "      rotation_range=2,\n",
        "      \n",
        "      preprocessing_function=ppreprocessing\n",
        "      )\n",
        "validation_generator = validation_datagen.flow_from_directory(VALIDATION_DIR,\n",
        "                                                              batch_size=50,\n",
        "                                                             \n",
        "                                                              class_mode='categorical',\n",
        "                                                              target_size=(100,100),\n",
        "                                                              shuffle=True,\n",
        "                                                    color_mode='grayscale')"
      ],
      "execution_count": null,
      "outputs": [
        {
          "output_type": "stream",
          "text": [
            "Found 807 images belonging to 7 classes.\n",
            "Found 219 images belonging to 7 classes.\n"
          ],
          "name": "stdout"
        }
      ]
    },
    {
      "cell_type": "code",
      "metadata": {
        "colab": {
          "base_uri": "https://localhost:8080/"
        },
        "id": "tiDiuKoYx6lp",
        "outputId": "1fea8921-82bc-4d3f-d5fb-5bc17d560964"
      },
      "source": [
        "history3 = model3.fit(train_generator,epochs=10,batch_size=50,shuffle=True,validation_data=validation_generator)"
      ],
      "execution_count": null,
      "outputs": [
        {
          "output_type": "stream",
          "text": [
            "Epoch 1/10\n",
            "17/17 [==============================] - 19s 1s/step - loss: 128.3073 - accuracy: 0.3779 - val_loss: 0.9623 - val_accuracy: 0.6804\n",
            "Epoch 2/10\n",
            "17/17 [==============================] - 18s 1s/step - loss: 0.8219 - accuracy: 0.7261 - val_loss: 0.5712 - val_accuracy: 0.8219\n",
            "Epoch 3/10\n",
            "17/17 [==============================] - 18s 1s/step - loss: 0.6064 - accuracy: 0.8042 - val_loss: 0.3337 - val_accuracy: 0.9041\n",
            "Epoch 4/10\n",
            "17/17 [==============================] - 18s 1s/step - loss: 0.4197 - accuracy: 0.8575 - val_loss: 0.2439 - val_accuracy: 0.9269\n",
            "Epoch 5/10\n",
            "17/17 [==============================] - 18s 1s/step - loss: 0.3719 - accuracy: 0.8786 - val_loss: 0.1228 - val_accuracy: 0.9498\n",
            "Epoch 6/10\n",
            "17/17 [==============================] - 18s 1s/step - loss: 0.2426 - accuracy: 0.9145 - val_loss: 0.1530 - val_accuracy: 0.9406\n",
            "Epoch 7/10\n",
            "17/17 [==============================] - 18s 1s/step - loss: 0.2171 - accuracy: 0.9219 - val_loss: 0.1292 - val_accuracy: 0.9589\n",
            "Epoch 8/10\n",
            "17/17 [==============================] - 18s 1s/step - loss: 0.1419 - accuracy: 0.9492 - val_loss: 0.0912 - val_accuracy: 0.9635\n",
            "Epoch 9/10\n",
            "17/17 [==============================] - 18s 1s/step - loss: 0.0910 - accuracy: 0.9665 - val_loss: 0.0393 - val_accuracy: 0.9863\n",
            "Epoch 10/10\n",
            "17/17 [==============================] - 18s 1s/step - loss: 0.1383 - accuracy: 0.9566 - val_loss: 0.0225 - val_accuracy: 0.9909\n"
          ],
          "name": "stdout"
        }
      ]
    },
    {
      "cell_type": "code",
      "metadata": {
        "colab": {
          "base_uri": "https://localhost:8080/"
        },
        "id": "4HLXEH0Tx6HH",
        "outputId": "ee57ece3-8b8f-44b5-d403-1b017a227517"
      },
      "source": [
        "history2 = model2.fit(train_generator,epochs=10,batch_size=50,shuffle=True,validation_data=validation_generator)"
      ],
      "execution_count": null,
      "outputs": [
        {
          "output_type": "stream",
          "text": [
            "Epoch 1/10\n",
            "17/17 [==============================] - 20s 1s/step - loss: 99.7122 - accuracy: 0.4597 - val_loss: 0.5281 - val_accuracy: 0.7991\n",
            "Epoch 2/10\n",
            "17/17 [==============================] - 18s 1s/step - loss: 0.6149 - accuracy: 0.7943 - val_loss: 0.4009 - val_accuracy: 0.8402\n",
            "Epoch 3/10\n",
            "17/17 [==============================] - 18s 1s/step - loss: 0.4458 - accuracy: 0.8686 - val_loss: 0.2734 - val_accuracy: 0.9224\n",
            "Epoch 4/10\n",
            "17/17 [==============================] - 18s 1s/step - loss: 0.3311 - accuracy: 0.8934 - val_loss: 0.1161 - val_accuracy: 0.9498\n",
            "Epoch 5/10\n",
            "17/17 [==============================] - 18s 1s/step - loss: 0.2494 - accuracy: 0.9207 - val_loss: 0.0301 - val_accuracy: 1.0000\n",
            "Epoch 6/10\n",
            "17/17 [==============================] - 18s 1s/step - loss: 0.2363 - accuracy: 0.9145 - val_loss: 0.0727 - val_accuracy: 0.9772\n",
            "Epoch 7/10\n",
            "17/17 [==============================] - 18s 1s/step - loss: 0.1591 - accuracy: 0.9616 - val_loss: 0.0647 - val_accuracy: 0.9772\n",
            "Epoch 8/10\n",
            "17/17 [==============================] - 18s 1s/step - loss: 0.0572 - accuracy: 0.9789 - val_loss: 0.0111 - val_accuracy: 0.9954\n",
            "Epoch 9/10\n",
            "17/17 [==============================] - 18s 1s/step - loss: 0.0519 - accuracy: 0.9814 - val_loss: 0.0387 - val_accuracy: 0.9909\n",
            "Epoch 10/10\n",
            "17/17 [==============================] - 18s 1s/step - loss: 0.0890 - accuracy: 0.9727 - val_loss: 0.0137 - val_accuracy: 1.0000\n"
          ],
          "name": "stdout"
        }
      ]
    },
    {
      "cell_type": "code",
      "metadata": {
        "colab": {
          "base_uri": "https://localhost:8080/"
        },
        "id": "6yR2TJGQx5He",
        "outputId": "0cb51e48-9b9a-4da1-fc8f-6cb3033064b5"
      },
      "source": [
        "history1 = model1.fit(train_generator,epochs=10,batch_size=50,shuffle=True,validation_data=validation_generator)"
      ],
      "execution_count": null,
      "outputs": [
        {
          "output_type": "stream",
          "text": [
            "Epoch 1/10\n",
            "17/17 [==============================] - 19s 1s/step - loss: 1.7541 - accuracy: 0.3222 - val_loss: 1.2214 - val_accuracy: 0.5479\n",
            "Epoch 2/10\n",
            "17/17 [==============================] - 18s 1s/step - loss: 1.2411 - accuracy: 0.5774 - val_loss: 0.9253 - val_accuracy: 0.7397\n",
            "Epoch 3/10\n",
            "17/17 [==============================] - 18s 1s/step - loss: 0.8387 - accuracy: 0.7224 - val_loss: 0.4109 - val_accuracy: 0.8402\n",
            "Epoch 4/10\n",
            "17/17 [==============================] - 18s 1s/step - loss: 0.7292 - accuracy: 0.7460 - val_loss: 0.3973 - val_accuracy: 0.8767\n",
            "Epoch 5/10\n",
            "17/17 [==============================] - 18s 1s/step - loss: 0.5532 - accuracy: 0.8079 - val_loss: 0.2625 - val_accuracy: 0.9224\n",
            "Epoch 6/10\n",
            "17/17 [==============================] - 18s 1s/step - loss: 0.6308 - accuracy: 0.7931 - val_loss: 0.4737 - val_accuracy: 0.8721\n",
            "Epoch 7/10\n",
            "17/17 [==============================] - 18s 1s/step - loss: 0.6434 - accuracy: 0.7869 - val_loss: 0.3243 - val_accuracy: 0.8813\n",
            "Epoch 8/10\n",
            "17/17 [==============================] - 18s 1s/step - loss: 0.7298 - accuracy: 0.7819 - val_loss: 0.3449 - val_accuracy: 0.8904\n",
            "Epoch 9/10\n",
            "17/17 [==============================] - 17s 1s/step - loss: 0.6654 - accuracy: 0.7522 - val_loss: 0.4452 - val_accuracy: 0.8539\n",
            "Epoch 10/10\n",
            "17/17 [==============================] - 18s 1s/step - loss: 0.5454 - accuracy: 0.8290 - val_loss: 0.2635 - val_accuracy: 0.8813\n"
          ],
          "name": "stdout"
        }
      ]
    },
    {
      "cell_type": "code",
      "metadata": {
        "colab": {
          "base_uri": "https://localhost:8080/"
        },
        "id": "_ZIcv2G2VJhq",
        "outputId": "18633708-5002-485e-c4b9-0cb257265145"
      },
      "source": [
        "history = model.fit(train_generator,epochs=10,batch_size=50,shuffle=True,validation_data=validation_generator)"
      ],
      "execution_count": null,
      "outputs": [
        {
          "output_type": "stream",
          "text": [
            "Epoch 1/10\n",
            "17/17 [==============================] - 155s 9s/step - loss: 45.4376 - accuracy: 0.4114 - val_loss: 0.6176 - val_accuracy: 0.7717\n",
            "Epoch 2/10\n",
            "17/17 [==============================] - 18s 1s/step - loss: 0.6672 - accuracy: 0.7670 - val_loss: 0.2997 - val_accuracy: 0.9132\n",
            "Epoch 3/10\n",
            "17/17 [==============================] - 18s 1s/step - loss: 0.4646 - accuracy: 0.8451 - val_loss: 0.1906 - val_accuracy: 0.9361\n",
            "Epoch 4/10\n",
            "17/17 [==============================] - 18s 1s/step - loss: 0.2903 - accuracy: 0.8910 - val_loss: 0.1796 - val_accuracy: 0.9635\n",
            "Epoch 5/10\n",
            "17/17 [==============================] - 18s 1s/step - loss: 0.1964 - accuracy: 0.9393 - val_loss: 0.0588 - val_accuracy: 0.9817\n",
            "Epoch 6/10\n",
            "17/17 [==============================] - 18s 1s/step - loss: 0.1777 - accuracy: 0.9418 - val_loss: 0.0403 - val_accuracy: 0.9863\n",
            "Epoch 7/10\n",
            "17/17 [==============================] - 18s 1s/step - loss: 0.1490 - accuracy: 0.9579 - val_loss: 0.0329 - val_accuracy: 0.9909\n",
            "Epoch 8/10\n",
            "17/17 [==============================] - 18s 1s/step - loss: 0.1318 - accuracy: 0.9542 - val_loss: 0.0723 - val_accuracy: 0.9817\n",
            "Epoch 9/10\n",
            "17/17 [==============================] - 18s 1s/step - loss: 0.1464 - accuracy: 0.9529 - val_loss: 0.0770 - val_accuracy: 0.9726\n",
            "Epoch 10/10\n",
            "17/17 [==============================] - 18s 1s/step - loss: 0.1287 - accuracy: 0.9603 - val_loss: 0.0256 - val_accuracy: 0.9909\n"
          ],
          "name": "stdout"
        }
      ]
    },
    {
      "cell_type": "code",
      "metadata": {
        "colab": {
          "base_uri": "https://localhost:8080/",
          "height": 281
        },
        "id": "UMhbhpZHdulR",
        "outputId": "ca7d41bd-a8f8-433b-fa47-c27e18fe5610"
      },
      "source": [
        "acc = history.history['accuracy']\n",
        "val_acc = history.history['val_accuracy']\n",
        "loss = history.history['loss']\n",
        "val_loss = history.history['val_loss']\n",
        "\n",
        "epochs = range(len(acc))\n",
        "\n",
        "plt.plot(epochs, acc, 'r', label='Training accuracy')\n",
        "plt.plot(epochs, val_acc, 'b', label='Validation accuracy')\n",
        "plt.title('Training and validation accuracy with 256 neurons')\n",
        "plt.legend(loc=0)\n",
        "plt.grid()\n",
        "plt.show()"
      ],
      "execution_count": null,
      "outputs": [
        {
          "output_type": "display_data",
          "data": {
            "image/png": "[encoded data removed]",
            "text/plain": [
              "<Figure size 432x288 with 1 Axes>"
            ]
          },
          "metadata": {
            "tags": []
          }
        }
      ]
    },
    {
      "cell_type": "code",
      "metadata": {
        "colab": {
          "base_uri": "https://localhost:8080/",
          "height": 281
        },
        "id": "y-1a1H6s2ehr",
        "outputId": "d7715736-16dd-435f-88d4-60c084b76d7a"
      },
      "source": [
        "acc = history1.history['accuracy']\n",
        "val_acc = history1.history['val_accuracy']\n",
        "loss = history1.history['loss']\n",
        "val_loss = history1.history['val_loss']\n",
        "\n",
        "epochs = range(len(acc))\n",
        "\n",
        "plt.plot(epochs, acc, 'r', label='Training accuracy')\n",
        "plt.plot(epochs, val_acc, 'b', label='Validation accuracy')\n",
        "plt.title('Training and validation accuracy with 256 neurons')\n",
        "plt.legend(loc=0)\n",
        "plt.grid()\n",
        "plt.show()"
      ],
      "execution_count": null,
      "outputs": [
        {
          "output_type": "display_data",
          "data": {
            "image/png": "[encoded data removed]",
            "text/plain": [
              "<Figure size 432x288 with 1 Axes>"
            ]
          },
          "metadata": {
            "tags": []
          }
        }
      ]
    },
    {
      "cell_type": "code",
      "metadata": {
        "colab": {
          "base_uri": "https://localhost:8080/",
          "height": 281
        },
        "id": "Wc5OVdKQ2fhq",
        "outputId": "e5c3b307-f5dd-43f5-dd71-6ca74a6f3178"
      },
      "source": [
        "acc = history2.history['accuracy']\n",
        "val_acc = history2.history['val_accuracy']\n",
        "loss = history2.history['loss']\n",
        "val_loss = history2.history['val_loss']\n",
        "\n",
        "epochs = range(len(acc))\n",
        "\n",
        "plt.plot(epochs, acc, 'r', label='Training accuracy')\n",
        "plt.plot(epochs, val_acc, 'b', label='Validation accuracy')\n",
        "plt.title('Training and validation accuracy with 256 neurons')\n",
        "plt.legend(loc=0)\n",
        "plt.grid()\n",
        "plt.show()"
      ],
      "execution_count": null,
      "outputs": [
        {
          "output_type": "display_data",
          "data": {
            "image/png": "[encoded data removed]",
            "text/plain": [
              "<Figure size 432x288 with 1 Axes>"
            ]
          },
          "metadata": {
            "tags": []
          }
        }
      ]
    },
    {
      "cell_type": "code",
      "metadata": {
        "colab": {
          "base_uri": "https://localhost:8080/",
          "height": 281
        },
        "id": "wr-eBs1P2gVb",
        "outputId": "9f9ad413-7479-45bd-8b6b-e155ff0b1462"
      },
      "source": [
        "acc = history3.history['accuracy']\n",
        "val_acc = history3.history['val_accuracy']\n",
        "loss = history3.history['loss']\n",
        "val_loss = history3.history['val_loss']\n",
        "\n",
        "epochs = range(len(acc))\n",
        "\n",
        "plt.plot(epochs, acc, 'r', label='Training accuracy')\n",
        "plt.plot(epochs, val_acc, 'b', label='Validation accuracy')\n",
        "plt.title('Training and validation accuracy with 256 neurons')\n",
        "plt.legend(loc=0)\n",
        "plt.grid()\n",
        "plt.show()"
      ],
      "execution_count": null,
      "outputs": [
        {
          "output_type": "display_data",
          "data": {
            "image/png": "[encoded data removed]",
            "text/plain": [
              "<Figure size 432x288 with 1 Axes>"
            ]
          },
          "metadata": {
            "tags": []
          }
        }
      ]
    },
    {
      "cell_type": "code",
      "metadata": {
        "colab": {
          "base_uri": "https://localhost:8080/",
          "height": 354
        },
        "id": "idIASjgWgFnv",
        "outputId": "0af72758-428e-4202-cf92-b43b4e1fa9a9"
      },
      "source": [
        "print(emotion)\n",
        "image = cv2.imread('image33.jpg',0)\n",
        "cv2_imshow(image)\n",
        "image = ppreprocessing(image)\n",
        "image = np.array(image)\n",
        "cv2_imshow(image)\n",
        "image = image.reshape(1,100,100,1)\n",
        "print(source[np.argmax(model.predict(image))])\n",
        "#print(model.predict(image))"
      ],
      "execution_count": null,
      "outputs": [
        {
          "output_type": "stream",
          "text": [
            "['fear', 'contempt', 'disgust', 'surprise', 'happy', 'anger', 'sadness']\n"
          ],
          "name": "stdout"
        },
        {
          "output_type": "display_data",
          "data": {
            "image/png": "[encoded data removed]",
            "text/plain": [
              "<PIL.Image.Image image mode=L size=275x183 at 0x7FEF392E9810>"
            ]
          },
          "metadata": {
            "tags": []
          }
        },
        {
          "output_type": "display_data",
          "data": {
            "image/png": "[encoded data removed]",
            "text/plain": [
              "<PIL.Image.Image image mode=RGB size=100x100 at 0x7FEF391DCED0>"
            ]
          },
          "metadata": {
            "tags": []
          }
        },
        {
          "output_type": "stream",
          "text": [
            "anger\n",
            "[[9.20e-01 8.89e-36 1.71e-05 4.04e-07 0.00e+00 8.04e-02 0.00e+00]]\n"
          ],
          "name": "stdout"
        }
      ]
    },
    {
      "cell_type": "code",
      "metadata": {
        "id": "9WhbvVCfIqSX"
      },
      "source": [
        "from scipy import stats"
      ],
      "execution_count": null,
      "outputs": []
    },
    {
      "cell_type": "code",
      "metadata": {
        "id": "kbzPeMHk5PwX"
      },
      "source": [
        "def ppreprocessing(images):  \n",
        " # A function for overall preprocessing including alignment ,cropping and normalization\n",
        "  images = face_align(images)\n",
        "  #cv2_imshow(images)\n",
        "  images = face_cropping_without_forehead(images)\n",
        "  #print('hey')\n",
        "  #cv2_imshow(images)\n",
        "#  print(images.shape)\n",
        "  images = histogram_equilization(images)\n",
        "  #cv2_imshow(images)\n",
        " # print(images)\n",
        "  #print('hey')\n",
        "  \n",
        " # normalized_img = stats.zscore(images)\n",
        "  #images = normalized_img*255\n",
        "  #images = cv2.cvtColor(images,cv2.COLOR_BGR2GRAY)\n",
        "  images = cv2.resize(images,(100,100))\n",
        "  images = np.array(images)\n",
        "  try:\n",
        "    images = images.reshape(100,100,1)\n",
        "  except:\n",
        "    return images\n",
        "  return images\n"
      ],
      "execution_count": null,
      "outputs": []
    },
    {
      "cell_type": "code",
      "metadata": {
        "id": "Mupq7Kn6dFS0"
      },
      "source": [
        "import itertools\n",
        "from sklearn.metrics import confusion_matrix,classification_report"
      ],
      "execution_count": null,
      "outputs": []
    },
    {
      "cell_type": "code",
      "metadata": {
        "colab": {
          "base_uri": "https://localhost:8080/",
          "height": 382
        },
        "id": "6IUsxHDKXDKv",
        "outputId": "e4b4dca1-7e3e-4770-cef7-8e900664af94"
      },
      "source": [
        "emotion = os.listdir('/content/drive/MyDrive/traindataset')\n",
        "print(emotion)\n",
        "def plot_confusion_matrix(cm, classes,\n",
        "                          normalize=False,\n",
        "                          title='Confusion matrix',\n",
        "                          cmap=plt.cm.Blues):\n",
        "    \"\"\"\n",
        "    This function prints and plots the confusion matrix.\n",
        "    Normalization can be applied by setting `normalize=True`.\n",
        "    \"\"\"\n",
        "    plt.imshow(cm, interpolation='nearest', cmap=cmap)\n",
        "    plt.title(title)\n",
        "    plt.colorbar()\n",
        "    tick_marks = np.arange(7)\n",
        "    plt.xticks(tick_marks, classes, rotation=45)\n",
        "    plt.yticks(tick_marks, classes)\n",
        "\n",
        "    if normalize:\n",
        "        cm = cm.astype('float') / cm.sum(axis=1)[:, np.newaxis]\n",
        "        print(\"Normalized confusion matrix\")\n",
        "    else:\n",
        "        print('Confusion matrix, without normalization')\n",
        "\n",
        "    #print(cm)\n",
        "    \n",
        "    thresh = cm.max() / 2.\n",
        "    print(thresh)\n",
        "    for i, j in itertools.product(range(cm.shape[0]), range(cm.shape[1])):\n",
        "        plt.text(j, i, cm[i, j],\n",
        "                 horizontalalignment=\"center\",\n",
        "                 color=\"white\" if cm[i, j] > thresh else \"black\")\n",
        "\n",
        "    plt.tight_layout()\n",
        "    plt.ylabel('True label')\n",
        "    plt.xlabel('Predicted label')\n",
        "\n",
        "#y_pred=model.predict(validation_generator)\n",
        "print(len(validation_generator.classes))\n",
        "predictions = model.predict(validation_generator)\n",
        "predictions1 = model1.predict(validation_generator)\n",
        "predictions2 = model2.predict(validation_generator)\n",
        "predictions3 = model3.predict(validation_generator)\n",
        "\n",
        "y_pred = np.argmax(predictions, axis=1)\n",
        "y_pred1 = np.argmax(predictions1, axis=1)\n",
        "y_pred2 = np.argmax(predictions2, axis=1)\n",
        "y_pred3 = np.argmax(predictions3, axis=1)\n",
        "#print(y_pred)\n",
        "\n",
        "#confusion matrix\n",
        "cnf_matrix = confusion_matrix(validation_generator.classes, y_pred)\n",
        "np.set_printoptions(precision=2)\n",
        "cnf_matrix1 = confusion_matrix(validation_generator.classes, y_pred1)\n",
        "np.set_printoptions(precision=2)\n",
        "cnf_matrix2 = confusion_matrix(validation_generator.classes, y_pred2)\n",
        "np.set_printoptions(precision=2)\n",
        "cnf_matrix3 = confusion_matrix(validation_generator.classes, y_pred3)\n",
        "np.set_printoptions(precision=2)\n",
        "\n",
        "#non-normalized confusion matrix\n",
        "plt.figure()\n",
        "plot_confusion_matrix(cnf_matrix, classes=emotion,\n",
        "                      title='Confusion matrix, without normalization')\n",
        "\n",
        "plt.show()"
      ],
      "execution_count": null,
      "outputs": [
        {
          "output_type": "stream",
          "text": [
            "['fear', 'contempt', 'disgust', 'surprise', 'happy', 'anger', 'sadness']\n",
            "219\n",
            "Confusion matrix, without normalization\n",
            "7.5\n"
          ],
          "name": "stdout"
        },
        {
          "output_type": "display_data",
          "data": {
            "image/png": "[encoded data removed]",
            "text/plain": [
              "<Figure size 432x288 with 2 Axes>"
            ]
          },
          "metadata": {
            "tags": []
          }
        }
      ]
    },
    {
      "cell_type": "code",
      "metadata": {
        "colab": {
          "base_uri": "https://localhost:8080/",
          "height": 347
        },
        "id": "bWwVkHD458rH",
        "outputId": "4982b33a-2c07-4fae-f3b6-30a8b4f5ef9f"
      },
      "source": [
        "#model1\n",
        "plot_confusion_matrix(cnf_matrix2, classes=emotion,\n",
        "                      title='Confusion matrix, without normalization')"
      ],
      "execution_count": null,
      "outputs": [
        {
          "output_type": "stream",
          "text": [
            "Confusion matrix, without normalization\n",
            "6.0\n"
          ],
          "name": "stdout"
        },
        {
          "output_type": "display_data",
          "data": {
            "image/png": "[encoded data removed]",
            "text/plain": [
              "<Figure size 432x288 with 2 Axes>"
            ]
          },
          "metadata": {
            "tags": []
          }
        }
      ]
    },
    {
      "cell_type": "code",
      "metadata": {
        "colab": {
          "base_uri": "https://localhost:8080/",
          "height": 347
        },
        "id": "-m1HH39A532T",
        "outputId": "85767082-9804-45d5-af0d-31e586280c08"
      },
      "source": [
        "#model2\n",
        "plot_confusion_matrix(cnf_matrix1, classes=emotion,\n",
        "                      title='Confusion matrix, without normalization')"
      ],
      "execution_count": null,
      "outputs": [
        {
          "output_type": "stream",
          "text": [
            "Confusion matrix, without normalization\n",
            "7.0\n"
          ],
          "name": "stdout"
        },
        {
          "output_type": "display_data",
          "data": {
            "image/png": "[encoded data removed]",
            "text/plain": [
              "<Figure size 432x288 with 2 Axes>"
            ]
          },
          "metadata": {
            "tags": []
          }
        }
      ]
    },
    {
      "cell_type": "code",
      "metadata": {
        "colab": {
          "base_uri": "https://localhost:8080/",
          "height": 347
        },
        "id": "SFp-1Pk-6CRX",
        "outputId": "30262095-3fa7-4a72-d1cb-8f6bf7a8a0b3"
      },
      "source": [
        "#mdel3\n",
        "plot_confusion_matrix(cnf_matrix3, classes=emotion,\n",
        "                      title='Confusion matrix, without normalization')"
      ],
      "execution_count": null,
      "outputs": [
        {
          "output_type": "stream",
          "text": [
            "Confusion matrix, without normalization\n",
            "7.0\n"
          ],
          "name": "stdout"
        },
        {
          "output_type": "display_data",
          "data": {
            "image/png": "[encoded data removed]",
            "text/plain": [
              "<Figure size 432x288 with 2 Axes>"
            ]
          },
          "metadata": {
            "tags": []
          }
        }
      ]
    },
    {
      "cell_type": "code",
      "metadata": {
        "id": "A1Sln_-I-h_A"
      },
      "source": [
        "import os\n",
        "#os.makedirs('/content/drive/My Drive/kfold')\n",
        "for i in range(0,10):\n",
        "  os.makedirs('/content/drive/My Drive/kfold/'+str(i))\n",
        "  os.makedirs('/content/drive/My Drive/kfold/'+str(i)+'/train')\n",
        "  os.makedirs('/content/drive/My Drive/kfold/'+str(i)+'/test')\n",
        "  for j in os.listdir('/content/drive/My Drive/dataset/CK+48'):\n",
        "    os.makedirs('/content/drive/My Drive/kfold/'+str(i)+'/train/'+j)\n",
        "    os.makedirs('/content/drive/My Drive/kfold/'+str(i)+'/test/'+j)"
      ],
      "execution_count": null,
      "outputs": []
    },
    {
      "cell_type": "code",
      "metadata": {
        "id": "npoF-nfAmg0i"
      },
      "source": [
        "for i in range(0,10):\n",
        "  totalfold='/content/drive/My Drive/kfold/'+str(i)\n",
        "  testfold = '/content/drive/My Drive/kfold/' + str(i) + '/test'\n",
        "  trainfold = '/content/drive/My Drive/kfold/' + str(i) + '/train'\n",
        "  for j in os.listdir(trainfold):\n",
        "    emotion_train_fold = trainfold + '/' + j\n",
        "    emotion_test_fold = testfold + '/' + j\n",
        "    emotion_source = '/content/drive/My Drive/dataset/CK+48/' + j\n",
        "    length = len(os.listdir(emotion_source))\n",
        "    initial_size = int(i*length/10)\n",
        "    final_size = int((i+1)*length/10)\n",
        "    files = []\n",
        "    for k in os.listdir(emotion_source):\n",
        "      path = emotion_source + '/' + k \n",
        "      files.append(k)\n",
        "    testing_set = files[initial_size:final_size]\n",
        "    training_set = []\n",
        "    for n in files:\n",
        "      if n not in testing_set:\n",
        "        training_set.append(n)\n",
        "    for filename in training_set:\n",
        "      src = emotion_source + '/' + filename\n",
        "      des = emotion_train_fold + '/' + filename\n",
        "      copyfile(src,des)\n",
        "    for filename in testing_set:\n",
        "      src = emotion_source + '/' + filename\n",
        "      des = emotion_test_fold + '/' + filename\n",
        "      copyfile(src,des)"
      ],
      "execution_count": null,
      "outputs": []
    },
    {
      "cell_type": "code",
      "metadata": {
        "colab": {
          "base_uri": "https://localhost:8080/"
        },
        "id": "M2T_Ory7D4eC",
        "outputId": "5306912d-ee10-40c7-9e45-20458e1123ca"
      },
      "source": [
        "tot_accuracy=0\n",
        "for i in range(0,10):\n",
        "  fold_path = '/content/drive/My Drive/kfold/' + str(i)\n",
        "  TRAINING_DIR = train_fold = '/content/drive/My Drive/kfold/' + str(i) + '/train'\n",
        "  train_datagen = ImageDataGenerator(rescale=1./255,\n",
        "      horizontal_flip=True,\n",
        "      rotation_range=2,                          \n",
        "      preprocessing_function=ppreprocessing\n",
        "      )\n",
        "  train_generator = train_datagen.flow_from_directory(TRAINING_DIR,\n",
        "                                                    batch_size=50,\n",
        "                                                    class_mode='categorical',\n",
        "                                                    target_size=(100,100),\n",
        "                                                    shuffle=True,\n",
        "                                                    color_mode='grayscale')\n",
        "\n",
        "  VALIDATION_DIR = '/content/drive/My Drive/kfold/' + str(i) + '/test'\n",
        "  validation_datagen = ImageDataGenerator(\n",
        "    rescale=1./255,\n",
        "      horizontal_flip=True,\n",
        "      rotation_range=2,\n",
        "      preprocessing_function=ppreprocessing\n",
        "      )\n",
        "  validation_generator = validation_datagen.flow_from_directory(VALIDATION_DIR,\n",
        "                                                              batch_size=50,\n",
        "                                                              class_mode='categorical',\n",
        "                                                              target_size=(100,100),\n",
        "                                                              shuffle=True,\n",
        "                                                    color_mode='grayscale')\n",
        "  validation_generator.shuffle = False\n",
        "  validation_generator.index_array = None\n",
        "  model = func1_256_neuron(7)\n",
        "  model.compile(optimizer = 'adam', loss = 'categorical_crossentropy',metrics = ['accuracy'])\n",
        "  history = model.fit(train_generator,epochs=10,batch_size=50,shuffle=True)\n",
        "  test_loss,test_acc=model.evaluate(validation_generator)\n",
        "  tot_accuracy=tot_accuracy+test_acc\n",
        "avg_acc=tot_accuracy/10\n",
        "print(avg_acc)"
      ],
      "execution_count": null,
      "outputs": [
        {
          "output_type": "stream",
          "text": [
            "Found 887 images belonging to 7 classes.\n",
            "Found 94 images belonging to 7 classes.\n",
            "Epoch 1/10\n",
            "18/18 [==============================] - 20s 1s/step - loss: 2.2914 - accuracy: 0.3439\n",
            "Epoch 2/10\n",
            "18/18 [==============================] - 20s 1s/step - loss: 1.0609 - accuracy: 0.6460\n",
            "Epoch 3/10\n",
            "18/18 [==============================] - 19s 1s/step - loss: 0.6101 - accuracy: 0.7937\n",
            "Epoch 4/10\n",
            "18/18 [==============================] - 20s 1s/step - loss: 0.4276 - accuracy: 0.8602\n",
            "Epoch 5/10\n",
            "18/18 [==============================] - 20s 1s/step - loss: 0.2978 - accuracy: 0.9030\n",
            "Epoch 6/10\n",
            "18/18 [==============================] - 21s 1s/step - loss: 0.2216 - accuracy: 0.9267\n",
            "Epoch 7/10\n",
            "18/18 [==============================] - 21s 1s/step - loss: 0.1779 - accuracy: 0.9436\n",
            "Epoch 8/10\n",
            "18/18 [==============================] - 20s 1s/step - loss: 0.1438 - accuracy: 0.9493\n",
            "Epoch 9/10\n",
            "18/18 [==============================] - 19s 1s/step - loss: 0.1190 - accuracy: 0.9572\n",
            "Epoch 10/10\n",
            "18/18 [==============================] - 20s 1s/step - loss: 0.1054 - accuracy: 0.9617\n",
            "2/2 [==============================] - 2s 1s/step - loss: 0.0990 - accuracy: 0.9468\n",
            "Found 882 images belonging to 7 classes.\n",
            "Found 99 images belonging to 7 classes.\n",
            "Epoch 1/10\n",
            "18/18 [==============================] - 20s 1s/step - loss: 1.7219 - accuracy: 0.4943\n",
            "Epoch 2/10\n",
            "18/18 [==============================] - 19s 1s/step - loss: 0.7461 - accuracy: 0.7222\n",
            "Epoch 3/10\n",
            "18/18 [==============================] - 20s 1s/step - loss: 0.4857 - accuracy: 0.8265\n",
            "Epoch 4/10\n",
            "18/18 [==============================] - 20s 1s/step - loss: 0.3284 - accuracy: 0.8798\n",
            "Epoch 5/10\n",
            "18/18 [==============================] - 20s 1s/step - loss: 0.2524 - accuracy: 0.9172\n",
            "Epoch 6/10\n",
            "18/18 [==============================] - 20s 1s/step - loss: 0.1700 - accuracy: 0.9399\n",
            "Epoch 7/10\n",
            "18/18 [==============================] - 20s 1s/step - loss: 0.1227 - accuracy: 0.9626\n",
            "Epoch 8/10\n",
            "18/18 [==============================] - 20s 1s/step - loss: 0.1028 - accuracy: 0.9671\n",
            "Epoch 9/10\n",
            "18/18 [==============================] - 20s 1s/step - loss: 0.1132 - accuracy: 0.9649\n",
            "Epoch 10/10\n",
            "18/18 [==============================] - 20s 1s/step - loss: 0.0706 - accuracy: 0.9796\n",
            "2/2 [==============================] - 3s 1s/step - loss: 0.0899 - accuracy: 0.9697\n",
            "Found 882 images belonging to 7 classes.\n",
            "Found 99 images belonging to 7 classes.\n",
            "Epoch 1/10\n",
            "18/18 [==============================] - 20s 1s/step - loss: 1.8969 - accuracy: 0.4206\n",
            "Epoch 2/10\n",
            "18/18 [==============================] - 19s 1s/step - loss: 0.8396 - accuracy: 0.7143\n",
            "Epoch 3/10\n",
            "18/18 [==============================] - 19s 1s/step - loss: 0.5337 - accuracy: 0.8243\n",
            "Epoch 4/10\n",
            "18/18 [==============================] - 20s 1s/step - loss: 0.3855 - accuracy: 0.8662\n",
            "Epoch 5/10\n",
            "18/18 [==============================] - 19s 1s/step - loss: 0.2485 - accuracy: 0.9218\n",
            "Epoch 6/10\n",
            "18/18 [==============================] - 19s 1s/step - loss: 0.1500 - accuracy: 0.9501\n",
            "Epoch 7/10\n",
            "18/18 [==============================] - 20s 1s/step - loss: 0.1502 - accuracy: 0.9524\n",
            "Epoch 8/10\n",
            "18/18 [==============================] - 20s 1s/step - loss: 0.1126 - accuracy: 0.9649\n",
            "Epoch 9/10\n",
            "18/18 [==============================] - 21s 1s/step - loss: 0.1125 - accuracy: 0.9671\n",
            "Epoch 10/10\n",
            "18/18 [==============================] - 20s 1s/step - loss: 0.0822 - accuracy: 0.9728\n",
            "2/2 [==============================] - 2s 1s/step - loss: 0.0571 - accuracy: 0.9798\n",
            "Found 884 images belonging to 7 classes.\n",
            "Found 97 images belonging to 7 classes.\n",
            "Epoch 1/10\n",
            "18/18 [==============================] - 21s 1s/step - loss: 1.7965 - accuracy: 0.3959\n",
            "Epoch 2/10\n",
            "18/18 [==============================] - 21s 1s/step - loss: 0.8316 - accuracy: 0.7217\n",
            "Epoch 3/10\n",
            "18/18 [==============================] - 20s 1s/step - loss: 0.4621 - accuracy: 0.8405\n",
            "Epoch 4/10\n",
            "18/18 [==============================] - 19s 1s/step - loss: 0.3447 - accuracy: 0.8824\n",
            "Epoch 5/10\n",
            "18/18 [==============================] - 19s 1s/step - loss: 0.2667 - accuracy: 0.9197\n",
            "Epoch 6/10\n",
            "18/18 [==============================] - 19s 1s/step - loss: 0.1640 - accuracy: 0.9400\n",
            "Epoch 7/10\n",
            "18/18 [==============================] - 19s 1s/step - loss: 0.1369 - accuracy: 0.9593\n",
            "Epoch 8/10\n",
            "18/18 [==============================] - 19s 1s/step - loss: 0.1026 - accuracy: 0.9683\n",
            "Epoch 9/10\n",
            "18/18 [==============================] - 19s 1s/step - loss: 0.0817 - accuracy: 0.9740\n",
            "Epoch 10/10\n",
            "18/18 [==============================] - 19s 1s/step - loss: 0.0752 - accuracy: 0.9785\n",
            "WARNING:tensorflow:5 out of the last 57 calls to <function Model.make_test_function.<locals>.test_function at 0x7fef39131320> triggered tf.function retracing. Tracing is expensive and the excessive number of tracings could be due to (1) creating @tf.function repeatedly in a loop, (2) passing tensors with different shapes, (3) passing Python objects instead of tensors. For (1), please define your @tf.function outside of the loop. For (2), @tf.function has experimental_relax_shapes=True option that relaxes argument shapes that can avoid unnecessary retracing. For (3), please refer to https://www.tensorflow.org/guide/function#controlling_retracing and https://www.tensorflow.org/api_docs/python/tf/function for  more details.\n",
            "2/2 [==============================] - 2s 1s/step - loss: 0.0287 - accuracy: 1.0000\n",
            "Found 882 images belonging to 7 classes.\n",
            "Found 99 images belonging to 7 classes.\n",
            "Epoch 1/10\n",
            "18/18 [==============================] - 20s 1s/step - loss: 2.1380 - accuracy: 0.3719\n",
            "Epoch 2/10\n",
            "18/18 [==============================] - 19s 1s/step - loss: 0.9425 - accuracy: 0.6701\n",
            "Epoch 3/10\n",
            "18/18 [==============================] - 19s 1s/step - loss: 0.5479 - accuracy: 0.8061\n",
            "Epoch 4/10\n",
            "18/18 [==============================] - 20s 1s/step - loss: 0.4040 - accuracy: 0.8753\n",
            "Epoch 5/10\n",
            "18/18 [==============================] - 20s 1s/step - loss: 0.3291 - accuracy: 0.8719\n",
            "Epoch 6/10\n",
            "18/18 [==============================] - 20s 1s/step - loss: 0.2548 - accuracy: 0.9184\n",
            "Epoch 7/10\n",
            "18/18 [==============================] - 19s 1s/step - loss: 0.2532 - accuracy: 0.9059\n",
            "Epoch 8/10\n",
            "18/18 [==============================] - 19s 1s/step - loss: 0.1896 - accuracy: 0.9320\n",
            "Epoch 9/10\n",
            "18/18 [==============================] - 19s 1s/step - loss: 0.1612 - accuracy: 0.9444\n",
            "Epoch 10/10\n",
            "18/18 [==============================] - 20s 1s/step - loss: 0.1385 - accuracy: 0.9558\n",
            "WARNING:tensorflow:6 out of the last 59 calls to <function Model.make_test_function.<locals>.test_function at 0x7fef356eb200> triggered tf.function retracing. Tracing is expensive and the excessive number of tracings could be due to (1) creating @tf.function repeatedly in a loop, (2) passing tensors with different shapes, (3) passing Python objects instead of tensors. For (1), please define your @tf.function outside of the loop. For (2), @tf.function has experimental_relax_shapes=True option that relaxes argument shapes that can avoid unnecessary retracing. For (3), please refer to https://www.tensorflow.org/guide/function#controlling_retracing and https://www.tensorflow.org/api_docs/python/tf/function for  more details.\n",
            "2/2 [==============================] - 2s 1s/step - loss: 0.1255 - accuracy: 0.9697\n",
            "Found 882 images belonging to 7 classes.\n",
            "Found 99 images belonging to 7 classes.\n",
            "Epoch 1/10\n",
            "18/18 [==============================] - 20s 1s/step - loss: 1.9314 - accuracy: 0.4240\n",
            "Epoch 2/10\n",
            "18/18 [==============================] - 19s 1s/step - loss: 0.7775 - accuracy: 0.7052\n",
            "Epoch 3/10\n",
            "18/18 [==============================] - 19s 1s/step - loss: 0.4912 - accuracy: 0.8322\n",
            "Epoch 4/10\n",
            "18/18 [==============================] - 19s 1s/step - loss: 0.3232 - accuracy: 0.8844\n",
            "Epoch 5/10\n",
            "18/18 [==============================] - 19s 1s/step - loss: 0.2508 - accuracy: 0.9206\n",
            "Epoch 6/10\n",
            "18/18 [==============================] - 19s 1s/step - loss: 0.2208 - accuracy: 0.9252\n",
            "Epoch 7/10\n",
            "18/18 [==============================] - 19s 1s/step - loss: 0.1474 - accuracy: 0.9456\n",
            "Epoch 8/10\n",
            "18/18 [==============================] - 20s 1s/step - loss: 0.1240 - accuracy: 0.9637\n",
            "Epoch 9/10\n",
            "18/18 [==============================] - 20s 1s/step - loss: 0.1151 - accuracy: 0.9580\n",
            "Epoch 10/10\n",
            "18/18 [==============================] - 20s 1s/step - loss: 0.0730 - accuracy: 0.9785\n",
            "2/2 [==============================] - 2s 1s/step - loss: 0.1392 - accuracy: 0.9697\n",
            "Found 886 images belonging to 7 classes.\n",
            "Found 95 images belonging to 7 classes.\n",
            "Epoch 1/10\n",
            "18/18 [==============================] - 20s 1s/step - loss: 1.4676 - accuracy: 0.5463\n",
            "Epoch 2/10\n",
            "18/18 [==============================] - 19s 1s/step - loss: 0.6101 - accuracy: 0.7878\n",
            "Epoch 3/10\n",
            "18/18 [==============================] - 19s 1s/step - loss: 0.3843 - accuracy: 0.8781\n",
            "Epoch 4/10\n",
            "18/18 [==============================] - 19s 1s/step - loss: 0.2480 - accuracy: 0.9221\n",
            "Epoch 5/10\n",
            "18/18 [==============================] - 19s 1s/step - loss: 0.1763 - accuracy: 0.9470\n",
            "Epoch 6/10\n",
            "18/18 [==============================] - 19s 1s/step - loss: 0.1223 - accuracy: 0.9560\n",
            "Epoch 7/10\n",
            "18/18 [==============================] - 19s 1s/step - loss: 0.0943 - accuracy: 0.9729\n",
            "Epoch 8/10\n",
            "18/18 [==============================] - 19s 1s/step - loss: 0.0724 - accuracy: 0.9797\n",
            "Epoch 9/10\n",
            "18/18 [==============================] - 19s 1s/step - loss: 0.0592 - accuracy: 0.9831\n",
            "Epoch 10/10\n",
            "18/18 [==============================] - 20s 1s/step - loss: 0.0522 - accuracy: 0.9831\n",
            "2/2 [==============================] - 2s 1s/step - loss: 0.0183 - accuracy: 1.0000\n",
            "Found 880 images belonging to 7 classes.\n",
            "Found 101 images belonging to 7 classes.\n",
            "Epoch 1/10\n",
            "18/18 [==============================] - 20s 1s/step - loss: 1.9460 - accuracy: 0.4034\n",
            "Epoch 2/10\n",
            "18/18 [==============================] - 19s 1s/step - loss: 0.9588 - accuracy: 0.6864\n",
            "Epoch 3/10\n",
            "18/18 [==============================] - 20s 1s/step - loss: 0.5954 - accuracy: 0.7898\n",
            "Epoch 4/10\n",
            "18/18 [==============================] - 19s 1s/step - loss: 0.3978 - accuracy: 0.8648\n",
            "Epoch 5/10\n",
            "18/18 [==============================] - 19s 1s/step - loss: 0.2709 - accuracy: 0.9170\n",
            "Epoch 6/10\n",
            "18/18 [==============================] - 19s 1s/step - loss: 0.2188 - accuracy: 0.9239\n",
            "Epoch 7/10\n",
            "18/18 [==============================] - 18s 1s/step - loss: 0.1983 - accuracy: 0.9398\n",
            "Epoch 8/10\n",
            "18/18 [==============================] - 19s 1s/step - loss: 0.1359 - accuracy: 0.9636\n",
            "Epoch 9/10\n",
            "18/18 [==============================] - 18s 1s/step - loss: 0.0939 - accuracy: 0.9682\n",
            "Epoch 10/10\n",
            "18/18 [==============================] - 19s 1s/step - loss: 0.1020 - accuracy: 0.9670\n",
            "3/3 [==============================] - 2s 523ms/step - loss: 0.0548 - accuracy: 0.9802\n",
            "Found 884 images belonging to 7 classes.\n",
            "Found 97 images belonging to 7 classes.\n",
            "Epoch 1/10\n",
            "18/18 [==============================] - 19s 1s/step - loss: 2.0212 - accuracy: 0.3552\n",
            "Epoch 2/10\n",
            "18/18 [==============================] - 19s 1s/step - loss: 0.8745 - accuracy: 0.6878\n",
            "Epoch 3/10\n",
            "18/18 [==============================] - 20s 1s/step - loss: 0.5359 - accuracy: 0.8133\n",
            "Epoch 4/10\n",
            "18/18 [==============================] - 20s 1s/step - loss: 0.3779 - accuracy: 0.8631\n",
            "Epoch 5/10\n",
            "18/18 [==============================] - 19s 1s/step - loss: 0.3140 - accuracy: 0.8925\n",
            "Epoch 6/10\n",
            "18/18 [==============================] - 20s 1s/step - loss: 0.2385 - accuracy: 0.9152\n",
            "Epoch 7/10\n",
            "18/18 [==============================] - 19s 1s/step - loss: 0.2144 - accuracy: 0.9219\n",
            "Epoch 8/10\n",
            "18/18 [==============================] - 19s 1s/step - loss: 0.1648 - accuracy: 0.9389\n",
            "Epoch 9/10\n",
            "18/18 [==============================] - 19s 1s/step - loss: 0.1189 - accuracy: 0.9638\n",
            "Epoch 10/10\n",
            "18/18 [==============================] - 20s 1s/step - loss: 0.1036 - accuracy: 0.9604\n",
            "2/2 [==============================] - 2s 1s/step - loss: 0.0990 - accuracy: 0.9691\n",
            "Found 880 images belonging to 7 classes.\n",
            "Found 101 images belonging to 7 classes.\n",
            "Epoch 1/10\n",
            "18/18 [==============================] - 19s 1s/step - loss: 2.0567 - accuracy: 0.3977\n",
            "Epoch 2/10\n",
            "18/18 [==============================] - 20s 1s/step - loss: 0.8833 - accuracy: 0.6818\n",
            "Epoch 3/10\n",
            "18/18 [==============================] - 19s 1s/step - loss: 0.6077 - accuracy: 0.7886\n",
            "Epoch 4/10\n",
            "18/18 [==============================] - 19s 1s/step - loss: 0.4523 - accuracy: 0.8420\n",
            "Epoch 5/10\n",
            "18/18 [==============================] - 19s 1s/step - loss: 0.3671 - accuracy: 0.8693\n",
            "Epoch 6/10\n",
            "18/18 [==============================] - 19s 1s/step - loss: 0.2747 - accuracy: 0.9125\n",
            "Epoch 7/10\n",
            "18/18 [==============================] - 19s 1s/step - loss: 0.1913 - accuracy: 0.9364\n",
            "Epoch 8/10\n",
            "18/18 [==============================] - 19s 1s/step - loss: 0.1419 - accuracy: 0.9534\n",
            "Epoch 9/10\n",
            "18/18 [==============================] - 19s 1s/step - loss: 0.1358 - accuracy: 0.9568\n",
            "Epoch 10/10\n",
            "18/18 [==============================] - 19s 1s/step - loss: 0.1112 - accuracy: 0.9614\n",
            "3/3 [==============================] - 2s 528ms/step - loss: 0.0851 - accuracy: 0.9703\n",
            "0.9755264699459076\n"
          ],
          "name": "stdout"
        }
      ]
    }
  ]
}